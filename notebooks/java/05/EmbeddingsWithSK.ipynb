{
 "cells": [
  {
   "cell_type": "code",
   "execution_count": 1,
   "metadata": {},
   "outputs": [
    {
     "name": "stdout",
     "output_type": "stream",
     "text": [
      "Adding dependency \u001b[0m\u001b[1m\u001b[32mcom.microsoft.semantic-kernel:semantickernel-api:1.0.0-rc2\u001b[0m\u001b[0m\n",
      "Adding dependency \u001b[0m\u001b[1m\u001b[32mcom.microsoft.semantic-kernel:semantickernel-bom:1.0.0-rc2\u001b[0m\u001b[0m\n",
      "Adding dependency \u001b[0m\u001b[1m\u001b[32mcom.microsoft.semantic-kernel:semantickernel-parent:1.0.0-rc2\u001b[0m\u001b[0m\n",
      "Adding dependency \u001b[0m\u001b[1m\u001b[32mcom.microsoft.semantic-kernel:semantickernel-aiservices-openai:1.0.0-rc2\u001b[0m\u001b[0m\n",
      "Adding dependency override \u001b[0m\u001b[1m\u001b[32mcom.azure:azure-core:1.45.1\u001b[0m\u001b[0m\n",
      "Adding dependency override \u001b[0m\u001b[1m\u001b[32mcom.google.code.gson:gson:2.8.9\u001b[0m\u001b[0m\n",
      "Adding dependency override \u001b[0m\u001b[1m\u001b[32mcom.google.protobuf:protobuf-java:3.23.2\u001b[0m\u001b[0m\n",
      "Adding dependency override \u001b[0m\u001b[1m\u001b[32mcom.google.errorprone:error_prone_annotations:2.18.0\u001b[0m\u001b[0m\n",
      "Adding dependency override \u001b[0m\u001b[1m\u001b[32mcom.google.guava:guava:32.0.1-android\u001b[0m\u001b[0m\n",
      "Adding dependency override \u001b[0m\u001b[1m\u001b[32morg.slf4j:slf4j-api:2.0.12\u001b[0m\u001b[0m\n",
      "Adding dependency \u001b[0m\u001b[1m\u001b[32mio.qdrant:client:1.8.0\u001b[0m\u001b[0m\n",
      "Solving dependencies\n",
      "Found dependencies count: 64\n",
      "Add to classpath: \u001b[0m\u001b[32m/home/vscode/.local/share/jupyter/kernels/rapaio-jupyter-kernel/ivy_cache/com.microsoft.semantic-kernel/semantickernel-api/jars/semantickernel-api-1.0.0-rc2.jar\u001b[0m\u001b[0m\n",
      "Add to classpath: \u001b[0m\u001b[32m/home/vscode/.local/share/jupyter/kernels/rapaio-jupyter-kernel/ivy_cache/com.azure/azure-ai-openai/jars/azure-ai-openai-1.0.0-beta.6.jar\u001b[0m\u001b[0m\n",
      "Add to classpath: \u001b[0m\u001b[32m/home/vscode/.local/share/jupyter/kernels/rapaio-jupyter-kernel/ivy_cache/com.azure/azure-core/jars/azure-core-1.45.1.jar\u001b[0m\u001b[0m\n",
      "Add to classpath: \u001b[0m\u001b[32m/home/vscode/.local/share/jupyter/kernels/rapaio-jupyter-kernel/ivy_cache/com.azure/azure-json/jars/azure-json-1.1.0.jar\u001b[0m\u001b[0m\n",
      "Add to classpath: \u001b[0m\u001b[32m/home/vscode/.local/share/jupyter/kernels/rapaio-jupyter-kernel/ivy_cache/com.fasterxml.jackson.core/jackson-annotations/jars/jackson-annotations-2.16.1.jar\u001b[0m\u001b[0m\n",
      "Add to classpath: \u001b[0m\u001b[32m/home/vscode/.local/share/jupyter/kernels/rapaio-jupyter-kernel/ivy_cache/com.fasterxml.jackson.core/jackson-core/jars/jackson-core-2.16.1.jar\u001b[0m\u001b[0m\n",
      "Add to classpath: \u001b[0m\u001b[32m/home/vscode/.local/share/jupyter/kernels/rapaio-jupyter-kernel/ivy_cache/com.fasterxml.jackson.core/jackson-databind/jars/jackson-databind-2.16.1.jar\u001b[0m\u001b[0m\n",
      "Add to classpath: \u001b[0m\u001b[32m/home/vscode/.local/share/jupyter/kernels/rapaio-jupyter-kernel/ivy_cache/com.fasterxml.jackson.datatype/jackson-datatype-jsr310/bundles/jackson-datatype-jsr310-2.13.5.jar\u001b[0m\u001b[0m\n",
      "Add to classpath: \u001b[0m\u001b[32m/home/vscode/.local/share/jupyter/kernels/rapaio-jupyter-kernel/ivy_cache/org.slf4j/slf4j-api/jars/slf4j-api-2.0.12.jar\u001b[0m\u001b[0m\n",
      "Add to classpath: \u001b[0m\u001b[32m/home/vscode/.local/share/jupyter/kernels/rapaio-jupyter-kernel/ivy_cache/io.projectreactor/reactor-core/jars/reactor-core-3.4.34.jar\u001b[0m\u001b[0m\n",
      "Add to classpath: \u001b[0m\u001b[32m/home/vscode/.local/share/jupyter/kernels/rapaio-jupyter-kernel/ivy_cache/org.reactivestreams/reactive-streams/jars/reactive-streams-1.0.4.jar\u001b[0m\u001b[0m\n",
      "Add to classpath: \u001b[0m\u001b[32m/home/vscode/.local/share/jupyter/kernels/rapaio-jupyter-kernel/ivy_cache/com.azure/azure-core-http-netty/jars/azure-core-http-netty-1.13.11.jar\u001b[0m\u001b[0m\n",
      "Add to classpath: \u001b[0m\u001b[32m/home/vscode/.local/share/jupyter/kernels/rapaio-jupyter-kernel/ivy_cache/io.netty/netty-handler/jars/netty-handler-4.1.101.Final.jar\u001b[0m\u001b[0m\n",
      "Add to classpath: \u001b[0m\u001b[32m/home/vscode/.local/share/jupyter/kernels/rapaio-jupyter-kernel/ivy_cache/io.netty/netty-common/jars/netty-common-4.1.101.Final.jar\u001b[0m\u001b[0m\n",
      "Add to classpath: \u001b[0m\u001b[32m/home/vscode/.local/share/jupyter/kernels/rapaio-jupyter-kernel/ivy_cache/io.netty/netty-resolver/jars/netty-resolver-4.1.101.Final.jar\u001b[0m\u001b[0m\n",
      "Add to classpath: \u001b[0m\u001b[32m/home/vscode/.local/share/jupyter/kernels/rapaio-jupyter-kernel/ivy_cache/io.netty/netty-buffer/jars/netty-buffer-4.1.101.Final.jar\u001b[0m\u001b[0m\n",
      "Add to classpath: \u001b[0m\u001b[32m/home/vscode/.local/share/jupyter/kernels/rapaio-jupyter-kernel/ivy_cache/io.netty/netty-transport/jars/netty-transport-4.1.101.Final.jar\u001b[0m\u001b[0m\n",
      "Add to classpath: \u001b[0m\u001b[32m/home/vscode/.local/share/jupyter/kernels/rapaio-jupyter-kernel/ivy_cache/io.netty/netty-transport-native-unix-common/jars/netty-transport-native-unix-common-4.1.101.Final.jar\u001b[0m\u001b[0m\n",
      "Add to classpath: \u001b[0m\u001b[32m/home/vscode/.local/share/jupyter/kernels/rapaio-jupyter-kernel/ivy_cache/io.netty/netty-codec/jars/netty-codec-4.1.101.Final.jar\u001b[0m\u001b[0m\n",
      "Add to classpath: \u001b[0m\u001b[32m/home/vscode/.local/share/jupyter/kernels/rapaio-jupyter-kernel/ivy_cache/io.netty/netty-handler-proxy/jars/netty-handler-proxy-4.1.101.Final.jar\u001b[0m\u001b[0m\n",
      "Add to classpath: \u001b[0m\u001b[32m/home/vscode/.local/share/jupyter/kernels/rapaio-jupyter-kernel/ivy_cache/io.netty/netty-codec-socks/jars/netty-codec-socks-4.1.101.Final.jar\u001b[0m\u001b[0m\n",
      "Add to classpath: \u001b[0m\u001b[32m/home/vscode/.local/share/jupyter/kernels/rapaio-jupyter-kernel/ivy_cache/io.netty/netty-codec-http/jars/netty-codec-http-4.1.101.Final.jar\u001b[0m\u001b[0m\n",
      "Add to classpath: \u001b[0m\u001b[32m/home/vscode/.local/share/jupyter/kernels/rapaio-jupyter-kernel/ivy_cache/io.netty/netty-codec-http2/jars/netty-codec-http2-4.1.101.Final.jar\u001b[0m\u001b[0m\n",
      "Add to classpath: \u001b[0m\u001b[32m/home/vscode/.local/share/jupyter/kernels/rapaio-jupyter-kernel/ivy_cache/io.netty/netty-transport-native-epoll/jars/netty-transport-native-epoll-4.1.101.Final-linux-x86_64.jar\u001b[0m\u001b[0m\n",
      "Add to classpath: \u001b[0m\u001b[32m/home/vscode/.local/share/jupyter/kernels/rapaio-jupyter-kernel/ivy_cache/io.netty/netty-transport-classes-epoll/jars/netty-transport-classes-epoll-4.1.101.Final.jar\u001b[0m\u001b[0m\n",
      "Add to classpath: \u001b[0m\u001b[32m/home/vscode/.local/share/jupyter/kernels/rapaio-jupyter-kernel/ivy_cache/io.netty/netty-transport-native-kqueue/jars/netty-transport-native-kqueue-4.1.101.Final-osx-x86_64.jar\u001b[0m\u001b[0m\n",
      "Add to classpath: \u001b[0m\u001b[32m/home/vscode/.local/share/jupyter/kernels/rapaio-jupyter-kernel/ivy_cache/io.netty/netty-transport-classes-kqueue/jars/netty-transport-classes-kqueue-4.1.101.Final.jar\u001b[0m\u001b[0m\n",
      "Add to classpath: \u001b[0m\u001b[32m/home/vscode/.local/share/jupyter/kernels/rapaio-jupyter-kernel/ivy_cache/io.netty/netty-tcnative-boringssl-static/jars/netty-tcnative-boringssl-static-2.0.62.Final.jar\u001b[0m\u001b[0m\n",
      "Add to classpath: \u001b[0m\u001b[32m/home/vscode/.local/share/jupyter/kernels/rapaio-jupyter-kernel/ivy_cache/io.netty/netty-tcnative-classes/jars/netty-tcnative-classes-2.0.62.Final.jar\u001b[0m\u001b[0m\n",
      "Add to classpath: \u001b[0m\u001b[32m/home/vscode/.local/share/jupyter/kernels/rapaio-jupyter-kernel/ivy_cache/io.projectreactor.netty/reactor-netty-http/jars/reactor-netty-http-1.0.39.jar\u001b[0m\u001b[0m\n",
      "Add to classpath: \u001b[0m\u001b[32m/home/vscode/.local/share/jupyter/kernels/rapaio-jupyter-kernel/ivy_cache/io.netty/netty-resolver-dns/jars/netty-resolver-dns-4.1.101.Final.jar\u001b[0m\u001b[0m\n",
      "Add to classpath: \u001b[0m\u001b[32m/home/vscode/.local/share/jupyter/kernels/rapaio-jupyter-kernel/ivy_cache/io.netty/netty-codec-dns/jars/netty-codec-dns-4.1.101.Final.jar\u001b[0m\u001b[0m\n",
      "Add to classpath: \u001b[0m\u001b[32m/home/vscode/.local/share/jupyter/kernels/rapaio-jupyter-kernel/ivy_cache/io.netty/netty-resolver-dns-native-macos/jars/netty-resolver-dns-native-macos-4.1.101.Final-osx-x86_64.jar\u001b[0m\u001b[0m\n",
      "Add to classpath: \u001b[0m\u001b[32m/home/vscode/.local/share/jupyter/kernels/rapaio-jupyter-kernel/ivy_cache/io.netty/netty-resolver-dns-classes-macos/jars/netty-resolver-dns-classes-macos-4.1.101.Final.jar\u001b[0m\u001b[0m\n",
      "Add to classpath: \u001b[0m\u001b[32m/home/vscode/.local/share/jupyter/kernels/rapaio-jupyter-kernel/ivy_cache/io.projectreactor.netty/reactor-netty-core/jars/reactor-netty-core-1.0.39.jar\u001b[0m\u001b[0m\n",
      "Add to classpath: \u001b[0m\u001b[32m/home/vscode/.local/share/jupyter/kernels/rapaio-jupyter-kernel/ivy_cache/com.github.jknack/handlebars/jars/handlebars-4.3.1.jar\u001b[0m\u001b[0m\n",
      "Add to classpath: \u001b[0m\u001b[32m/home/vscode/.local/share/jupyter/kernels/rapaio-jupyter-kernel/ivy_cache/com.google.code.findbugs/jsr305/jars/jsr305-3.0.2.jar\u001b[0m\u001b[0m\n",
      "Add to classpath: \u001b[0m\u001b[32m/home/vscode/.local/share/jupyter/kernels/rapaio-jupyter-kernel/ivy_cache/com.fasterxml.jackson.dataformat/jackson-dataformat-yaml/jars/jackson-dataformat-yaml-2.16.1.jar\u001b[0m\u001b[0m\n",
      "Add to classpath: \u001b[0m\u001b[32m/home/vscode/.local/share/jupyter/kernels/rapaio-jupyter-kernel/ivy_cache/org.yaml/snakeyaml/bundles/snakeyaml-2.2.jar\u001b[0m\u001b[0m\n",
      "Add to classpath: \u001b[0m\u001b[32m/home/vscode/.local/share/jupyter/kernels/rapaio-jupyter-kernel/ivy_cache/com.github.spotbugs/spotbugs-annotations/jars/spotbugs-annotations-4.8.3.jar\u001b[0m\u001b[0m\n",
      "Add to classpath: \u001b[0m\u001b[32m/home/vscode/.local/share/jupyter/kernels/rapaio-jupyter-kernel/ivy_cache/com.microsoft.semantic-kernel/semantickernel-aiservices-openai/jars/semantickernel-aiservices-openai-1.0.0-rc2.jar\u001b[0m\u001b[0m\n",
      "Add to classpath: \u001b[0m\u001b[32m/home/vscode/.local/share/jupyter/kernels/rapaio-jupyter-kernel/ivy_cache/io.qdrant/client/jars/client-1.8.0.jar\u001b[0m\u001b[0m\n",
      "Add to classpath: \u001b[0m\u001b[32m/home/vscode/.local/share/jupyter/kernels/rapaio-jupyter-kernel/ivy_cache/io.grpc/grpc-protobuf/jars/grpc-protobuf-1.59.0.jar\u001b[0m\u001b[0m\n",
      "Add to classpath: \u001b[0m\u001b[32m/home/vscode/.local/share/jupyter/kernels/rapaio-jupyter-kernel/ivy_cache/io.grpc/grpc-api/jars/grpc-api-1.59.0.jar\u001b[0m\u001b[0m\n",
      "Add to classpath: \u001b[0m\u001b[32m/home/vscode/.local/share/jupyter/kernels/rapaio-jupyter-kernel/ivy_cache/com.google.errorprone/error_prone_annotations/jars/error_prone_annotations-2.18.0.jar\u001b[0m\u001b[0m\n",
      "Add to classpath: \u001b[0m\u001b[32m/home/vscode/.local/share/jupyter/kernels/rapaio-jupyter-kernel/ivy_cache/com.google.guava/guava/bundles/guava-32.0.1-android.jar\u001b[0m\u001b[0m\n",
      "Add to classpath: \u001b[0m\u001b[32m/home/vscode/.local/share/jupyter/kernels/rapaio-jupyter-kernel/ivy_cache/com.google.guava/failureaccess/bundles/failureaccess-1.0.1.jar\u001b[0m\u001b[0m\n",
      "Add to classpath: \u001b[0m\u001b[32m/home/vscode/.local/share/jupyter/kernels/rapaio-jupyter-kernel/ivy_cache/com.google.guava/listenablefuture/jars/listenablefuture-9999.0-empty-to-avoid-conflict-with-guava.jar\u001b[0m\u001b[0m\n",
      "Add to classpath: \u001b[0m\u001b[32m/home/vscode/.local/share/jupyter/kernels/rapaio-jupyter-kernel/ivy_cache/org.checkerframework/checker-qual/jars/checker-qual-3.33.0.jar\u001b[0m\u001b[0m\n",
      "Add to classpath: \u001b[0m\u001b[32m/home/vscode/.local/share/jupyter/kernels/rapaio-jupyter-kernel/ivy_cache/com.google.j2objc/j2objc-annotations/jars/j2objc-annotations-2.8.jar\u001b[0m\u001b[0m\n",
      "Add to classpath: \u001b[0m\u001b[32m/home/vscode/.local/share/jupyter/kernels/rapaio-jupyter-kernel/ivy_cache/com.google.protobuf/protobuf-java/jars/protobuf-java-3.23.2.jar\u001b[0m\u001b[0m\n",
      "Add to classpath: \u001b[0m\u001b[32m/home/vscode/.local/share/jupyter/kernels/rapaio-jupyter-kernel/ivy_cache/com.google.api.grpc/proto-google-common-protos/jars/proto-google-common-protos-2.22.0.jar\u001b[0m\u001b[0m\n",
      "Add to classpath: \u001b[0m\u001b[32m/home/vscode/.local/share/jupyter/kernels/rapaio-jupyter-kernel/ivy_cache/io.grpc/grpc-protobuf-lite/jars/grpc-protobuf-lite-1.59.0.jar\u001b[0m\u001b[0m\n",
      "Add to classpath: \u001b[0m\u001b[32m/home/vscode/.local/share/jupyter/kernels/rapaio-jupyter-kernel/ivy_cache/io.grpc/grpc-services/jars/grpc-services-1.59.0.jar\u001b[0m\u001b[0m\n",
      "Add to classpath: \u001b[0m\u001b[32m/home/vscode/.local/share/jupyter/kernels/rapaio-jupyter-kernel/ivy_cache/io.grpc/grpc-stub/jars/grpc-stub-1.59.0.jar\u001b[0m\u001b[0m\n",
      "Add to classpath: \u001b[0m\u001b[32m/home/vscode/.local/share/jupyter/kernels/rapaio-jupyter-kernel/ivy_cache/io.grpc/grpc-util/jars/grpc-util-1.59.0.jar\u001b[0m\u001b[0m\n",
      "Add to classpath: \u001b[0m\u001b[32m/home/vscode/.local/share/jupyter/kernels/rapaio-jupyter-kernel/ivy_cache/io.grpc/grpc-core/jars/grpc-core-1.59.0.jar\u001b[0m\u001b[0m\n",
      "Add to classpath: \u001b[0m\u001b[32m/home/vscode/.local/share/jupyter/kernels/rapaio-jupyter-kernel/ivy_cache/com.google.code.gson/gson/jars/gson-2.8.9.jar\u001b[0m\u001b[0m\n",
      "Add to classpath: \u001b[0m\u001b[32m/home/vscode/.local/share/jupyter/kernels/rapaio-jupyter-kernel/ivy_cache/com.google.android/annotations/jars/annotations-4.1.1.4.jar\u001b[0m\u001b[0m\n",
      "Add to classpath: \u001b[0m\u001b[32m/home/vscode/.local/share/jupyter/kernels/rapaio-jupyter-kernel/ivy_cache/org.codehaus.mojo/animal-sniffer-annotations/jars/animal-sniffer-annotations-1.23.jar\u001b[0m\u001b[0m\n",
      "Add to classpath: \u001b[0m\u001b[32m/home/vscode/.local/share/jupyter/kernels/rapaio-jupyter-kernel/ivy_cache/io.perfmark/perfmark-api/jars/perfmark-api-0.26.0.jar\u001b[0m\u001b[0m\n",
      "Add to classpath: \u001b[0m\u001b[32m/home/vscode/.local/share/jupyter/kernels/rapaio-jupyter-kernel/ivy_cache/io.grpc/grpc-context/jars/grpc-context-1.59.0.jar\u001b[0m\u001b[0m\n",
      "Add to classpath: \u001b[0m\u001b[32m/home/vscode/.local/share/jupyter/kernels/rapaio-jupyter-kernel/ivy_cache/com.google.protobuf/protobuf-java-util/jars/protobuf-java-util-3.24.0.jar\u001b[0m\u001b[0m\n",
      "Add to classpath: \u001b[0m\u001b[32m/home/vscode/.local/share/jupyter/kernels/rapaio-jupyter-kernel/ivy_cache/io.grpc/grpc-netty-shaded/jars/grpc-netty-shaded-1.59.0.jar\u001b[0m\u001b[0m\n"
     ]
    }
   ],
   "source": [
    "%dependency /add com.microsoft.semantic-kernel:semantickernel-api:1.0.0-rc2\n",
    "%dependency /add com.microsoft.semantic-kernel:semantickernel-bom:1.0.0-rc2\n",
    "%dependency /add com.microsoft.semantic-kernel:semantickernel-parent:1.0.0-rc2\n",
    "%dependency /add com.microsoft.semantic-kernel:semantickernel-aiservices-openai:1.0.0-rc2\n",
    "\n",
    "%dependency /override com.azure:azure-core:1.45.1\n",
    "\n",
    "%dependency /override com.google.code.gson:gson:2.8.9\n",
    "%dependency /override com.google.protobuf:protobuf-java:3.23.2\n",
    "%dependency /override com.google.errorprone:error_prone_annotations:2.18.0\n",
    "%dependency /override com.google.guava:guava:32.0.1-android\n",
    "%dependency /override org.slf4j:slf4j-api:2.0.12\n",
    "\n",
    "%dependency /add io.qdrant:client:1.8.0\n",
    "\n",
    "\n",
    "%dependency /resolve"
   ]
  },
  {
   "cell_type": "markdown",
   "metadata": {},
   "source": [
    "### **Please install qdrant and run it** \n",
    "\n",
    "```bash\n",
    "\n",
    "docker pull qdrant/qdrant\n",
    "\n",
    "docker run -p 6333:6333 -p 6334:6334 \\\n",
    "    -v $(pwd)/qdrant_storage:/qdrant/storage:z \\\n",
    "    qdrant/qdrant\n",
    "\n",
    "```"
   ]
  },
  {
   "cell_type": "code",
   "execution_count": 2,
   "metadata": {},
   "outputs": [],
   "source": [
    "import io.qdrant.client.QdrantClient;\n",
    "import io.qdrant.client.QdrantGrpcClient;\n"
   ]
  },
  {
   "cell_type": "code",
   "execution_count": 3,
   "metadata": {},
   "outputs": [
    {
     "name": "stderr",
     "output_type": "stream",
     "text": [
      "SLF4J(W): No SLF4J providers were found.\n",
      "SLF4J(W): Defaulting to no-operation (NOP) logger implementation\n",
      "SLF4J(W): See https://www.slf4j.org/codes.html#noProviders for further details.\n"
     ]
    }
   ],
   "source": [
    "QdrantClient client = \n",
    "  new QdrantClient(QdrantGrpcClient.newBuilder(\"localhost\").build());\n"
   ]
  },
  {
   "cell_type": "code",
   "execution_count": 4,
   "metadata": {},
   "outputs": [],
   "source": [
    "import com.azure.ai.openai.OpenAIAsyncClient;\n",
    "import com.azure.ai.openai.OpenAIClientBuilder;\n",
    "import com.azure.core.credential.AzureKeyCredential;\n",
    "import com.azure.core.credential.KeyCredential;"
   ]
  },
  {
   "cell_type": "code",
   "execution_count": 5,
   "metadata": {},
   "outputs": [],
   "source": [
    "import com.azure.ai.openai.OpenAIAsyncClient;\n",
    "// import com.microsoft.semantickernel.Kernel;\n",
    "// import com.microsoft.semantickernel.SKBuilders;\n",
    "// import com.microsoft.semantickernel.ai.embeddings.TextEmbeddingGeneration;\n",
    "// import com.microsoft.semantickernel.memory.MemoryStore;\n",
    "// import com.microsoft.semantickernel.orchestration.SKContext;\n",
    "// import com.microsoft.semantickernel.orchestration.SKFunction;\n",
    "// import com.microsoft.semantickernel.textcompletion.CompletionRequestSettings;\n",
    "// import com.microsoft.semantickernel.textcompletion.CompletionSKFunction;\n",
    "// import com.microsoft.semantickernel.textcompletion.TextCompletion;"
   ]
  },
  {
   "cell_type": "code",
   "execution_count": 6,
   "metadata": {},
   "outputs": [],
   "source": [
    "\n",
    "// import com.microsoft.semantickernel.ai.embeddings.TextEmbeddingGeneration;\n",
    "\n",
    "// import com.microsoft.semantickernel.ai.embeddings.Embedding;\n",
    "import com.azure.ai.openai.models.EmbeddingItem;\n",
    "import com.azure.ai.openai.models.Embeddings;\n",
    "import com.azure.ai.openai.models.EmbeddingsOptions;"
   ]
  },
  {
   "cell_type": "code",
   "execution_count": 7,
   "metadata": {},
   "outputs": [],
   "source": [
    "OpenAIAsyncClient client = new OpenAIClientBuilder()\n",
    "        .credential(new AzureKeyCredential(\"Your Azure OpenAI Service API Key\"))\n",
    "        .endpoint(\"Your Azure OpenAI Service Endpoint\")\n",
    "        .buildAsyncClient();"
   ]
  },
  {
   "cell_type": "code",
   "execution_count": 8,
   "metadata": {},
   "outputs": [],
   "source": [
    "EmbeddingsOptions embeddingsOptions = new EmbeddingsOptions(\n",
    "    Arrays.asList(\"Kinfey is Microsoft MVP\"));\n",
    "\n",
    "var embeddings = client.getEmbeddings(\"Your Azure OpenAI Service text-ada-002 deployment name\", embeddingsOptions);"
   ]
  },
  {
   "cell_type": "code",
   "execution_count": 9,
   "metadata": {},
   "outputs": [
    {
     "name": "stdout",
     "output_type": "stream",
     "text": [
      "Index: 0.\n",
      "0.001397;0.000083;-0.010766;-0.016042;-0.014960;0.029450;-0.029588;-0.008950;-0.007075;-0.047141;0.030281;0.002470;0.011099;-0.005255;-0.016375;-0.005723;0.009109;0.002350;0.020520;-0.024957;-0.019661;0.019647;0.023598;-0.032694;-0.014711;0.023737;0.001623;-0.011446;0.010600;-0.022767;0.012326;-0.019231;0.001003;0.000675;-0.008978;-0.010364;-0.010995;-0.011203;0.032777;-0.006447;0.016555;0.017082;-0.014725;0.007875;-0.021103;0.018094;-0.006031;0.006991;-0.001716;0.010232;0.004364;-0.001510;-0.015266;-0.011113;-0.009179;-0.022032;-0.011411;-0.010461;-0.001039;-0.021962;-0.012964;0.018247;-0.006038;0.004607;0.012194;-0.006101;-0.003036;0.011404;0.006139;0.013227;0.030365;0.028839;-0.006021;-0.006354;0.015681;-0.006534;-0.013588;0.012285;-0.000343;0.001454;0.010094;-0.022448;-0.010558;0.015834;0.016472;0.005823;0.003527;0.020091;0.007702;0.004350;0.008049;0.017803;0.031640;0.027952;0.006250;0.024957;-0.007557;-0.000687;0.032833;0.017415;-0.002258;0.015293;0.004208;-0.007966;-0.031086;0.005733;-0.003166;-0.001473;0.035855;0.009137;-0.024583;0.027328;0.021297;0.003019;-0.031002;-0.006777;-0.007480;-0.020825;-0.015945;-0.022489;0.018607;0.013373;-0.000134;-0.015917;0.004832;0.017262;-0.020687;-0.044230;0.017858;-0.011605;0.051356;-0.018565;0.010947;-0.001776;-0.016860;0.018385;-0.033526;0.006884;-0.009567;-0.001533;0.017581;0.026302;-0.007168;0.008756;-0.009352;0.010385;0.002539;-0.008000;0.019411;-0.015876;0.010891;-0.008215;0.014392;0.013366;0.019772;0.005376;-0.011390;0.019522;-0.021255;-0.019952;-0.011799;0.020534;0.001559;0.006912;-0.001449;0.028895;0.026801;0.007307;-0.003848;-0.010704;0.018357;0.006759;-0.025082;0.007543;0.019411;-0.017775;0.006420;0.002823;-0.006323;-0.005134;-0.015792;0.013595;0.005685;0.029172;-0.008846;-0.002747;0.023904;-0.026718;0.021990;-0.003140;0.010142;0.019078;-0.005900;-0.025401;-0.675288;-0.015030;0.029588;-0.006374;0.006811;0.011238;0.022170;-0.012437;0.005300;-0.003489;-0.018094;0.032056;-0.008319;0.005109;-0.008264;-0.020437;-0.010787;-0.041235;-0.003147;0.003615;-0.015446;0.015862;0.001342;0.003705;-0.000512;-0.003478;0.016541;0.002621;0.004423;0.002111;-0.035689;0.031363;-0.000749;0.001035;0.056292;-0.025401;-0.006797;0.001849;-0.003993;0.032583;-0.041512;-0.018233;0.005539;-0.005421;-0.006014;0.015016;-0.014136;-0.000780;0.006804;0.009934;0.002870;-0.021061;-0.007453;-0.004388;-0.013934;-0.000455;-0.003605;-0.021657;0.000395;0.007764;-0.031002;0.007397;-0.026829;-0.008735;-0.001766;-0.014038;-0.002465;-0.017442;0.001799;-0.016707;0.017886;0.006212;-0.013380;-0.005532;0.018066;0.036576;0.017498;-0.011480;-0.014850;0.008146;0.003056;-0.021269;-0.010794;-0.015487;0.029616;-0.007945;-0.040153;-0.018260;-0.004177;-0.015085;0.022406;0.011078;-0.003191;-0.030503;0.019467;0.026718;-0.012936;0.013539;0.011612;-0.015390;-0.002154;0.019009;0.007758;-0.010239;0.001208;0.024111;-0.032694;0.022711;0.022656;-0.025526;-0.014600;-0.027730;-0.002336;-0.009990;-0.002466;-0.040043;-0.011785;-0.006298;-0.013699;0.018149;0.013158;0.012395;-0.012132;0.006149;-0.016957;0.020770;-0.001411;0.003608;-0.006260;0.000463;0.008153;-0.020895;0.011633;-0.002861;0.018621;-0.005456;0.027328;-0.022004;-0.000962;-0.003224;-0.006045;0.011203;-0.000781;0.009921;-0.008908;-0.018870;-0.023501;0.007993;0.014461;-0.008063;-0.002842;-0.010995;-0.004250;0.019259;0.032583;-0.015820;0.003622;0.000260;-0.013553;-0.026760;-0.009629;0.026080;-0.016874;-0.020728;0.003830;0.002402;-0.005390;0.010829;0.005487;-0.011078;0.020451;0.002891;-0.009962;-0.007605;-0.002723;-0.007189;0.000229;0.002246;-0.001428;0.012097;0.008957;0.000333;-0.022628;-0.008645;0.030087;0.002808;-0.002298;0.024846;0.011778;0.020728;-0.011820;-0.004995;0.002906;0.005581;0.013976;-0.000536;-0.030365;0.002198;-0.012437;0.019259;0.030032;0.014094;0.013415;-0.014697;0.004229;-0.029366;-0.006153;-0.019383;0.025581;0.009629;0.003002;0.001618;-0.009602;0.004014;0.024708;0.009123;-0.007986;-0.010191;-0.021865;0.001034;-0.002459;-0.018177;0.018621;0.010815;0.023973;0.010940;-0.018455;0.027564;0.026912;-0.021033;-0.011182;0.009546;0.018011;0.016153;0.000584;0.012465;0.028424;-0.010510;0.024056;-0.013657;0.007570;0.010544;0.014794;-0.004964;0.011959;0.005813;0.027841;-0.001397;-0.026150;0.013484;-0.018926;0.001577;-0.013775;0.011009;0.005106;-0.020202;-0.004645;-0.008347;0.021214;0.028077;0.011383;0.000621;0.010135;-0.006361;0.018760;0.020174;0.004537;-0.008936;-0.022073;-0.022517;0.006156;-0.021491;0.021255;0.020825;0.020312;0.010531;-0.002139;0.026288;0.007536;0.013103;-0.008721;-0.040902;0.005879;0.006340;-0.011210;-0.017248;-0.031585;0.003324;-0.002544;0.003238;0.021505;0.005012;-0.004593;-0.007203;-0.007647;-0.003754;0.027231;-0.018149;-0.016236;0.011466;-0.006430;-0.003179;-0.022475;-0.017276;0.031058;-0.002128;-0.012541;-0.026635;-0.004860;-0.007453;0.009040;-0.008499;-0.011945;-0.017345;-0.017969;-0.000964;-0.015016;-0.004998;0.018649;-0.005099;-0.027051;-0.022905;-0.014364;0.029283;0.110200;0.006177;0.014337;0.024084;0.004264;0.004146;-0.021449;-0.018344;0.025359;-0.004673;0.001969;-0.015168;0.000948;0.003541;0.016278;-0.014038;0.010316;-0.015446;-0.003435;-0.000439;-0.004388;0.003685;0.020784;-0.000827;0.001854;0.009484;0.017387;0.041568;-0.014267;-0.022170;-0.002506;-0.004295;0.013969;-0.004950;-0.024680;0.015321;-0.019869;-0.003170;0.012687;0.000398;0.015931;-0.000120;0.008777;-0.007335;0.008264;-0.011030;0.000156;0.008853;-0.016444;-0.026066;0.015612;0.005965;-0.001086;-0.016319;-0.008347;0.009206;-0.022281;-0.000514;-0.010371;-0.010163;-0.023432;-0.021186;-0.008028;-0.003291;0.008506;0.008936;0.000723;-0.022988;-0.022961;-0.014142;0.004250;-0.008187;-0.023945;-0.000721;-0.003615;0.015931;0.012749;-0.005522;-0.001244;0.008756;0.006496;0.000582;-0.008687;-0.011446;-0.010226;-0.003629;-0.010128;0.020895;0.005931;-0.015765;0.014212;0.026538;0.001146;-0.012791;-0.004295;-0.004454;0.014655;0.006669;-0.021228;-0.008583;0.017900;-0.018094;0.005134;-0.013948;-0.036243;0.004440;0.014052;0.033054;-0.028534;-0.008513;0.001068;-0.033415;0.020188;-0.021449;0.021033;0.021436;0.006329;0.002312;-0.000023;-0.008076;-0.007855;-0.024278;0.026455;0.008381;0.004794;0.012264;0.016264;-0.017387;-0.027994;0.010988;-0.010461;0.008825;-0.013692;-0.033886;-0.033720;-0.024527;-0.013726;0.013643;-0.003411;-0.024028;-0.023917;-0.016860;0.011224;-0.022240;-0.006849;-0.026871;-0.015848;0.013144;-0.021865;0.006298;-0.032139;0.015390;-0.026801;-0.006950;-0.007432;0.001622;0.000561;0.005969;0.003371;0.029117;0.034829;-0.006014;0.026566;-0.019245;0.016236;-0.009990;-0.003250;-0.000363;-0.026302;0.009643;0.015820;0.008063;0.024527;-0.003952;-0.000295;0.007543;-0.001802;-0.020049;-0.030670;-0.027162;0.010628;-0.008687;-0.016652;0.010517;0.002163;0.016597;0.034469;0.008097;0.016777;0.005543;0.012992;-0.020825;0.004295;-0.010739;0.022309;-0.015376;-0.001095;-0.003296;-0.002447;0.025304;0.010531;0.020590;-0.009338;0.010572;-0.005882;0.019550;-0.021061;-0.019453;0.004059;-0.036133;0.001711;-0.036881;-0.020437;-0.017997;-0.006652;-0.006756;-0.007258;0.036687;0.008104;-0.015751;-0.001011;0.010600;0.025595;-0.015432;0.007674;0.024139;0.016486;-0.020853;0.015155;-0.013241;-0.012437;0.016305;0.041069;0.006582;-0.007376;0.027023;-0.019037;0.000958;-0.028063;0.002097;-0.008784;-0.010170;-0.027370;-0.017831;-0.017775;0.042816;-0.006929;0.001597;-0.016278;-0.026954;-0.001041;0.026427;-0.020312;0.012395;-0.002754;-0.015058;-0.003489;-0.011688;0.009338;-0.005751;-0.015612;0.013012;0.013484;0.011279;0.003796;-0.000189;-0.015889;0.006659;0.007966;0.030531;0.004052;0.005706;-0.004652;0.004374;0.025165;-0.025540;-0.002347;-0.005900;-0.003123;-0.016000;0.014600;-0.013505;0.002669;0.004766;-0.012971;-0.017581;0.027287;0.007019;0.015876;-0.030420;0.003111;-0.025900;0.003241;0.005494;0.015404;-0.003848;0.013629;0.017872;0.004548;-0.003267;-0.003591;-0.009706;-0.009373;0.004281;-0.029394;-0.002827;0.014059;-0.007654;-0.010392;-0.002662;0.015335;0.025221;0.001421;-0.021657;-0.013941;0.014073;-0.010052;-0.026704;0.010156;0.022961;-0.012479;-0.017345;0.011966;-0.005522;0.004350;0.005234;0.005376;-0.014461;-0.021671;-0.015113;0.022919;0.001140;-0.020590;-0.013498;0.003530;-0.020188;-0.003969;0.013941;0.012652;-0.002539;0.006915;0.011799;-0.008832;0.017193;-0.007730;-0.014531;-0.003733;-0.025997;-0.033249;0.004669;-0.016458;0.034108;0.015224;-0.015293;-0.026150;-0.021214;-0.025956;-0.025470;-0.016999;0.003251;-0.011009;-0.011875;0.022572;0.003674;-0.007855;0.030864;-0.015238;-0.003196;0.011993;0.011466;0.005667;-0.033720;0.000404;-0.004974;0.028895;0.012049;0.012513;0.019786;-0.000986;-0.018593;-0.009719;0.008610;0.021075;-0.002163;0.020701;-0.027453;-0.015460;0.005619;0.002650;-0.011307;-0.009213;0.012437;-0.004891;0.001615;-0.000792;0.018857;0.004926;-0.006555;0.020881;-0.023210;0.008236;0.020312;0.018482;-0.000406;0.017345;0.018385;-0.037325;-0.009352;-0.003310;-0.013671;0.012278;-0.001191;0.004759;-0.003674;-0.017359;-0.008437;-0.011175;-0.022697;-0.011231;0.007068;-0.011071;-0.028132;-0.004839;0.025276;-0.010260;-0.008846;-0.004808;-0.000262;-0.037990;0.032223;-0.002811;-0.003588;0.003931;0.011612;-0.005511;0.025914;0.231825;-0.014295;0.010960;0.009740;-0.011134;0.017858;0.009685;0.016319;0.019522;0.010205;0.021782;-0.014129;0.002305;-0.012756;0.000171;-0.010995;-0.011716;-0.002179;-0.026677;-0.034940;0.021117;-0.019453;0.001815;-0.014191;0.018524;0.007959;-0.020326;0.019023;0.013553;-0.006225;0.001406;0.012118;0.007217;0.005647;-0.016791;-0.011473;-0.014350;-0.010309;0.048528;0.003010;0.021241;-0.008687;0.001893;-0.013103;-0.006985;0.030198;0.001306;-0.015168;0.001133;0.002673;-0.041069;-0.034607;0.007799;0.003813;-0.018760;-0.008361;-0.000027;0.024624;-0.017720;-0.001796;-0.004832;0.022656;-0.010572;0.016000;-0.039710;0.023945;-0.010489;0.021879;0.013200;-0.019481;-0.012465;0.004794;0.000346;0.023834;-0.035051;-0.035134;0.016915;0.010454;0.036382;0.038101;-0.016624;0.009075;0.005654;-0.011196;-0.032971;-0.033609;0.015321;-0.015973;0.005089;-0.005591;0.015224;0.008797;-0.008264;-0.019120;0.004056;0.004704;-0.016028;0.008860;0.010232;0.002501;-0.032694;0.020742;0.019425;0.001554;-0.010323;0.006042;0.003118;0.010489;-0.002045;-0.014545;-0.002442;-0.002953;0.003855;0.012659;0.005463;0.009047;-0.020479;-0.008215;-0.004322;-0.003813;0.009747;-0.023723;0.026385;0.000024;-0.032167;0.011848;-0.026011;0.001765;-0.022281;-0.038822;0.021380;-0.011286;0.011855;-0.020285;-0.011016;-0.012874;0.015446;0.014655;-0.002083;0.000503;0.003468;-0.001663;-0.022864;0.009615;-0.017928;-0.004534;0.033054;0.013865;-0.002685;-0.020091;-0.020202;-0.011383;-0.000938;-0.016222;0.042233;-0.014766;-0.016292;-0.007272;0.007203;0.007120;-0.045783;0.006839;0.005931;-0.015044;-0.027425;-0.009511;-0.182132;0.012902;-0.008998;-0.022032;0.048916;0.006690;0.010739;-0.005823;-0.006662;0.004686;0.017373;0.009109;-0.040930;-0.000733;0.012499;-0.002882;-0.005851;0.003480;0.014531;0.004884;0.017983;0.007487;0.011453;0.002690;-0.003879;-0.007640;-0.020174;0.009636;0.021311;-0.010260;-0.009241;-0.027356;0.032306;0.023571;0.020188;-0.014711;0.002641;0.001744;-0.014850;0.030531;0.014239;0.029172;0.020132;0.023640;0.002085;0.025165;-0.006323;-0.011557;0.011494;0.020271;0.030004;-0.035190;0.001456;-0.012499;-0.000863;0.013311;-0.018718;-0.005033;-0.004004;-0.003309;0.016874;-0.022295;0.007095;-0.022683;0.002049;-0.001443;-0.015945;0.017151;-0.020715;0.002004;-0.001936;-0.018330;0.019799;-0.009172;0.008076;-0.002149;-0.009040;0.029366;0.015002;-0.003269;-0.015598;0.020479;-0.009539;0.020007;-0.025817;0.011002;0.007709;-0.007882;-0.008284;-0.003399;0.016402;-0.038406;-0.000295;0.004787;0.027065;0.006718;0.016097;0.010468;0.012922;0.006690;0.007141;-0.007335;-0.011238;0.018607;0.030143;-0.001484;0.009241;0.032001;0.032694;-0.011820;-0.027841;0.014038;0.020701;0.029394;0.003400;0.034774;-0.001948;0.003723;0.005550;-0.014170;0.066109;-0.019217;-0.005085;-0.001331;-0.033831;0.016735;-0.076425;-0.036854;0.019813;-0.011175;-0.004846;0.021976;-0.000194;0.005733;-0.005251;0.028590;-0.009685;-0.021477;-0.009934;0.000373;-0.015335;-0.016486;-0.012971;-0.014877;-0.018787;0.035467;-0.007688;0.018052;0.000461;0.018579;-0.020215;0.008104;-0.039127;0.002260;0.005293;0.022877;0.014877;-0.019994;0.030171;-0.034718;-0.023280;-0.018316;-0.033970;-0.012825;-0.003517;-0.037269;0.003581;-0.022156;0.022323;-0.003040;-0.007681;0.020243;-0.013720;0.002964;0.035578;-0.014045;-0.011765;-0.007654;-0.028008;-0.018815;0.032583;-0.008368;-0.004582;0.020936;-0.026261;-0.001311;-0.010787;-0.007515;0.006007;0.050663;0.012999;0.017040;0.013463;-0.014475;0.009102;-0.009643;-0.003466;0.017248;-0.023363;0.008825;-0.005501;-0.005317;0.002827;-0.026704;0.023612;0.005581;-0.006849;-0.015058;-0.008915;-0.016222;0.047530;0.018662;-0.002641;-0.001884;-0.001618;-0.017401;0.002452;-0.002801;0.030725;0.002796;-0.027037;0.002383;-0.001222;-0.011772;0.007328;0.031030;0.010468;0.022309;-0.075704;0.011258;-0.002896;-0.002354;0.007376;-0.012395;0.007882;-0.004440;-0.003194;0.018441;-0.012465;0.034996;-0.004797;-0.000269;-0.019633;-0.004718;0.027481;0.002031;0.029394;0.023682;0.000903;0.005657;0.003354;0.012818;0.002140;0.023585;0.000005;0.013588;-0.015293;-0.000372;0.013962;-0.026455;-0.008430;0.015155;-0.017013;-0.021921;-0.002056;0.017928;0.011654;0.023293;-0.004593;-0.020091;0.014919;-0.023183;-0.012298;-0.008361;-0.015363;-0.019217;-0.006229;0.003948;-0.002830;0.006638;-0.016749;-0.012950;-0.000353;0.000172;-0.000666;-0.005730;0.005116;-0.018787;0.006000;-0.004645;0.000264;-0.001514;0.015044;0.003274;-0.022559;0.026136;0.021089;-0.025761;-0.008811;0.008201;-0.011986;0.019148;0.003653;-0.008028;0.023280;-0.009491;-0.017040;0.024749;0.017290;-0.025831;-0.025110;0.000697;0.017928;0.013775;-0.002017;-0.022032;0.024181;0.020021;-0.026108;-0.005026;-0.001292;-0.010940;0.015584;0.007272;-0.016638;0.003452;0.008298;0.037907;-0.003419;0.000275;0.005106;-0.020798;-0.019051;0.011286;-0.011564;0.002556;-0.005868;0.013366;0.015058;0.017650;-0.005321;0.008021;-0.013172;-0.006388;-0.010468;-0.009456;-0.023765;0.028257;-0.001820;0.002104;0.013103;-0.013089;0.011889;0.033609;0.002539;-0.018066;0.005210;-0.006399;-0.001830;0.007245;-0.012735;-0.008534;-0.005061;0.017151;-0.017886;0.012278;0.015695;0.064778;-0.026566;-0.034663;0.008465;0.004641;-0.007577;-0.007349;-0.006167;-0.035578;-0.035079;0.004953;-0.016943;-0.009914;-0.015792;-0.018357;-0.010662;-0.000319;-0.004135;-0.005976;0.004801;0.008319;0.015862;0.016638;-0.005279;-0.011626;0.017068;0.017969;0.015210;0.011986;-0.052133;-0.005602;0.015945;-0.008381;0.006101;0.026926;-0.038711;-0.001865;-0.006520;0.010427;0.026760;-0.001736;-0.008915;-0.024874;-0.009997;0.023640;0.010434;-0.032639;-0.012804;0.001729;"
     ]
    }
   ],
   "source": [
    "for(EmbeddingItem item : embeddings.block().getData()){\n",
    "    System.out.printf(\"Index: %d.%n\", item.getPromptIndex());\n",
    "    for (Double embedding : item.getEmbedding()) {\n",
    "        System.out.printf(\"%f;\", embedding);\n",
    "    }\n",
    "}\n"
   ]
  },
  {
   "cell_type": "code",
   "execution_count": 10,
   "metadata": {},
   "outputs": [],
   "source": [
    "import io.qdrant.client.QdrantClient;\n",
    "import io.qdrant.client.QdrantGrpcClient;\n",
    "import io.qdrant.client.grpc.Collections.Distance;\n",
    "import io.qdrant.client.grpc.Collections.VectorParams;\n",
    "import java.util.concurrent.ExecutionException;\n",
    "\n"
   ]
  },
  {
   "cell_type": "code",
   "execution_count": 11,
   "metadata": {},
   "outputs": [],
   "source": [
    "import io.qdrant.client.grpc.Collections.VectorParams;"
   ]
  },
  {
   "cell_type": "code",
   "execution_count": 12,
   "metadata": {},
   "outputs": [],
   "source": [
    "import static io.qdrant.client.PointIdFactory.id;\n",
    "import static io.qdrant.client.ValueFactory.value;\n",
    "import static io.qdrant.client.VectorsFactory.vectors;"
   ]
  },
  {
   "cell_type": "code",
   "execution_count": 13,
   "metadata": {},
   "outputs": [],
   "source": [
    "QdrantClient qdrantClient = \n",
    "  new QdrantClient(QdrantGrpcClient.newBuilder(\"localhost\",6334,false).build());"
   ]
  },
  {
   "cell_type": "code",
   "execution_count": 14,
   "metadata": {},
   "outputs": [
    {
     "data": {
      "text/plain": [
       "result: true\n",
       "time: 1.011183418\n"
      ]
     },
     "execution_count": 14,
     "metadata": {},
     "output_type": "execute_result"
    }
   ],
   "source": [
    "qdrantClient.createCollectionAsync(\"demo_collection\", VectorParams.newBuilder().setDistance(Distance.Cosine).setSize(1536).build()).get();"
   ]
  },
  {
   "cell_type": "code",
   "execution_count": 15,
   "metadata": {},
   "outputs": [],
   "source": [
    "import io.qdrant.client.grpc.Points.PointStruct;\n",
    "import io.qdrant.client.grpc.Points.UpdateResult;\n",
    "import static io.qdrant.client.VectorsFactory.vectors;\n"
   ]
  },
  {
   "cell_type": "code",
   "execution_count": 16,
   "metadata": {},
   "outputs": [],
   "source": [
    "import java.util.List;\n",
    "import java.util.Map;"
   ]
  },
  {
   "cell_type": "code",
   "execution_count": 17,
   "metadata": {},
   "outputs": [
    {
     "name": "stdout",
     "output_type": "stream",
     "text": [
      "Index: 0.\n"
     ]
    }
   ],
   "source": [
    "List<List<Float>> points =  new ArrayList<List<Float>>();\n",
    "\n",
    "for(EmbeddingItem item : embeddings.block().getData()){\n",
    "    System.out.printf(\"Index: %d.%n\", item.getPromptIndex());\n",
    "    List<Float> values = new ArrayList<Float>();\n",
    "    for (Double embedding : item.getEmbedding()) {\n",
    "        values.add(embedding.floatValue());\n",
    "    }\n",
    "    points.add(values);\n",
    "}"
   ]
  },
  {
   "cell_type": "code",
   "execution_count": 18,
   "metadata": {},
   "outputs": [],
   "source": [
    "\n",
    "List<PointStruct> tmp = new ArrayList<PointStruct>();\n",
    "\n",
    "\n",
    "for (List<Float> embedding : points) {\n",
    "\n",
    "    var pp =  \n",
    "            PointStruct.newBuilder()\n",
    "            .setId(id(1))\n",
    "            .setVectors(vectors(embedding))\n",
    "            .putAllPayload(Map.of(\"info\", value(\"Kinfey is Microsoft MVP\")))\n",
    "            .build();\n",
    "\n",
    "    tmp.add(pp);\n",
    "\n",
    "    \n",
    "\n",
    "}"
   ]
  },
  {
   "cell_type": "code",
   "execution_count": 19,
   "metadata": {},
   "outputs": [],
   "source": [
    "var updateResult = qdrantClient.upsertAsync(\"demo_collection\", tmp).get();"
   ]
  },
  {
   "cell_type": "code",
   "execution_count": 20,
   "metadata": {},
   "outputs": [
    {
     "data": {
      "text/plain": [
       "operation_id: 0\n",
       "status: Completed\n"
      ]
     },
     "execution_count": 20,
     "metadata": {},
     "output_type": "execute_result"
    }
   ],
   "source": [
    "updateResult"
   ]
  },
  {
   "cell_type": "code",
   "execution_count": 21,
   "metadata": {},
   "outputs": [],
   "source": [
    "EmbeddingsOptions qembeddingsOptions = new EmbeddingsOptions(\n",
    "    Arrays.asList(\"who is kinfey\"));\n",
    "\n",
    "var qembeddings = client.getEmbeddings(\"Your Azure OpenAI Service text-ada-002 deployment name\", qembeddingsOptions);"
   ]
  },
  {
   "cell_type": "code",
   "execution_count": 22,
   "metadata": {},
   "outputs": [
    {
     "name": "stdout",
     "output_type": "stream",
     "text": [
      "Index: 0.\n",
      "0.013055;-0.003249;-0.019838;-0.018320;-0.029988;0.031243;-0.037465;-0.014433;0.003142;-0.035814;0.032695;-0.010753;0.022198;-0.006296;-0.011743;-0.008690;-0.000430;0.013633;0.029064;-0.021555;-0.005975;0.034164;0.002927;-0.035121;-0.014804;0.014953;0.019591;-0.019442;-0.018798;-0.017330;-0.016793;-0.009185;0.015167;0.016702;-0.009094;0.000823;-0.011858;-0.024146;0.041360;-0.019871;0.029840;0.003284;-0.022182;0.019310;-0.015093;-0.002010;-0.011999;0.026060;-0.010678;0.017346;0.006779;-0.000777;-0.011875;-0.004518;-0.005438;-0.021522;-0.034923;0.007765;-0.018567;-0.024806;-0.011644;0.015233;-0.009894;-0.003251;0.039577;-0.007476;0.011231;0.031804;-0.024476;-0.003173;0.030170;0.048490;-0.027859;-0.012139;0.021835;-0.012386;-0.011107;0.035319;-0.011858;0.010546;0.015217;-0.017115;-0.024360;0.024888;0.009606;-0.008557;0.015984;0.038686;0.036805;0.028519;-0.009762;0.009325;0.041822;0.029559;-0.017660;0.014367;-0.015770;0.004174;0.030665;0.004720;0.003266;0.024707;0.014813;-0.003984;-0.014425;-0.001344;-0.014177;-0.021555;0.023816;0.002973;-0.026935;0.039610;0.016810;0.021373;-0.030830;-0.019277;-0.016744;-0.024839;-0.006032;-0.051559;0.018947;0.001287;-0.017330;-0.035121;0.019492;0.015547;-0.017164;-0.049381;0.004254;-0.021753;0.047796;-0.034428;0.053012;-0.011462;-0.008161;0.028750;-0.040303;-0.006771;0.012494;-0.006181;0.007778;0.030913;-0.031474;0.009449;-0.037828;0.014738;-0.007452;-0.015456;0.007245;-0.026605;0.037531;0.039775;0.015283;-0.003837;0.046938;-0.005942;-0.002694;0.019145;-0.025499;-0.013096;-0.012865;-0.002562;-0.007901;0.011041;0.015390;0.028618;0.048721;0.013600;0.015869;-0.011000;0.051757;0.013352;-0.032497;0.021819;0.033900;-0.028140;0.032233;-0.002841;-0.019525;0.003128;-0.021769;0.044991;-0.000069;0.020878;-0.010389;-0.008739;0.009028;-0.012568;0.019228;-0.017247;0.004089;-0.006144;0.012065;-0.013476;-0.367584;-0.018122;0.010422;-0.025565;0.006082;0.019871;0.026687;-0.028767;-0.006445;-0.011842;-0.009680;0.044232;0.002513;0.010852;-0.041063;-0.012510;-0.015778;-0.047763;0.002847;0.023453;0.006742;0.019442;-0.005005;0.017197;0.022215;-0.001012;-0.000170;-0.005352;0.005372;-0.031523;-0.048886;0.049579;0.009407;-0.022446;0.059614;-0.035055;-0.010290;-0.014020;-0.003241;0.035484;-0.048754;-0.033438;0.026341;-0.014920;-0.005880;0.003086;-0.011215;0.003759;-0.002690;0.016298;0.011801;-0.007716;0.003586;-0.008557;-0.031045;0.019690;-0.008912;-0.047334;-0.007212;0.042911;-0.017429;0.052649;-0.030335;0.003350;-0.014499;0.007497;0.003024;-0.012386;0.003784;-0.016653;0.007283;0.016843;-0.033025;-0.004440;0.026291;0.011619;0.025054;-0.017924;-0.020564;-0.013872;0.000631;0.006804;-0.026638;0.003590;0.026720;-0.000629;-0.032563;-0.024014;-0.013319;-0.033900;0.005781;0.009985;-0.014912;-0.045486;0.012098;0.020581;-0.006391;0.004510;0.002721;-0.036838;-0.005863;-0.000630;0.002876;-0.019624;-0.015027;0.012832;-0.041063;0.020053;0.018039;-0.014474;-0.029840;-0.012403;-0.005343;-0.009416;-0.023403;-0.051658;0.019904;0.018287;-0.006168;0.009209;0.002214;0.030252;-0.019459;0.009498;-0.012750;0.039016;-0.016471;-0.002474;-0.032332;0.021324;0.022281;-0.019145;0.029807;0.000071;0.034362;-0.000631;0.027414;-0.007039;0.013195;-0.013996;-0.006115;-0.016562;-0.001199;0.004869;0.009614;-0.006301;-0.029328;0.016513;0.011842;0.004716;-0.010167;-0.023766;-0.031837;0.035055;0.038125;-0.041096;-0.004518;0.013971;0.005092;-0.009498;0.017297;0.016471;-0.061231;-0.024261;0.002191;0.002525;0.012131;0.006985;0.012931;-0.025730;0.016207;-0.010018;-0.028899;0.011537;0.003037;-0.028437;0.027232;0.013946;-0.005195;-0.005240;-0.002839;-0.019211;-0.052748;-0.006664;0.045420;-0.001721;-0.005690;0.022066;0.022000;0.039511;-0.029922;-0.016966;0.006036;0.007864;0.009209;-0.021703;-0.005125;0.001970;-0.017197;0.026753;0.046344;-0.009275;0.014309;-0.001112;-0.002958;-0.032480;0.004539;-0.013005;0.038224;0.018056;0.011561;-0.010175;-0.015778;-0.002410;0.017759;0.017330;0.014128;-0.007233;-0.032348;-0.036408;-0.045024;-0.044859;0.005640;0.048886;0.003024;0.001808;-0.018254;-0.007629;0.027480;-0.001943;-0.026060;0.014532;-0.014194;0.016026;-0.009325;0.019112;0.043571;-0.002294;0.024773;-0.018402;0.005644;-0.008681;0.012362;-0.020680;0.036111;0.027991;0.016966;-0.001568;-0.019211;0.007592;0.001957;0.035484;-0.027711;0.007072;0.022347;-0.022066;-0.006160;-0.003220;-0.021274;0.045387;-0.008962;-0.025169;-0.004074;-0.000592;0.026423;0.034527;0.038455;-0.008347;-0.034956;-0.022297;0.002286;-0.003520;-0.001065;0.026489;0.059977;0.026737;0.011008;0.018485;0.020267;0.006061;0.004345;-0.035913;0.013080;0.006726;-0.020036;-0.035946;-0.029295;0.002482;0.013129;0.012494;0.015630;-0.003321;-0.011784;-0.008805;-0.009787;0.012164;0.020020;-0.003600;-0.000571;0.008458;-0.013038;0.013393;-0.002325;-0.011066;0.032315;0.008227;-0.018006;-0.017313;-0.010241;-0.010018;0.041030;-0.012568;-0.009498;-0.019822;-0.028057;-0.012353;-0.024822;-0.012609;0.038488;-0.020696;0.008434;-0.032910;-0.017693;0.045552;0.227627;0.001627;0.008384;0.033388;0.002855;0.006350;-0.022396;-0.013987;0.020300;-0.001894;0.015704;-0.028123;0.000668;0.030120;-0.004460;-0.022941;-0.034131;-0.005970;-0.021324;-0.000191;-0.038653;0.007778;0.020911;-0.000650;-0.027150;-0.009407;0.022611;0.059283;0.000312;-0.008698;0.021654;-0.038917;0.026275;0.009713;-0.023090;0.030170;0.001877;-0.036607;0.023486;-0.047235;0.021010;-0.005640;-0.001209;-0.043802;0.000809;-0.014392;0.019789;-0.007695;-0.023981;0.005694;0.028883;0.015382;-0.017049;-0.016273;0.014037;0.009787;-0.020531;0.005153;-0.002088;0.010150;-0.010233;-0.030847;-0.004819;0.006759;0.007056;-0.006482;0.007604;-0.018237;-0.015506;-0.019013;0.022693;-0.009944;0.001536;-0.014293;-0.011949;0.023502;0.005063;-0.009927;-0.010348;-0.008764;0.019756;-0.000006;-0.017511;-0.013814;-0.011825;-0.002490;-0.018996;0.009894;0.031210;0.005777;0.025862;0.019261;0.022825;-0.029708;-0.017693;-0.025598;0.009622;-0.020630;-0.012023;-0.011792;0.031738;0.007068;0.032249;-0.015118;-0.026044;0.007658;-0.006668;0.023238;-0.046476;-0.003608;-0.005129;-0.046641;0.040403;0.010158;0.041261;0.003544;-0.016298;0.007183;-0.011867;0.016570;-0.013393;-0.014598;0.019244;0.024443;0.009168;0.030615;0.013583;-0.023717;-0.024657;0.006362;-0.024839;0.018105;-0.012601;-0.035847;-0.030962;-0.027661;-0.049711;-0.002060;-0.000579;0.006523;-0.024228;-0.060307;0.027826;-0.039511;-0.004060;-0.023040;-0.028949;0.023898;-0.041657;-0.000199;-0.055652;0.026786;-0.018633;-0.007551;-0.011388;0.019855;-0.014648;0.006825;-0.002991;0.040667;0.012659;0.024443;0.010035;-0.003253;-0.004625;-0.007674;-0.001903;0.009399;-0.024988;0.009069;0.003140;0.011132;0.037201;0.018353;0.003022;0.013261;0.019756;-0.010588;-0.021472;-0.018633;0.008087;-0.004460;-0.042647;-0.003664;0.016017;0.019558;0.050800;0.016735;0.011627;-0.000827;0.011933;-0.031573;0.025285;-0.023222;0.035055;-0.005781;-0.006849;0.006808;-0.030203;0.003647;0.003235;0.008326;-0.028437;-0.003059;0.009028;0.032051;0.002035;-0.004423;-0.009086;-0.042944;-0.016867;-0.013501;-0.030137;-0.038455;0.014177;-0.009688;-0.018815;0.038191;0.001654;-0.008005;-0.022924;0.009705;0.002571;-0.010909;0.026308;0.015663;0.009919;-0.014045;0.015019;-0.013789;-0.021059;0.003732;0.022248;-0.016562;0.000308;0.045882;0.012411;-0.027925;-0.039214;0.019822;-0.013996;0.005009;-0.001304;0.002614;0.005616;0.032910;0.010505;-0.006730;-0.024723;-0.029955;-0.007736;0.029180;-0.004807;0.003903;-0.003181;-0.044760;-0.019954;-0.003986;0.018567;0.016207;-0.042515;0.029675;0.014375;-0.009482;0.001674;-0.013030;-0.049744;-0.001056;-0.005207;0.028057;-0.024905;0.031837;0.007485;-0.012890;0.018468;-0.017148;-0.003103;-0.005616;0.022182;0.015951;0.020581;-0.010852;-0.002294;-0.000496;-0.008954;-0.034428;0.032877;-0.017759;0.022974;-0.012452;0.025994;-0.026539;0.010670;0.014425;0.025994;-0.018419;0.006102;0.024575;0.005166;-0.012007;-0.023799;-0.021472;-0.006074;0.001999;-0.014598;0.017726;0.017379;-0.025268;-0.018501;0.012419;0.024278;0.022347;0.018188;-0.041525;-0.000037;0.022132;0.001158;-0.013344;-0.008421;0.009647;-0.014969;-0.007745;0.022908;-0.027348;-0.007699;0.015696;0.012510;-0.029543;-0.017528;-0.029526;0.020383;0.008756;-0.011206;0.011784;0.016826;-0.044595;-0.011677;0.017891;-0.013071;-0.000794;0.004489;0.017990;-0.009622;0.031408;0.005059;0.007972;-0.005533;-0.020927;-0.064268;-0.009894;-0.012312;0.052352;0.009201;-0.028998;-0.045519;-0.033768;-0.005826;0.000176;-0.043670;0.011404;-0.014441;-0.020531;0.015423;0.021406;-0.009234;0.030698;-0.017379;-0.015134;0.036541;0.019871;-0.022726;-0.037531;-0.017098;0.012065;0.025219;-0.022248;0.001395;0.027744;-0.000774;-0.014392;0.016488;0.003493;0.023832;0.009440;0.027100;-0.013071;-0.003841;-0.022660;-0.009779;-0.005116;0.009242;0.009771;-0.023172;-0.003573;-0.011198;0.029196;0.016966;-0.001369;0.046938;-0.010191;0.025516;0.001912;0.020102;-0.014961;-0.013410;0.007790;-0.041459;0.007575;-0.034593;-0.002121;0.024162;0.008855;0.013657;0.000361;-0.016100;0.009861;-0.015390;-0.013071;0.007217;0.001035;0.000163;-0.034626;-0.005174;0.005888;-0.016422;-0.015786;0.000427;-0.011693;-0.046245;0.035121;-0.025054;0.002172;-0.051956;0.029196;-0.015704;0.033058;0.115398;0.007761;0.013047;-0.006420;-0.032893;-0.007204;0.024888;0.026308;0.012519;-0.005071;0.002905;0.003388;-0.010406;0.006478;-0.011941;-0.036210;0.006478;0.001645;-0.012197;-0.029411;0.025318;-0.017742;-0.003047;0.001499;0.036508;-0.003621;0.003841;0.015060;-0.007637;-0.009308;-0.005244;0.006123;-0.000575;0.007448;-0.041129;0.011792;-0.005380;-0.003936;0.058623;0.023634;0.021918;-0.031969;0.016933;-0.031688;-0.000624;-0.000082;-0.020135;-0.019277;-0.019393;-0.005488;-0.069054;-0.024393;0.012271;0.004844;-0.006189;-0.005706;0.015019;0.022743;-0.013468;-0.030417;0.000344;0.024690;-0.017346;0.018171;-0.015663;0.037333;0.004349;0.015745;0.039874;0.002624;-0.034131;0.006065;-0.007980;0.011289;-0.030236;-0.054662;0.024162;-0.019970;0.027381;0.032745;-0.010546;-0.026374;-0.016554;0.010662;-0.032464;-0.022099;0.005917;-0.031804;0.004209;0.011149;0.020201;0.032728;-0.009383;-0.016026;0.002661;-0.009185;0.005446;0.008029;0.023337;0.020152;-0.030252;-0.010224;-0.005682;0.012419;-0.000026;0.001149;0.002236;0.013946;-0.005826;-0.027100;-0.004046;0.006222;-0.001189;-0.011702;0.023040;0.008211;-0.007939;-0.001154;-0.025301;-0.038422;-0.015696;-0.006560;0.018287;-0.018930;-0.051691;0.005966;-0.024327;-0.000492;-0.033900;-0.035814;0.019987;-0.022198;0.034230;-0.003200;-0.009077;-0.001885;0.011999;0.027991;-0.003268;-0.001946;0.009449;-0.008467;-0.016257;-0.001833;0.007976;-0.014062;0.037201;-0.008863;-0.025978;-0.002762;-0.024129;-0.009259;0.017528;-0.014128;0.057237;-0.017627;-0.009069;-0.010604;0.036673;0.013509;-0.046839;0.000559;-0.008124;-0.004984;-0.019426;-0.003161;-0.211519;0.006140;-0.002317;-0.006284;0.055752;0.025186;0.003841;0.007551;0.000534;0.015786;0.028800;0.007291;-0.033603;-0.004250;0.035220;-0.008368;-0.000207;-0.005298;-0.005921;0.027529;0.023288;0.012593;0.039148;0.013418;-0.006280;0.003796;-0.025334;-0.018633;0.030302;-0.009284;-0.028783;-0.020185;0.039874;0.009853;0.024509;-0.013921;0.001114;0.006474;-0.028024;0.014540;0.040568;0.053540;0.002325;0.036739;0.015539;0.002610;-0.016777;0.025120;0.001196;0.032266;0.021604;-0.010175;0.018023;0.003425;0.007724;0.021984;-0.026935;-0.022924;0.006515;-0.006862;-0.017346;-0.001140;-0.003796;-0.028932;0.018369;0.011636;-0.037696;0.004852;0.003850;-0.004108;0.014152;-0.014218;0.039907;-0.007155;-0.002174;-0.010802;-0.001484;-0.000947;0.004295;-0.005207;-0.038158;0.035022;-0.038455;0.020119;-0.014383;-0.002156;0.027282;-0.004832;-0.009539;0.002362;0.026159;-0.038092;-0.001445;0.005570;0.015349;-0.002632;0.011314;0.014714;0.010068;0.000383;0.019277;-0.015564;0.001963;0.022281;0.029262;-0.005702;-0.011735;0.035913;0.045387;-0.015044;-0.009944;-0.014639;0.031111;0.034560;0.001144;0.032959;-0.012585;0.014169;0.037168;-0.016009;0.055289;-0.013129;-0.003406;0.028470;-0.046344;0.008483;-0.104571;-0.015423;0.002698;-0.011933;0.006069;0.001256;0.002181;-0.006717;0.000064;0.028338;-0.010596;-0.001253;-0.019393;0.002304;-0.002424;-0.006292;-0.011710;-0.033075;-0.004592;0.037300;-0.000125;0.008326;0.014268;0.008871;-0.026374;0.007914;-0.025846;-0.003313;0.001646;0.020795;0.020894;-0.016562;0.021390;-0.042185;-0.033537;-0.013476;-0.033438;0.001627;0.047301;-0.049546;0.003775;-0.027480;0.011305;0.022429;-0.020482;0.015101;-0.024954;0.015902;0.023601;-0.011825;-0.027133;-0.027265;-0.010951;-0.010233;0.058722;-0.020515;-0.003022;0.017676;-0.010786;0.015044;-0.008648;0.015720;0.010447;0.032513;-0.011652;0.018105;0.013451;-0.003788;0.020894;0.005966;0.022825;0.020795;-0.007584;0.013063;-0.020168;-0.006020;0.007068;-0.022660;0.025697;-0.023354;-0.015572;-0.009102;0.003134;-0.032976;0.043703;0.013501;0.003216;-0.028503;-0.001431;-0.020168;0.009226;-0.002678;0.005904;-0.003031;-0.036904;0.015465;-0.010596;-0.005843;-0.003154;0.045057;0.003848;0.013616;-0.080409;0.014656;0.004947;-0.030417;0.019409;-0.002585;0.009771;-0.018633;-0.012494;0.056874;-0.022000;0.059944;0.002564;-0.001845;-0.034989;-0.011858;0.028734;0.012972;0.031820;0.034923;0.030005;0.034890;0.035022;-0.005455;-0.008673;0.020944;-0.002513;0.010183;-0.002919;-0.000009;0.036078;-0.047202;-0.006181;-0.000034;-0.003909;-0.028107;0.005112;0.018171;0.001479;0.013014;0.025202;-0.016364;0.009845;-0.017313;-0.008351;-0.009993;0.002502;0.008516;0.024162;0.002599;-0.015225;0.009911;-0.018947;0.006816;-0.022941;-0.011149;0.004464;0.011636;0.007683;-0.017874;-0.008599;0.019723;0.001287;0.005950;0.007406;-0.001112;-0.047895;0.016702;0.031061;-0.059614;-0.025466;0.009589;-0.035517;0.007031;-0.000864;-0.000288;0.010447;-0.033900;-0.023618;0.023172;0.017049;-0.034362;-0.032398;-0.025615;0.010365;0.017792;-0.014598;-0.007039;0.031457;0.013311;-0.027430;0.003173;-0.005752;-0.016125;0.010554;-0.011999;-0.037993;0.012254;-0.007155;0.046674;0.016760;0.001073;0.006952;-0.013525;-0.032084;0.011297;-0.008438;-0.028090;-0.010604;0.043670;0.006804;0.025433;-0.053144;0.029922;0.002333;0.003286;-0.011776;0.011850;-0.018798;0.041327;-0.010554;0.020234;0.015110;-0.007138;0.014086;0.034659;-0.011528;-0.012461;-0.022941;0.000674;-0.005273;0.010191;-0.007439;-0.009787;-0.012840;0.009036;-0.002181;0.003018;-0.008260;0.138372;-0.027232;-0.031012;0.021010;0.002721;-0.016579;-0.021159;-0.034758;-0.039643;-0.021819;-0.005929;-0.047730;-0.026770;-0.016414;-0.014664;-0.019475;0.041921;-0.013888;-0.000044;0.003693;-0.005207;0.007448;0.034923;-0.009152;-0.020086;0.006140;0.025895;0.013385;0.004163;-0.062155;-0.009647;0.025450;0.015687;0.013154;0.030929;-0.035880;-0.010876;-0.004027;0.004815;0.016554;-0.012717;-0.025466;-0.038323;-0.023783;0.008335;0.013236;-0.011652;-0.018600;-0.036309;"
     ]
    }
   ],
   "source": [
    "for(EmbeddingItem item : qembeddings.block().getData()){\n",
    "    System.out.printf(\"Index: %d.%n\", item.getPromptIndex());\n",
    "    for (Double embedding : item.getEmbedding()) {\n",
    "        System.out.printf(\"%f;\", embedding);\n",
    "    }\n",
    "}"
   ]
  },
  {
   "cell_type": "code",
   "execution_count": 23,
   "metadata": {},
   "outputs": [],
   "source": [
    "List<Float> qe = new ArrayList<Float>();\n",
    "\n",
    "\n",
    "for(EmbeddingItem item : qembeddings.block().getData()){\n",
    "    // System.out.printf(\"Index: %d.%n\", item.getPromptIndex());\n",
    "    for (Double embedding : item.getEmbedding()) {\n",
    "        // System.out.printf(\"%f;\", embedding);\n",
    "        qe.add(embedding.floatValue());\n",
    "    }\n",
    "}"
   ]
  },
  {
   "cell_type": "code",
   "execution_count": 24,
   "metadata": {},
   "outputs": [
    {
     "data": {
      "text/plain": [
       "[0.013054897, -0.003249283, -0.019838162, -0.018319767, -0.029988304, 0.03124263, -0.03746475, -0.014433006, 0.003142005, -0.03581432, 0.032695007, -0.010752548, 0.022198277, -0.0062963883, -0.011742806, -0.008689512, -4.3014318E-4, 0.013632548, 0.029064063, -0.02155461, -0.005974555, 0.034163892, 0.0029274493, -0.03512114, -0.014804353, 0.0149528915, 0.019590598, -0.01944206, -0.018798392, -0.01732951, -0.01679312, -0.00918464, 0.015167447, 0.016702347, -0.009093867, 8.2263595E-4, -0.011858336, -0.024145784, 0.041359764, -0.019871172, 0.029839765, 0.0032843547, -0.022181772, 0.019310025, -0.015093178, -0.0020104295, -0.011998623, 0.026060281, -0.010678279, 0.017346013, 0.006779139, -7.7724917E-4, -0.011874841, -0.0045180507, -0.0054381653, -0.0215216, -0.034923088, 0.007765271, -0.018567331, -0.024805956, -0.01164378, 0.015233465, -0.0098943245, -0.003251346, 0.039577298, -0.0074764458, 0.011231173, 0.031803776, -0.024475869, -0.0031729506, 0.03016985, 0.04848962, -0.02785925, -0.012138909, 0.021835182, -0.012386473, -0.011107391, 0.03531919, -0.011858336, 0.010546245, 0.01521696, -0.017114954, -0.02436034, 0.024888476, 0.0096055, -0.008557477, 0.01598441, 0.038686067, 0.03680458, 0.028519422, -0.009762291, 0.009324927, 0.041821882, 0.029559191, -0.017659595, 0.014366989, -0.015769854, 0.0041735237, 0.03066498, 0.0047202283, 0.0032657874, 0.02470693, 0.0148126045, -0.0039837244, -0.014424753, -0.0013440686, -0.014177189, -0.02155461, 0.023815697, 0.0029728361, -0.02693501, 0.039610308, 0.016809624, 0.021373061, -0.030830024, -0.019277016, -0.016743608, -0.024838964, -0.0060323197, -0.05155942, 0.01894693, 0.001287335, -0.01732951, -0.03512114, 0.019491572, 0.0155470455, -0.017164467, -0.04938085, 0.004253982, -0.021752661, 0.04779644, -0.03442796, 0.053011794, -0.011462233, -0.008161373, 0.028750481, -0.040303487, -0.006770887, 0.012493751, -0.0061808582, 0.007777649, 0.030912545, -0.03147369, 0.009448709, -0.037827846, 0.014738335, -0.0074516893, -0.015456272, 0.0072453856, -0.026604922, 0.037530765, 0.03977535, 0.015282977, -0.0038372485, 0.046938214, -0.005941546, -0.0026943262, 0.019144982, -0.025499135, -0.013096158, -0.012865098, -0.0025622917, -0.007901431, 0.011041373, 0.015390255, 0.028618447, 0.04872068, 0.013599539, 0.01586888, -0.011000113, 0.05175747, 0.013351975, -0.032496955, 0.021818677, 0.03389982, -0.028139822, 0.032232888, -0.0028408018, -0.019524582, 0.003127564, -0.021769164, 0.044990707, -6.936961E-5, 0.020877933, -0.010389454, -0.008739024, 0.009027849, -0.01256802, 0.019227503, -0.017246988, 0.004088939, -0.0061437236, 0.0120646395, -0.013475757, -0.36758366, -0.018121716, 0.010422463, -0.025565153, 0.0060818326, 0.019871172, 0.026687445, -0.028766986, -0.0064449273, -0.011841832, -0.009679769, 0.04423151, 0.0025127789, 0.010851574, -0.041062687, -0.012510256, -0.015778106, -0.04776343, 0.002846991, 0.023452602, 0.0067420043, 0.01944206, -0.0050049275, 0.017197475, 0.022214781, -0.0010124353, -1.7020054E-4, -0.005351518, 0.005372148, -0.0315232, -0.04888572, 0.0495789, 0.009407448, -0.02244584, 0.059613515, -0.035055123, -0.010290428, -0.014020398, -0.003241031, 0.035484236, -0.048753686, -0.033437703, 0.026340855, -0.014919883, -0.005879655, 0.0030863031, -0.011214669, 0.003758853, -0.0026902, 0.01629799, 0.01180057, -0.007715758, 0.0035855582, -0.008557477, -0.031044578, 0.019689623, -0.008912319, -0.047334317, -0.0072123767, 0.04291117, -0.017428536, 0.0526487, -0.030334894, 0.003350372, -0.014499023, 0.007497076, 0.003024412, -0.012386473, 0.0037836097, -0.016652834, 0.00728252, 0.016842633, -0.033025093, -0.004439655, 0.026291342, 0.011619024, 0.02505352, -0.017923664, -0.020564351, -0.01387186, 6.3077355E-4, 0.006803896, -0.026637932, 0.0035896841, 0.026720453, -6.287105E-4, -0.032562975, -0.024013748, -0.013318966, -0.03389982, 0.0057806293, 0.009985099, -0.01491163, -0.045485836, 0.012097648, 0.020580856, -0.0063912882, 0.0045097987, 0.0027211455, -0.036837585, -0.0058631506, -6.29742E-4, 0.0028758734, -0.019623607, -0.015027161, 0.012832089, -0.041062687, 0.020052718, 0.018039195, -0.014474266, -0.029839765, -0.012402978, -0.0053432654, -0.0094157, -0.02340309, -0.051658444, 0.01990418, 0.018286759, -0.00616848, 0.009209396, 0.0022136385, 0.030252373, -0.019458564, 0.009498222, -0.012749568, 0.039016154, -0.016471287, -0.0024735811, -0.032331914, 0.021323549, 0.022280797, -0.019144982, 0.029806757, 7.104583E-5, 0.034361944, -6.3077355E-4, 0.027413635, -0.007039082, 0.013195184, -0.013995642, -0.0061148414, -0.01656206, -0.0011986244, 0.004868767, 0.009613751, -0.0063005146, -0.029328132, 0.016512547, 0.011841832, 0.0047161025, -0.010166646, -0.023766184, -0.031836785, 0.035055123, 0.038124923, -0.041095693, -0.0045180507, 0.013970885, 0.005091575, -0.009498222, 0.0172965, 0.016471287, -0.061230935, -0.024261314, 0.0021909452, 0.002525157, 0.012130657, 0.0069854427, 0.012931115, -0.025730196, 0.016207218, -0.0100181075, -0.02889902, 0.011536502, 0.0030367903, -0.028436901, 0.027232086, 0.013946129, -0.005194727, -0.0052401135, -0.0028387387, -0.019211, -0.052747726, -0.0066636093, 0.04541982, -0.0017205727, -0.0056898557, 0.022066243, 0.022000225, 0.039511282, -0.029922286, -0.016966416, 0.006036446, 0.007864296, 0.009209396, -0.021703148, -0.0051245834, 0.0019702, -0.017197475, 0.026753463, 0.04634406, -0.009275414, 0.014309224, -0.0011119769, -0.0029583948, -0.032480452, 0.004538681, -0.013005384, 0.03822395, 0.018055698, 0.011561259, -0.0101748975, -0.015778106, -0.002409627, 0.01775862, 0.01732951, 0.014127676, -0.0072330073, -0.032348417, -0.036408473, -0.045023717, -0.044858675, 0.005640343, 0.04888572, 0.003024412, 0.0018082518, -0.018253751, -0.0076291105, 0.02747965, -0.0019433807, -0.026060281, 0.0145320315, -0.014193693, 0.01602567, -0.009324927, 0.019111974, 0.043571338, -0.002294097, 0.024772946, -0.01840229, 0.005644469, -0.008681259, 0.0123617165, -0.020679882, 0.036111396, 0.027991284, 0.016966416, -0.001567908, -0.019211, 0.007591976, 0.0019567905, 0.035484236, -0.027710712, 0.00707209, 0.022346815, -0.022066243, -0.006160228, -0.0032204005, -0.021274036, 0.04538681, -0.008961832, -0.02516905, -0.0040744976, -5.915758E-4, 0.026423376, 0.034526985, 0.038455006, -0.0083470475, -0.034956098, -0.022297302, 0.0022858449, -0.003519541, -0.001064527, 0.026489394, 0.059976608, 0.026736958, 0.011008365, 0.01848481, 0.020267274, 0.0060612024, 0.004344756, -0.035913344, 0.0130796535, 0.0067255003, -0.020036215, -0.035946354, -0.029295124, 0.0024818333, 0.013129166, 0.012493751, 0.015629567, -0.0033214893, -0.011784066, -0.008805041, -0.009787047, 0.012163665, 0.02001971, -0.0035999992, -5.714612E-4, 0.008458451, -0.013038393, 0.013393235, -0.0023250426, -0.011066129, 0.03231541, 0.008227391, -0.018006185, -0.017313005, -0.010240915, -0.0100181075, 0.041029677, -0.01256802, -0.009498222, -0.019821659, -0.028057301, -0.012353465, -0.02482246, -0.012609282, 0.038488016, -0.020696387, 0.008433695, -0.032909565, -0.017692605, 0.045551855, 0.22762723, 0.0016267046, 0.008384182, 0.03338819, 0.002855243, 0.0063500274, -0.022396328, -0.01398739, 0.020300282, -0.0018938679, 0.015703836, -0.02812332, 6.6790817E-4, 0.030120337, -0.004460286, -0.02294097, -0.034130882, -0.0059704287, -0.021323549, -1.9121772E-4, -0.038653057, 0.007777649, 0.020910941, -6.5037236E-4, -0.027149566, -0.009407448, 0.022610884, 0.059283428, 3.1151855E-4, -0.008697763, 0.021653635, -0.038917128, 0.026274838, 0.009712777, -0.02308951, 0.03016985, 0.0018773635, -0.036606528, 0.023485612, -0.04723529, 0.021009967, -0.005640343, -0.0012089396, -0.0438024, 8.092262E-4, -0.014391745, 0.019788649, -0.0076951273, -0.02398074, 0.005693982, 0.028882517, 0.015382003, -0.017048936, -0.016273234, 0.014036903, 0.009787047, -0.020531343, 0.005153466, -0.0020877933, 0.010150141, -0.010232663, -0.030846527, -0.004819254, 0.0067585087, 0.007055586, -0.006482062, 0.007604354, -0.018237246, -0.015505785, -0.019012948, 0.022693405, -0.009943837, 0.0015359309, -0.01429272, -0.01194911, 0.023502115, 0.0050626923, -0.009927333, -0.010348193, -0.008763781, 0.019755641, -6.205228E-6, -0.017511057, -0.0138140945, -0.011825328, -0.0024900855, -0.018996444, 0.0098943245, 0.031209622, 0.005776503, 0.02586223, 0.019260513, 0.02282544, -0.029707732, -0.017692605, -0.02559816, 0.009622004, -0.020630369, -0.012023379, -0.011792319, 0.03173776, 0.0070679644, 0.03224939, -0.015117934, -0.026043778, 0.0076579927, -0.006667735, 0.023238048, -0.046476096, -0.0036082515, -0.0051287096, -0.046641137, 0.040402513, 0.0101583935, 0.041260738, 0.0035442973, -0.01629799, 0.0071834945, -0.011866588, 0.016570313, -0.013393235, -0.014598049, 0.019244008, 0.02444286, 0.009168136, 0.030615468, 0.013583034, -0.023716671, -0.024657417, 0.0063624056, -0.024838964, 0.01810521, -0.012601029, -0.03584733, -0.030962057, -0.027661199, -0.049710937, -0.0020599423, -5.786818E-4, 0.006523323, -0.024228305, -0.060306694, 0.027826242, -0.039511282, -0.0040600565, -0.023039997, -0.028948532, 0.02389822, -0.04165684, -1.99212E-4, -0.055652484, 0.02678647, -0.018633349, -0.007550715, -0.011387964, 0.019854667, -0.014647562, 0.006824526, -0.0029914035, 0.040666584, 0.012658794, 0.02444286, 0.010034611, -0.0032534092, -0.004625329, -0.007674497, -0.0019031515, 0.009399196, -0.024987502, 0.00906911, 0.0031399422, 0.011132147, 0.037200682, 0.018352777, 0.003022349, 0.013261201, 0.019755641, -0.010587505, -0.021472087, -0.018633349, 0.008087104, -0.004460286, -0.042647097, -0.0036639534, 0.016017418, 0.01955759, 0.05080022, 0.016735354, 0.0116272755, -8.26762E-4, 0.011932605, -0.031572714, 0.025284579, -0.023221543, 0.035055123, -0.0057806293, -0.0068492824, 0.0068080216, -0.03020286, 0.0036474492, 0.0032348419, 0.008326417, -0.028436901, -0.0030594836, 0.009027849, 0.03205134, 0.002035186, -0.0044231513, -0.009085614, -0.042944174, -0.01686739, -0.0135005135, -0.030136842, -0.038455006, 0.014177189, -0.009688021, -0.018814895, 0.03819094, 0.001653524, -0.008004583, -0.022924466, 0.009704526, 0.002570544, -0.0109093385, 0.026307845, 0.015662575, 0.009919081, -0.014045155, 0.015018908, -0.013789338, -0.02105948, 0.0037320338, 0.02224779, -0.01656206, 3.0816614E-4, 0.04588194, 0.01241123, -0.027925268, -0.039214205, 0.019821659, -0.013995642, 0.0050090537, -0.0013038393, 0.0026138676, 0.0056155864, 0.032909565, 0.010504983, -0.006729626, -0.024723433, -0.029955296, -0.007736388, 0.029179594, -0.0048068757, 0.0039032658, -0.0031812028, -0.044759646, -0.019953692, -0.0039857873, 0.018567331, 0.016207218, -0.042515066, 0.029674722, 0.014375241, -0.009481718, 0.0016741544, -0.013030141, -0.049743947, -0.0010557591, -0.005207105, 0.028057301, -0.024904981, 0.031836785, 0.0074846977, -0.012889855, 0.018468305, -0.017147962, -0.0031028076, -0.0056155864, 0.022181772, 0.0159514, 0.020580856, -0.010851574, -0.002294097, -4.9564464E-4, -0.00895358, -0.03442796, 0.032876555, -0.01775862, 0.022973979, -0.012452491, 0.025994264, -0.026538907, 0.010670027, 0.014424753, 0.025994264, -0.018418793, 0.006102463, 0.024574894, 0.005165844, -0.012006874, -0.023799194, -0.021472087, -0.0060735806, 0.0019990827, -0.014598049, 0.017725613, 0.017379023, -0.025268076, -0.018501315, 0.012419482, 0.024277817, 0.022346815, 0.018187733, -0.041524805, -3.6812315E-5, 0.022132259, 0.0011583952, -0.013343723, -0.008421317, 0.00964676, -0.0149693955, -0.0077446406, 0.022907961, -0.027347617, -0.0076992535, 0.015695585, 0.012510256, -0.029542688, -0.017527562, -0.029526183, 0.020382805, 0.008755528, -0.011206416, 0.011784066, 0.016826129, -0.044594605, -0.011676788, 0.017890656, -0.013071402, -7.942692E-4, 0.004489168, 0.017989682, -0.009622004, 0.031407673, 0.0050585666, 0.007971575, -0.0055330647, -0.020927446, -0.064267725, -0.0098943245, -0.012312204, 0.052351624, 0.009201145, -0.028998045, -0.045518845, -0.033767786, -0.005826016, 1.7626071E-4, -0.043670364, 0.011404468, -0.014441258, -0.020531343, 0.015423263, 0.021406071, -0.009234153, 0.030697988, -0.017379023, -0.015134439, 0.03654051, 0.019871172, -0.022726415, -0.037530765, -0.01709845, 0.0120646395, 0.025218563, -0.02224779, 0.001394613, 0.02774372, -7.7363884E-4, -0.014391745, 0.01648779, 0.0034927214, 0.023832202, 0.0094404565, 0.027100053, -0.013071402, -0.0038413745, -0.022660397, -0.009778795, -0.0051163314, 0.009242405, 0.009770542, -0.02317203, -0.00357318, -0.011198164, 0.029196098, 0.016966416, -0.001368825, 0.046938214, -0.010191402, 0.02551564, 0.0019124352, 0.02010223, -0.014961143, -0.013409739, 0.007790027, -0.04145879, 0.0075754714, -0.034593, -0.002120802, 0.024162287, 0.008854554, 0.013657304, 3.6103145E-4, -0.01609994, 0.0098613165, -0.015390255, -0.013071402, 0.007216503, 0.001034613, 1.6349567E-4, -0.03462601, -0.0051740967, 0.005887907, -0.016421773, -0.015786357, 4.2679076E-4, -0.011693293, -0.046245035, 0.03512114, -0.02505352, 0.002172378, -0.05195552, 0.029196098, -0.015703836, 0.033058103, 0.11539803, 0.0077611445, 0.013046646, -0.006420171, -0.03289306, -0.0072041247, 0.024888476, 0.026307845, 0.012518507, -0.005070945, 0.002904756, 0.0033875066, -0.010405958, 0.0064779357, -0.011940857, -0.03621042, 0.0064779357, 0.0016452719, -0.012196674, -0.029410653, 0.025317589, -0.017742118, -0.0030471054, 0.0014987963, 0.036507502, -0.0036206297, 0.0038413745, 0.015060169, -0.0076373625, -0.009308422, -0.0052442397, 0.0061230934, -5.7507155E-4, 0.007447563, -0.041128702, 0.011792319, -0.0053804, -0.0039362744, 0.058623254, 0.02363415, 0.021917704, -0.03196882, 0.016933406, -0.031688247, -6.2406866E-4, -8.2457E-5, -0.02013524, -0.019277016, -0.019392546, -0.005487678, -0.06905397, -0.024393348, 0.012270943, 0.0048440103, -0.0061891107, -0.00570636, 0.015018908, 0.022742918, -0.013467505, -0.030417416, 3.4375352E-4, 0.024690425, -0.017346013, 0.018171228, -0.015662575, 0.037332714, 0.0043488815, 0.015745098, 0.039874375, 0.002624183, -0.034130882, 0.0060653286, -0.007979827, 0.011288938, -0.030235868, -0.054662224, 0.024162287, -0.019970197, 0.027380625, 0.03274452, -0.010546245, -0.026373863, -0.016553808, 0.010661774, -0.03246395, -0.02209925, 0.0059167896, -0.031803776, 0.004208595, 0.011148651, 0.020201256, 0.032728016, -0.009382691, -0.01602567, 0.0026613176, -0.00918464, 0.0054464173, 0.00802934, 0.023337074, 0.020151744, -0.030252373, -0.01022441, -0.0056816037, 0.012419482, -2.6271486E-5, 0.0011491115, 0.002236332, 0.013946129, -0.005826016, -0.027100053, -0.0040456154, 0.006222119, -0.0011893407, -0.011701545, 0.023039997, 0.008210886, -0.007938566, -0.0011542691, -0.025301084, -0.038422, -0.015695585, -0.0065604574, 0.018286759, -0.018930426, -0.05169145, 0.0059663025, -0.02432733, -4.917764E-4, -0.03389982, -0.03581432, 0.0199867, -0.022198277, 0.03422991, -0.00319977, -0.009077362, -0.0018845842, 0.011998623, 0.027991284, -0.0032678505, -0.0019464752, 0.009448709, -0.008466703, -0.016256731, -0.0018330083, 0.0079757, -0.01406166, 0.037200682, -0.0088628065, -0.02597776, -0.0027624064, -0.024129279, -0.009258909, 0.017527562, -0.014127676, 0.057236895, -0.017626587, -0.00906911, -0.010604009, 0.036672544, 0.013508765, -0.04683919, 5.59083E-4, -0.008124239, -0.004984297, -0.019425554, -0.0031605724, -0.21151905, 0.006139598, -0.0023167904, -0.00628401, 0.05575151, 0.025185553, 0.0038413745, 0.007550715, 5.3432654E-4, 0.015786357, 0.028799994, 0.007290772, -0.033602744, -0.004249856, 0.035220165, -0.008367677, -2.0694839E-4, -0.0052978788, -0.005920916, 0.027529163, 0.02328756, 0.012592777, 0.03914819, 0.013417992, -0.0062798844, 0.003795988, -0.025334092, -0.018633349, 0.030301886, -0.009283666, -0.02878349, -0.020184753, 0.039874375, 0.009853064, 0.024508879, -0.013921373, 0.0011140399, 0.0064738095, -0.028024293, 0.014540284, 0.04056756, 0.05353993, 0.0023250426, 0.03673856, 0.015538794, 0.0026097416, -0.016776616, 0.025119537, 0.0011955298, 0.032265898, 0.021604123, -0.0101748975, 0.01802269, 0.0034246412, 0.00772401, 0.02198372, -0.02693501, -0.022924466, 0.0065150703, -0.0068616606, -0.017346013, -0.0011398279, -0.003795988, -0.02893203, 0.01836928, 0.011635528, -0.03769581, 0.004852263, 0.0038496268, -0.0041075065, 0.014152433, -0.0142184505, 0.039907385, -0.007154612, -0.0021744408, -0.010802061, -0.0014843551, -9.474497E-4, 0.004295243, -0.005207105, -0.03815793, 0.035022113, -0.038455006, 0.020118736, -0.014383493, -0.0021558735, 0.0272816, -0.004831632, -0.009539482, 0.0023621772, 0.026159307, -0.038091913, -0.0014451573, 0.0055701993, 0.015348994, -0.002632435, 0.0113136945, 0.014713579, 0.01006762, 3.8269334E-4, 0.019277016, -0.01556355, 0.0019629796, 0.022280797, 0.029262114, -0.005702234, -0.011734554, 0.035913344, 0.04538681, -0.015043665, -0.009943837, -0.01463931, 0.031110596, 0.034559995, 0.001143954, 0.032959078, -0.012584525, 0.014168937, 0.037167672, -0.016009167, 0.055289388, -0.013129166, -0.003406074, 0.028469909, -0.04634406, 0.008483208, -0.104571216, -0.015423263, 0.0026984522, -0.011932605, 0.0060694544, 0.0012563894, 0.0021806299, -0.006717248, 6.4308726E-5, 0.028337874, -0.0105957575, -0.0012532949, -0.019392546, 0.0023044122, -0.0024240683, -0.0062922626, -0.011709797, -0.033074606, -0.00459232, 0.037299708, -1.2481373E-4, 0.008326417, 0.014267963, 0.008871059, -0.026373863, 0.007913809, -0.025845725, -0.003313237, 0.0016463035, 0.020795412, 0.020894438, -0.01656206, 0.021389566, -0.04218498, -0.03353673, -0.013475757, -0.033437703, 0.0016267046, 0.04730131, -0.04954589, 0.0037753575, -0.02747965, 0.011305442, 0.022429338, -0.02048183, 0.01510143, -0.024954494, 0.015901888, 0.02360114, -0.011825328, -0.02713306, -0.027265096, -0.0109506, -0.010232663, 0.05872228, -0.020514838, -0.003022349, 0.0176761, -0.010785556, 0.015043665, -0.00864825, 0.015720341, 0.010447219, 0.032513462, -0.011652032, 0.01810521, 0.013451001, -0.0037877357, 0.020894438, 0.0059663025, 0.02282544, 0.020795412, -0.0075837234, 0.0130631495, -0.020168249, -0.0060199415, 0.0070679644, -0.022660397, 0.025697187, -0.023353577, -0.015571802, -0.009102118, 0.003133753, -0.03297558, 0.043703374, 0.0135005135, 0.0032162745, -0.028502917, -0.001430716, -0.020168249, 0.009225901, -0.0026778218, 0.0059044114, -0.0030306012, -0.036903605, 0.015464525, -0.0105957575, -0.0058425204, -0.0031543833, 0.045056727, 0.0038475636, 0.013616043, -0.08040892, 0.014655814, 0.0049471622, -0.030417416, 0.019409051, -0.0025849852, 0.009770542, -0.018633349, -0.012493751, 0.056873802, -0.022000225, 0.059943598, 0.0025643548, -0.0018453865, -0.034989104, -0.011858336, 0.028733978, 0.012972375, 0.031820282, 0.034923088, 0.030004809, 0.034890078, 0.035022113, -0.0054546692, -0.008673007, 0.02094395, -0.0025127789, 0.01018315, -0.002919197, -9.275607E-6, 0.03607839, -0.04720228, -0.0061808582, -3.426575E-5, -0.0039094547, -0.028106814, 0.005112205, 0.018171228, 0.0014791974, 0.013013637, 0.025202058, -0.016364008, 0.009844812, -0.017313005, -0.008351173, -0.00999335, 0.0025024638, 0.008516216, 0.024162287, 0.0025994265, -0.015225212, 0.009910829, -0.01894693, 0.006816274, -0.02294097, -0.011148651, 0.0044644116, 0.011635528, 0.007682749, -0.017874151, -0.008598737, 0.019722633, 0.001287335, 0.0059497985, 0.0074063023, -0.0011119769, -0.047895465, 0.016702347, 0.031061083, -0.059613515, -0.025466127, 0.009588995, -0.03551724, 0.00703083, -8.638967E-4, -2.8779363E-4, 0.010447219, -0.03389982, -0.023617646, 0.02317203, 0.017048936, -0.034361944, -0.03239793, -0.025614666, 0.010364697, 0.01779163, -0.014598049, -0.007039082, 0.031457186, 0.013310714, -0.027430138, 0.0031729506, -0.0057517467, -0.016124696, 0.010554496, -0.011998623, -0.037992887, 0.012254439, -0.007154612, 0.046674147, 0.01676011, 0.0010727792, 0.0069524343, -0.01352527, -0.03208435, 0.01129719, -0.008437821, -0.02809031, -0.010604009, 0.043670364, 0.006803896, 0.02543312, -0.05314383, 0.029922286, 0.0023332946, 0.0032864178, -0.011775814, 0.011850084, -0.018798392, 0.041326754, -0.010554496, 0.020234266, 0.015109682, -0.0071381074, 0.014086416, 0.03465902, -0.01152825, -0.012460743, -0.02294097, 6.740973E-4, -0.0052731223, 0.010191402, -0.007439311, -0.009787047, -0.012840342, 0.009036101, -0.0021806299, 0.003018223, -0.0082604, 0.138372, -0.027232086, -0.03101157, 0.021009967, 0.0027211455, -0.016578564, -0.021158505, -0.034758046, -0.039643317, -0.021818677, -0.005929168, -0.04773042, -0.026769966, -0.016413521, -0.014664066, -0.019475069, 0.041920908, -0.013888364, -4.4097415E-5, 0.003692836, -0.005207105, 0.007447563, 0.034923088, -0.009151632, -0.020085728, 0.006139598, 0.025895238, 0.013384983, 0.0041632084, -0.062155176, -0.00964676, 0.025449622, 0.015687332, 0.013153923, 0.03092905, -0.03588034, -0.010876331, -0.004027048, 0.004815128, 0.016553808, -0.01271656, -0.025466127, -0.038322974, -0.02378269, 0.008334669, 0.013236444, -0.011652032, -0.018600341, -0.036309447]"
      ]
     },
     "execution_count": 24,
     "metadata": {},
     "output_type": "execute_result"
    }
   ],
   "source": [
    "qe"
   ]
  },
  {
   "cell_type": "code",
   "execution_count": 25,
   "metadata": {},
   "outputs": [],
   "source": [
    "import io.qdrant.client.grpc.Points.ScoredPoint;\n",
    "\n",
    "import io.qdrant.client.grpc.Points.SearchPoints;\n",
    "import static io.qdrant.client.WithPayloadSelectorFactory.enable;"
   ]
  },
  {
   "cell_type": "code",
   "execution_count": 26,
   "metadata": {},
   "outputs": [],
   "source": [
    "var  answer =\n",
    "qdrantClient\n",
    "        .searchAsync(\n",
    "            SearchPoints.newBuilder()\n",
    "                .setCollectionName(\"demo_collection\")\n",
    "                .addAllVector(qe)\n",
    "                .setWithPayload(enable(true))\n",
    "                .setLimit(1)\n",
    "                .build()).get();"
   ]
  },
  {
   "cell_type": "code",
   "execution_count": 27,
   "metadata": {},
   "outputs": [
    {
     "data": {
      "text/plain": [
       "[id {\n",
       "  num: 1\n",
       "}\n",
       "payload {\n",
       "  key: \"info\"\n",
       "  value {\n",
       "    string_value: \"Kinfey is Microsoft MVP\"\n",
       "  }\n",
       "}\n",
       "score: 0.7706337\n",
       "]"
      ]
     },
     "execution_count": 27,
     "metadata": {},
     "output_type": "execute_result"
    }
   ],
   "source": [
    "answer"
   ]
  }
 ],
 "metadata": {
  "kernelspec": {
   "display_name": "Java (Rapaio Jupyter)",
   "language": "java",
   "name": "rapaio-jupyter-kernel"
  },
  "language_info": {
   "codemirror_mode": "java",
   "file_extension": ".jshell",
   "mimetype": "text/x-java-source",
   "name": "java",
   "nbconvert_exporter": "script",
   "pygments_lexer": "java",
   "version": "21.0.2+13-LTS"
  }
 },
 "nbformat": 4,
 "nbformat_minor": 2
}
