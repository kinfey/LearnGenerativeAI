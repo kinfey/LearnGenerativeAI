{
 "cells": [
  {
   "cell_type": "code",
   "execution_count": 1,
   "metadata": {},
   "outputs": [
    {
     "name": "stdout",
     "output_type": "stream",
     "text": [
      "Adding dependency \u001b[0m\u001b[1m\u001b[32mcom.microsoft.semantic-kernel:semantickernel-api:0.2.13-alpha\u001b[0m\u001b[0m\n",
      "Adding dependency \u001b[0m\u001b[1m\u001b[32mcom.microsoft.semantic-kernel:semantickernel-bom:0.2.13-alpha\u001b[0m\u001b[0m\n",
      "Adding dependency \u001b[0m\u001b[1m\u001b[32mcom.microsoft.semantic-kernel:semantickernel-parent:0.2.13-alpha\u001b[0m\u001b[0m\n",
      "Adding dependency \u001b[0m\u001b[1m\u001b[32mcom.microsoft.semantic-kernel:semantickernel-connectors-ai-openai:0.2.13-alpha\u001b[0m\u001b[0m\n",
      "Adding dependency \u001b[0m\u001b[1m\u001b[32mcom.microsoft.semantic-kernel:semantickernel-planners:0.2.13-alpha\u001b[0m\u001b[0m\n",
      "Adding dependency \u001b[0m\u001b[1m\u001b[32mcom.microsoft.semantic-kernel:semantickernel-core:0.2.13-alpha\u001b[0m\u001b[0m\n",
      "Adding dependency override \u001b[0m\u001b[1m\u001b[32mcom.azure:azure-core:1.43.0\u001b[0m\u001b[0m\n",
      "Adding dependency override \u001b[0m\u001b[1m\u001b[32morg.slf4j:slf4j-api:2.0.7\u001b[0m\u001b[0m\n",
      "Adding dependency override \u001b[0m\u001b[1m\u001b[32mcom.google.code.gson:gson:2.8.9\u001b[0m\u001b[0m\n",
      "Adding dependency override \u001b[0m\u001b[1m\u001b[32mcom.google.protobuf:protobuf-java:3.23.2\u001b[0m\u001b[0m\n",
      "Adding dependency override \u001b[0m\u001b[1m\u001b[32mcom.google.errorprone:error_prone_annotations:2.18.0\u001b[0m\u001b[0m\n",
      "Adding dependency override \u001b[0m\u001b[1m\u001b[32mcom.google.guava:guava:32.0.1-android\u001b[0m\u001b[0m\n",
      "Adding dependency \u001b[0m\u001b[1m\u001b[32morg.slf4j:slf4j-jdk14:2.0.12\u001b[0m\u001b[0m\n",
      "Solving dependencies\n",
      "Found dependencies count: 41\n",
      "Add to classpath: \u001b[0m\u001b[32m/home/vscode/.local/share/jupyter/kernels/rapaio-jupyter-kernel/ivy_cache/com.microsoft.semantic-kernel/semantickernel-api/jars/semantickernel-api-0.2.13-alpha.jar\u001b[0m\u001b[0m\n",
      "Add to classpath: \u001b[0m\u001b[32m/home/vscode/.local/share/jupyter/kernels/rapaio-jupyter-kernel/ivy_cache/com.azure/azure-ai-openai/jars/azure-ai-openai-1.0.0-beta.5.jar\u001b[0m\u001b[0m\n",
      "Add to classpath: \u001b[0m\u001b[32m/home/vscode/.local/share/jupyter/kernels/rapaio-jupyter-kernel/ivy_cache/com.azure/azure-core/jars/azure-core-1.43.0.jar\u001b[0m\u001b[0m\n",
      "Add to classpath: \u001b[0m\u001b[32m/home/vscode/.local/share/jupyter/kernels/rapaio-jupyter-kernel/ivy_cache/com.azure/azure-json/jars/azure-json-1.1.0.jar\u001b[0m\u001b[0m\n",
      "Add to classpath: \u001b[0m\u001b[32m/home/vscode/.local/share/jupyter/kernels/rapaio-jupyter-kernel/ivy_cache/com.fasterxml.jackson.core/jackson-annotations/jars/jackson-annotations-2.15.2.jar\u001b[0m\u001b[0m\n",
      "Add to classpath: \u001b[0m\u001b[32m/home/vscode/.local/share/jupyter/kernels/rapaio-jupyter-kernel/ivy_cache/com.fasterxml.jackson.core/jackson-core/jars/jackson-core-2.15.2.jar\u001b[0m\u001b[0m\n",
      "Add to classpath: \u001b[0m\u001b[32m/home/vscode/.local/share/jupyter/kernels/rapaio-jupyter-kernel/ivy_cache/com.fasterxml.jackson.core/jackson-databind/jars/jackson-databind-2.15.2.jar\u001b[0m\u001b[0m\n",
      "Add to classpath: \u001b[0m\u001b[32m/home/vscode/.local/share/jupyter/kernels/rapaio-jupyter-kernel/ivy_cache/com.fasterxml.jackson.datatype/jackson-datatype-jsr310/bundles/jackson-datatype-jsr310-2.13.5.jar\u001b[0m\u001b[0m\n",
      "Add to classpath: \u001b[0m\u001b[32m/home/vscode/.local/share/jupyter/kernels/rapaio-jupyter-kernel/ivy_cache/org.slf4j/slf4j-api/jars/slf4j-api-2.0.7.jar\u001b[0m\u001b[0m\n",
      "Add to classpath: \u001b[0m\u001b[32m/home/vscode/.local/share/jupyter/kernels/rapaio-jupyter-kernel/ivy_cache/io.projectreactor/reactor-core/jars/reactor-core-3.5.8.jar\u001b[0m\u001b[0m\n",
      "Add to classpath: \u001b[0m\u001b[32m/home/vscode/.local/share/jupyter/kernels/rapaio-jupyter-kernel/ivy_cache/org.reactivestreams/reactive-streams/jars/reactive-streams-1.0.4.jar\u001b[0m\u001b[0m\n",
      "Add to classpath: \u001b[0m\u001b[32m/home/vscode/.local/share/jupyter/kernels/rapaio-jupyter-kernel/ivy_cache/com.azure/azure-core-http-netty/jars/azure-core-http-netty-1.13.11.jar\u001b[0m\u001b[0m\n",
      "Add to classpath: \u001b[0m\u001b[32m/home/vscode/.local/share/jupyter/kernels/rapaio-jupyter-kernel/ivy_cache/io.netty/netty-handler/jars/netty-handler-4.1.101.Final.jar\u001b[0m\u001b[0m\n",
      "Add to classpath: \u001b[0m\u001b[32m/home/vscode/.local/share/jupyter/kernels/rapaio-jupyter-kernel/ivy_cache/io.netty/netty-common/jars/netty-common-4.1.101.Final.jar\u001b[0m\u001b[0m\n",
      "Add to classpath: \u001b[0m\u001b[32m/home/vscode/.local/share/jupyter/kernels/rapaio-jupyter-kernel/ivy_cache/io.netty/netty-resolver/jars/netty-resolver-4.1.101.Final.jar\u001b[0m\u001b[0m\n",
      "Add to classpath: \u001b[0m\u001b[32m/home/vscode/.local/share/jupyter/kernels/rapaio-jupyter-kernel/ivy_cache/io.netty/netty-buffer/jars/netty-buffer-4.1.101.Final.jar\u001b[0m\u001b[0m\n",
      "Add to classpath: \u001b[0m\u001b[32m/home/vscode/.local/share/jupyter/kernels/rapaio-jupyter-kernel/ivy_cache/io.netty/netty-transport/jars/netty-transport-4.1.101.Final.jar\u001b[0m\u001b[0m\n",
      "Add to classpath: \u001b[0m\u001b[32m/home/vscode/.local/share/jupyter/kernels/rapaio-jupyter-kernel/ivy_cache/io.netty/netty-transport-native-unix-common/jars/netty-transport-native-unix-common-4.1.101.Final.jar\u001b[0m\u001b[0m\n",
      "Add to classpath: \u001b[0m\u001b[32m/home/vscode/.local/share/jupyter/kernels/rapaio-jupyter-kernel/ivy_cache/io.netty/netty-codec/jars/netty-codec-4.1.101.Final.jar\u001b[0m\u001b[0m\n",
      "Add to classpath: \u001b[0m\u001b[32m/home/vscode/.local/share/jupyter/kernels/rapaio-jupyter-kernel/ivy_cache/io.netty/netty-handler-proxy/jars/netty-handler-proxy-4.1.101.Final.jar\u001b[0m\u001b[0m\n",
      "Add to classpath: \u001b[0m\u001b[32m/home/vscode/.local/share/jupyter/kernels/rapaio-jupyter-kernel/ivy_cache/io.netty/netty-codec-socks/jars/netty-codec-socks-4.1.101.Final.jar\u001b[0m\u001b[0m\n",
      "Add to classpath: \u001b[0m\u001b[32m/home/vscode/.local/share/jupyter/kernels/rapaio-jupyter-kernel/ivy_cache/io.netty/netty-codec-http/jars/netty-codec-http-4.1.101.Final.jar\u001b[0m\u001b[0m\n",
      "Add to classpath: \u001b[0m\u001b[32m/home/vscode/.local/share/jupyter/kernels/rapaio-jupyter-kernel/ivy_cache/io.netty/netty-codec-http2/jars/netty-codec-http2-4.1.101.Final.jar\u001b[0m\u001b[0m\n",
      "Add to classpath: \u001b[0m\u001b[32m/home/vscode/.local/share/jupyter/kernels/rapaio-jupyter-kernel/ivy_cache/io.netty/netty-transport-native-epoll/jars/netty-transport-native-epoll-4.1.101.Final-linux-x86_64.jar\u001b[0m\u001b[0m\n",
      "Add to classpath: \u001b[0m\u001b[32m/home/vscode/.local/share/jupyter/kernels/rapaio-jupyter-kernel/ivy_cache/io.netty/netty-transport-classes-epoll/jars/netty-transport-classes-epoll-4.1.101.Final.jar\u001b[0m\u001b[0m\n",
      "Add to classpath: \u001b[0m\u001b[32m/home/vscode/.local/share/jupyter/kernels/rapaio-jupyter-kernel/ivy_cache/io.netty/netty-transport-native-kqueue/jars/netty-transport-native-kqueue-4.1.101.Final-osx-x86_64.jar\u001b[0m\u001b[0m\n",
      "Add to classpath: \u001b[0m\u001b[32m/home/vscode/.local/share/jupyter/kernels/rapaio-jupyter-kernel/ivy_cache/io.netty/netty-transport-classes-kqueue/jars/netty-transport-classes-kqueue-4.1.101.Final.jar\u001b[0m\u001b[0m\n",
      "Add to classpath: \u001b[0m\u001b[32m/home/vscode/.local/share/jupyter/kernels/rapaio-jupyter-kernel/ivy_cache/io.netty/netty-tcnative-boringssl-static/jars/netty-tcnative-boringssl-static-2.0.62.Final.jar\u001b[0m\u001b[0m\n",
      "Add to classpath: \u001b[0m\u001b[32m/home/vscode/.local/share/jupyter/kernels/rapaio-jupyter-kernel/ivy_cache/io.netty/netty-tcnative-classes/jars/netty-tcnative-classes-2.0.62.Final.jar\u001b[0m\u001b[0m\n",
      "Add to classpath: \u001b[0m\u001b[32m/home/vscode/.local/share/jupyter/kernels/rapaio-jupyter-kernel/ivy_cache/io.projectreactor.netty/reactor-netty-http/jars/reactor-netty-http-1.0.39.jar\u001b[0m\u001b[0m\n",
      "Add to classpath: \u001b[0m\u001b[32m/home/vscode/.local/share/jupyter/kernels/rapaio-jupyter-kernel/ivy_cache/io.netty/netty-resolver-dns/jars/netty-resolver-dns-4.1.101.Final.jar\u001b[0m\u001b[0m\n",
      "Add to classpath: \u001b[0m\u001b[32m/home/vscode/.local/share/jupyter/kernels/rapaio-jupyter-kernel/ivy_cache/io.netty/netty-codec-dns/jars/netty-codec-dns-4.1.101.Final.jar\u001b[0m\u001b[0m\n",
      "Add to classpath: \u001b[0m\u001b[32m/home/vscode/.local/share/jupyter/kernels/rapaio-jupyter-kernel/ivy_cache/io.netty/netty-resolver-dns-native-macos/jars/netty-resolver-dns-native-macos-4.1.101.Final-osx-x86_64.jar\u001b[0m\u001b[0m\n",
      "Add to classpath: \u001b[0m\u001b[32m/home/vscode/.local/share/jupyter/kernels/rapaio-jupyter-kernel/ivy_cache/io.netty/netty-resolver-dns-classes-macos/jars/netty-resolver-dns-classes-macos-4.1.101.Final.jar\u001b[0m\u001b[0m\n",
      "Add to classpath: \u001b[0m\u001b[32m/home/vscode/.local/share/jupyter/kernels/rapaio-jupyter-kernel/ivy_cache/io.projectreactor.netty/reactor-netty-core/jars/reactor-netty-core-1.0.39.jar\u001b[0m\u001b[0m\n",
      "Add to classpath: \u001b[0m\u001b[32m/home/vscode/.local/share/jupyter/kernels/rapaio-jupyter-kernel/ivy_cache/com.google.code.findbugs/jsr305/jars/jsr305-3.0.2.jar\u001b[0m\u001b[0m\n",
      "Add to classpath: \u001b[0m\u001b[32m/home/vscode/.local/share/jupyter/kernels/rapaio-jupyter-kernel/ivy_cache/com.microsoft.semantic-kernel/semantickernel-connectors-ai-openai/jars/semantickernel-connectors-ai-openai-0.2.13-alpha.jar\u001b[0m\u001b[0m\n",
      "Add to classpath: \u001b[0m\u001b[32m/home/vscode/.local/share/jupyter/kernels/rapaio-jupyter-kernel/ivy_cache/jakarta.inject/jakarta.inject-api/jars/jakarta.inject-api-2.0.1.MR.jar\u001b[0m\u001b[0m\n",
      "Add to classpath: \u001b[0m\u001b[32m/home/vscode/.local/share/jupyter/kernels/rapaio-jupyter-kernel/ivy_cache/com.microsoft.semantic-kernel/semantickernel-planners/jars/semantickernel-planners-0.2.13-alpha.jar\u001b[0m\u001b[0m\n",
      "Add to classpath: \u001b[0m\u001b[32m/home/vscode/.local/share/jupyter/kernels/rapaio-jupyter-kernel/ivy_cache/com.microsoft.semantic-kernel/semantickernel-core/jars/semantickernel-core-0.2.13-alpha.jar\u001b[0m\u001b[0m\n",
      "Add to classpath: \u001b[0m\u001b[32m/home/vscode/.local/share/jupyter/kernels/rapaio-jupyter-kernel/ivy_cache/org.slf4j/slf4j-jdk14/jars/slf4j-jdk14-2.0.12.jar\u001b[0m\u001b[0m\n"
     ]
    }
   ],
   "source": [
    "%dependency /add com.microsoft.semantic-kernel:semantickernel-api:0.2.13-alpha\n",
    "%dependency /add com.microsoft.semantic-kernel:semantickernel-bom:0.2.13-alpha\n",
    "%dependency /add com.microsoft.semantic-kernel:semantickernel-parent:0.2.13-alpha\n",
    "%dependency /add com.microsoft.semantic-kernel:semantickernel-connectors-ai-openai:0.2.13-alpha\n",
    "%dependency /add com.microsoft.semantic-kernel:semantickernel-planners:0.2.13-alpha\n",
    "%dependency /add com.microsoft.semantic-kernel:semantickernel-core:0.2.13-alpha\n",
    "\n",
    "%dependency /override com.azure:azure-core:1.43.0\n",
    "%dependency /override org.slf4j:slf4j-api:2.0.7\n",
    "\n",
    "%dependency /override com.google.code.gson:gson:2.8.9\n",
    "%dependency /override com.google.protobuf:protobuf-java:3.23.2\n",
    "%dependency /override com.google.errorprone:error_prone_annotations:2.18.0\n",
    "%dependency /override com.google.guava:guava:32.0.1-android\n",
    "\n",
    "// %dependency /add io.qdrant:client:1.8.0\n",
    "\n",
    "\n",
    "%dependency /add org.slf4j:slf4j-jdk14:2.0.12\n",
    "\n",
    "%dependency /resolve"
   ]
  },
  {
   "cell_type": "code",
   "execution_count": 2,
   "metadata": {},
   "outputs": [],
   "source": [
    "import com.azure.ai.openai.OpenAIAsyncClient;\n",
    "import com.microsoft.semantickernel.Kernel;\n",
    "import com.microsoft.semantickernel.SKBuilders;\n",
    "import com.microsoft.semantickernel.exceptions.ConfigurationException;\n",
    "import com.microsoft.semantickernel.orchestration.SKContext;\n",
    "import com.microsoft.semantickernel.skilldefinition.annotations.DefineSKFunction;\n",
    "import com.microsoft.semantickernel.skilldefinition.annotations.SKFunctionInputAttribute;\n",
    "import com.microsoft.semantickernel.textcompletion.TextCompletion;"
   ]
  },
  {
   "cell_type": "code",
   "execution_count": 3,
   "metadata": {},
   "outputs": [],
   "source": [
    "import com.microsoft.semantickernel.chatcompletion.ChatCompletion;\n",
    "import com.microsoft.semantickernel.chatcompletion.ChatHistory;"
   ]
  },
  {
   "cell_type": "code",
   "execution_count": 4,
   "metadata": {},
   "outputs": [],
   "source": [
    "import com.azure.ai.openai.OpenAIAsyncClient;\n",
    "import com.azure.ai.openai.OpenAIClientBuilder;\n",
    "import com.azure.core.credential.AzureKeyCredential;\n",
    "import com.azure.core.credential.KeyCredential;"
   ]
  },
  {
   "cell_type": "code",
   "execution_count": 5,
   "metadata": {},
   "outputs": [],
   "source": [
    "final OpenAIAsyncClient client = new OpenAIClientBuilder()\n",
    "        .credential(new AzureKeyCredential(\"Your Azure OpenAI Service Key\"))\n",
    "        .endpoint(\"Your Azure OpenAI Service EndPoint\")\n",
    "        .buildAsyncClient();"
   ]
  },
  {
   "cell_type": "code",
   "execution_count": 6,
   "metadata": {},
   "outputs": [],
   "source": [
    "public static class WeatherSkill {\n",
    "\n",
    "    @DefineSKFunction(description = \"get current Weather from city\")\n",
    "    public String getCurrentWeatherFromCity(\n",
    "        @SKFunctionInputAttribute(description = \"input city to get current weather\") String city) {\n",
    "        return city + \"’s weather is 30 celsius degree \";\n",
    "    }\n",
    "}"
   ]
  },
  {
   "cell_type": "code",
   "execution_count": 7,
   "metadata": {},
   "outputs": [],
   "source": [
    "public static class WriteSkill {\n",
    "\n",
    "    @DefineSKFunction(description = \"write dressing tips for weather\")\n",
    "    public String writeDressingTips(\n",
    "        @SKFunctionInputAttribute(description = \"input city weather\") String weather) {\n",
    "\n",
    "        OpenAIAsyncClient aoaiclient = new OpenAIClientBuilder()\n",
    "                .credential(new AzureKeyCredential(\"Your Azure OpenAI Service API Key\"))\n",
    "                .endpoint(\"Your Azure OpenAI Service Endpoint\")\n",
    "                .buildAsyncClient();\n",
    "\n",
    "        \n",
    "\n",
    "        TextCompletion textCompletion = SKBuilders.textCompletion()\n",
    "                                                            .withModelId(\"Your Azure OpenAI Service gpt-3.5-instruct deployment model\")\n",
    "                                                            .withOpenAIClient(aoaiclient)\n",
    "                                                            .build();\n",
    "\n",
    "        Kernel kernel = SKBuilders.kernel().withDefaultAIService(textCompletion).build();\n",
    "        \n",
    "        String functionDefinition = \"\"\"\n",
    "            {{$input}}\n",
    "            Write dressing tips in Chinese about the content above\n",
    "        \"\"\".stripIndent();\n",
    "\n",
    "\n",
    "        var weatherFunction = SKBuilders\n",
    "            .completionFunctions()\n",
    "            .withKernel(kernel)\n",
    "            .withPromptTemplate(functionDefinition)\n",
    "            .withRequestSettings(\n",
    "                SKBuilders.completionRequestSettings()\n",
    "                    .temperature(0.7)\n",
    "                    .topP(1)\n",
    "                    .maxTokens(1024)\n",
    "                    .build())\n",
    "            .build();\n",
    "        \n",
    "        \n",
    "        var result = weatherFunction.invokeAsync(weather).block();\n",
    "        return result.getResult();\n",
    "    }\n",
    "}"
   ]
  },
  {
   "cell_type": "code",
   "execution_count": 8,
   "metadata": {},
   "outputs": [],
   "source": [
    "\n",
    "\n",
    "var kernel = SKBuilders.kernel()\n",
    "                .withDefaultAIService(SKBuilders.chatCompletion()\n",
    "                        .withOpenAIClient(client)\n",
    "                        .withModelId(\"Your Azure OpenAI Service gpt-3.5-turbo-16k deployment model\")\n",
    "                        .build())\n",
    "                .build();\n",
    "\n"
   ]
  },
  {
   "cell_type": "code",
   "execution_count": null,
   "metadata": {},
   "outputs": [],
   "source": []
  },
  {
   "cell_type": "code",
   "execution_count": 9,
   "metadata": {},
   "outputs": [],
   "source": [
    "import java.nio.file.Path;"
   ]
  },
  {
   "cell_type": "code",
   "execution_count": 10,
   "metadata": {},
   "outputs": [
    {
     "data": {
      "text/plain": [
       "com.microsoft.semantickernel.skilldefinition.FunctionCollection@36caa23b"
      ]
     },
     "execution_count": 10,
     "metadata": {},
     "output_type": "execute_result"
    }
   ],
   "source": [
    "kernel.importSkill(new WeatherSkill(), \"weather\");\n",
    "kernel.importSkill(new WriteSkill(), \"writer\");\n",
    "\n"
   ]
  },
  {
   "cell_type": "code",
   "execution_count": 11,
   "metadata": {},
   "outputs": [],
   "source": [
    "\n",
    "import com.microsoft.semantickernel.planner.sequentialplanner.SequentialPlanner;\n",
    "import com.microsoft.semantickernel.planner.sequentialplanner.SequentialPlannerRequestSettings;\n"
   ]
  },
  {
   "cell_type": "code",
   "execution_count": 12,
   "metadata": {},
   "outputs": [],
   "source": [
    "\n",
    "private static SequentialPlanner initPlanner(Kernel kernel, int maxTokens) {\n",
    "    return new SequentialPlanner(kernel, new SequentialPlannerRequestSettings(\n",
    "            null,\n",
    "            100,\n",
    "            Set.of(),\n",
    "            Set.of(),\n",
    "            Set.of(),\n",
    "            maxTokens,\n",
    "            false\n",
    "    ), null);\n",
    "}"
   ]
  },
  {
   "cell_type": "code",
   "execution_count": 13,
   "metadata": {},
   "outputs": [],
   "source": [
    "SequentialPlanner planner = initPlanner(kernel, 1024);\n"
   ]
  },
  {
   "cell_type": "code",
   "execution_count": 14,
   "metadata": {},
   "outputs": [],
   "source": [
    "var goal = \"get Guangzhou current weather ,then write dressing tips about it\";"
   ]
  },
  {
   "cell_type": "code",
   "execution_count": 15,
   "metadata": {},
   "outputs": [],
   "source": [
    "\n",
    "var plan = planner.createPlanAsync(goal).block();\n"
   ]
  },
  {
   "cell_type": "code",
   "execution_count": 16,
   "metadata": {},
   "outputs": [
    {
     "data": {
      "text/plain": [
       "广州的天气是30摄氏度\n",
       "以下是穿衣建议：\n",
       "\n",
       "1. 室外温度高，建议选择轻薄、透气的衣服，如短袖衬衫、短裙等。\n",
       "\n",
       "2. 带一把遮阳伞或帽子，防止阳光直射。\n",
       "\n",
       "3. 选择浅色衣服，能够反射太阳光，减少热量吸收。\n",
       "\n",
       "4. 带一件薄外套，防止进入冷气房时感觉过冷。\n",
       "\n",
       "5. 注意防晒，涂抹防晒霜，防止晒伤皮肤。\n",
       "\n",
       "6. 避免穿太紧身的衣服，选择宽松舒适的服装。\n",
       "\n",
       "7. 多喝水，保持水分补充，防止中暑。\n",
       "\n",
       "8. 出门前注意检查天气预报，避免遇到突然的降温或雨天。"
      ]
     },
     "execution_count": 16,
     "metadata": {},
     "output_type": "execute_result"
    }
   ],
   "source": [
    "\n",
    "plan.invokeAsync().block().getResult();"
   ]
  }
 ],
 "metadata": {
  "kernelspec": {
   "display_name": "Java (Rapaio Jupyter)",
   "language": "java",
   "name": "rapaio-jupyter-kernel"
  },
  "language_info": {
   "codemirror_mode": "java",
   "file_extension": ".jshell",
   "mimetype": "text/x-java-source",
   "name": "java",
   "nbconvert_exporter": "script",
   "pygments_lexer": "java",
   "version": "21.0.4+7-LTS"
  }
 },
 "nbformat": 4,
 "nbformat_minor": 2
}
