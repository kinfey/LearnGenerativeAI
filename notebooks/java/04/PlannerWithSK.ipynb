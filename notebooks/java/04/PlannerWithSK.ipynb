{
 "cells": [
  {
   "cell_type": "code",
   "execution_count": 1,
   "metadata": {},
   "outputs": [
    {
     "name": "stdout",
     "output_type": "stream",
     "text": [
      "Adding dependency \u001b[0m\u001b[1m\u001b[32mcom.microsoft.semantic-kernel:semantickernel-api:1.0.0-rc2\u001b[0m\u001b[0m\n",
      "Adding dependency \u001b[0m\u001b[1m\u001b[32mcom.microsoft.semantic-kernel:semantickernel-bom:1.0.0-rc2\u001b[0m\u001b[0m\n",
      "Adding dependency \u001b[0m\u001b[1m\u001b[32mcom.microsoft.semantic-kernel:semantickernel-parent:1.0.0-rc2\u001b[0m\u001b[0m\n",
      "Adding dependency \u001b[0m\u001b[1m\u001b[32mcom.microsoft.semantic-kernel:semantickernel-aiservices-openai:1.0.0-rc2\u001b[0m\u001b[0m\n",
      "Adding dependency \u001b[0m\u001b[1m\u001b[32morg.slf4j:slf4j-jdk14:2.0.12\u001b[0m\u001b[0m\n",
      "Solving dependencies\n",
      "Found dependencies count: 42\n",
      "Add to classpath: \u001b[0m\u001b[32m/Users/lokinfey/Library/Jupyter/kernels/rapaio-jupyter-kernel/ivy_cache/com.microsoft.semantic-kernel/semantickernel-api/jars/semantickernel-api-1.0.0-rc2.jar\u001b[0m\u001b[0m\n",
      "Add to classpath: \u001b[0m\u001b[32m/Users/lokinfey/Library/Jupyter/kernels/rapaio-jupyter-kernel/ivy_cache/com.azure/azure-ai-openai/jars/azure-ai-openai-1.0.0-beta.6.jar\u001b[0m\u001b[0m\n",
      "Add to classpath: \u001b[0m\u001b[32m/Users/lokinfey/Library/Jupyter/kernels/rapaio-jupyter-kernel/ivy_cache/com.azure/azure-core/jars/azure-core-1.45.1.jar\u001b[0m\u001b[0m\n",
      "Add to classpath: \u001b[0m\u001b[32m/Users/lokinfey/Library/Jupyter/kernels/rapaio-jupyter-kernel/ivy_cache/com.azure/azure-json/jars/azure-json-1.1.0.jar\u001b[0m\u001b[0m\n",
      "Add to classpath: \u001b[0m\u001b[32m/Users/lokinfey/Library/Jupyter/kernels/rapaio-jupyter-kernel/ivy_cache/com.fasterxml.jackson.core/jackson-annotations/jars/jackson-annotations-2.16.1.jar\u001b[0m\u001b[0m\n",
      "Add to classpath: \u001b[0m\u001b[32m/Users/lokinfey/Library/Jupyter/kernels/rapaio-jupyter-kernel/ivy_cache/com.fasterxml.jackson.core/jackson-core/jars/jackson-core-2.16.1.jar\u001b[0m\u001b[0m\n",
      "Add to classpath: \u001b[0m\u001b[32m/Users/lokinfey/Library/Jupyter/kernels/rapaio-jupyter-kernel/ivy_cache/com.fasterxml.jackson.core/jackson-databind/jars/jackson-databind-2.16.1.jar\u001b[0m\u001b[0m\n",
      "Add to classpath: \u001b[0m\u001b[32m/Users/lokinfey/Library/Jupyter/kernels/rapaio-jupyter-kernel/ivy_cache/com.fasterxml.jackson.datatype/jackson-datatype-jsr310/bundles/jackson-datatype-jsr310-2.13.5.jar\u001b[0m\u001b[0m\n",
      "Add to classpath: \u001b[0m\u001b[32m/Users/lokinfey/Library/Jupyter/kernels/rapaio-jupyter-kernel/ivy_cache/org.slf4j/slf4j-api/jars/slf4j-api-2.0.12.jar\u001b[0m\u001b[0m\n",
      "Add to classpath: \u001b[0m\u001b[32m/Users/lokinfey/Library/Jupyter/kernels/rapaio-jupyter-kernel/ivy_cache/io.projectreactor/reactor-core/jars/reactor-core-3.4.34.jar\u001b[0m\u001b[0m\n",
      "Add to classpath: \u001b[0m\u001b[32m/Users/lokinfey/Library/Jupyter/kernels/rapaio-jupyter-kernel/ivy_cache/org.reactivestreams/reactive-streams/jars/reactive-streams-1.0.4.jar\u001b[0m\u001b[0m\n",
      "Add to classpath: \u001b[0m\u001b[32m/Users/lokinfey/Library/Jupyter/kernels/rapaio-jupyter-kernel/ivy_cache/com.azure/azure-core-http-netty/jars/azure-core-http-netty-1.13.11.jar\u001b[0m\u001b[0m\n",
      "Add to classpath: \u001b[0m\u001b[32m/Users/lokinfey/Library/Jupyter/kernels/rapaio-jupyter-kernel/ivy_cache/io.netty/netty-handler/jars/netty-handler-4.1.101.Final.jar\u001b[0m\u001b[0m\n",
      "Add to classpath: \u001b[0m\u001b[32m/Users/lokinfey/Library/Jupyter/kernels/rapaio-jupyter-kernel/ivy_cache/io.netty/netty-common/jars/netty-common-4.1.101.Final.jar\u001b[0m\u001b[0m\n",
      "Add to classpath: \u001b[0m\u001b[32m/Users/lokinfey/Library/Jupyter/kernels/rapaio-jupyter-kernel/ivy_cache/io.netty/netty-resolver/jars/netty-resolver-4.1.101.Final.jar\u001b[0m\u001b[0m\n",
      "Add to classpath: \u001b[0m\u001b[32m/Users/lokinfey/Library/Jupyter/kernels/rapaio-jupyter-kernel/ivy_cache/io.netty/netty-buffer/jars/netty-buffer-4.1.101.Final.jar\u001b[0m\u001b[0m\n",
      "Add to classpath: \u001b[0m\u001b[32m/Users/lokinfey/Library/Jupyter/kernels/rapaio-jupyter-kernel/ivy_cache/io.netty/netty-transport/jars/netty-transport-4.1.101.Final.jar\u001b[0m\u001b[0m\n",
      "Add to classpath: \u001b[0m\u001b[32m/Users/lokinfey/Library/Jupyter/kernels/rapaio-jupyter-kernel/ivy_cache/io.netty/netty-transport-native-unix-common/jars/netty-transport-native-unix-common-4.1.101.Final.jar\u001b[0m\u001b[0m\n",
      "Add to classpath: \u001b[0m\u001b[32m/Users/lokinfey/Library/Jupyter/kernels/rapaio-jupyter-kernel/ivy_cache/io.netty/netty-codec/jars/netty-codec-4.1.101.Final.jar\u001b[0m\u001b[0m\n",
      "Add to classpath: \u001b[0m\u001b[32m/Users/lokinfey/Library/Jupyter/kernels/rapaio-jupyter-kernel/ivy_cache/io.netty/netty-handler-proxy/jars/netty-handler-proxy-4.1.101.Final.jar\u001b[0m\u001b[0m\n",
      "Add to classpath: \u001b[0m\u001b[32m/Users/lokinfey/Library/Jupyter/kernels/rapaio-jupyter-kernel/ivy_cache/io.netty/netty-codec-socks/jars/netty-codec-socks-4.1.101.Final.jar\u001b[0m\u001b[0m\n",
      "Add to classpath: \u001b[0m\u001b[32m/Users/lokinfey/Library/Jupyter/kernels/rapaio-jupyter-kernel/ivy_cache/io.netty/netty-codec-http/jars/netty-codec-http-4.1.101.Final.jar\u001b[0m\u001b[0m\n",
      "Add to classpath: \u001b[0m\u001b[32m/Users/lokinfey/Library/Jupyter/kernels/rapaio-jupyter-kernel/ivy_cache/io.netty/netty-codec-http2/jars/netty-codec-http2-4.1.101.Final.jar\u001b[0m\u001b[0m\n",
      "Add to classpath: \u001b[0m\u001b[32m/Users/lokinfey/Library/Jupyter/kernels/rapaio-jupyter-kernel/ivy_cache/io.netty/netty-transport-native-epoll/jars/netty-transport-native-epoll-4.1.101.Final-linux-x86_64.jar\u001b[0m\u001b[0m\n",
      "Add to classpath: \u001b[0m\u001b[32m/Users/lokinfey/Library/Jupyter/kernels/rapaio-jupyter-kernel/ivy_cache/io.netty/netty-transport-classes-epoll/jars/netty-transport-classes-epoll-4.1.101.Final.jar\u001b[0m\u001b[0m\n",
      "Add to classpath: \u001b[0m\u001b[32m/Users/lokinfey/Library/Jupyter/kernels/rapaio-jupyter-kernel/ivy_cache/io.netty/netty-transport-native-kqueue/jars/netty-transport-native-kqueue-4.1.101.Final-osx-x86_64.jar\u001b[0m\u001b[0m\n",
      "Add to classpath: \u001b[0m\u001b[32m/Users/lokinfey/Library/Jupyter/kernels/rapaio-jupyter-kernel/ivy_cache/io.netty/netty-transport-classes-kqueue/jars/netty-transport-classes-kqueue-4.1.101.Final.jar\u001b[0m\u001b[0m\n",
      "Add to classpath: \u001b[0m\u001b[32m/Users/lokinfey/Library/Jupyter/kernels/rapaio-jupyter-kernel/ivy_cache/io.netty/netty-tcnative-boringssl-static/jars/netty-tcnative-boringssl-static-2.0.62.Final.jar\u001b[0m\u001b[0m\n",
      "Add to classpath: \u001b[0m\u001b[32m/Users/lokinfey/Library/Jupyter/kernels/rapaio-jupyter-kernel/ivy_cache/io.netty/netty-tcnative-classes/jars/netty-tcnative-classes-2.0.62.Final.jar\u001b[0m\u001b[0m\n",
      "Add to classpath: \u001b[0m\u001b[32m/Users/lokinfey/Library/Jupyter/kernels/rapaio-jupyter-kernel/ivy_cache/io.projectreactor.netty/reactor-netty-http/jars/reactor-netty-http-1.0.39.jar\u001b[0m\u001b[0m\n",
      "Add to classpath: \u001b[0m\u001b[32m/Users/lokinfey/Library/Jupyter/kernels/rapaio-jupyter-kernel/ivy_cache/io.netty/netty-resolver-dns/jars/netty-resolver-dns-4.1.101.Final.jar\u001b[0m\u001b[0m\n",
      "Add to classpath: \u001b[0m\u001b[32m/Users/lokinfey/Library/Jupyter/kernels/rapaio-jupyter-kernel/ivy_cache/io.netty/netty-codec-dns/jars/netty-codec-dns-4.1.101.Final.jar\u001b[0m\u001b[0m\n",
      "Add to classpath: \u001b[0m\u001b[32m/Users/lokinfey/Library/Jupyter/kernels/rapaio-jupyter-kernel/ivy_cache/io.netty/netty-resolver-dns-native-macos/jars/netty-resolver-dns-native-macos-4.1.101.Final-osx-x86_64.jar\u001b[0m\u001b[0m\n",
      "Add to classpath: \u001b[0m\u001b[32m/Users/lokinfey/Library/Jupyter/kernels/rapaio-jupyter-kernel/ivy_cache/io.netty/netty-resolver-dns-classes-macos/jars/netty-resolver-dns-classes-macos-4.1.101.Final.jar\u001b[0m\u001b[0m\n",
      "Add to classpath: \u001b[0m\u001b[32m/Users/lokinfey/Library/Jupyter/kernels/rapaio-jupyter-kernel/ivy_cache/io.projectreactor.netty/reactor-netty-core/jars/reactor-netty-core-1.0.39.jar\u001b[0m\u001b[0m\n",
      "Add to classpath: \u001b[0m\u001b[32m/Users/lokinfey/Library/Jupyter/kernels/rapaio-jupyter-kernel/ivy_cache/com.github.jknack/handlebars/jars/handlebars-4.3.1.jar\u001b[0m\u001b[0m\n",
      "Add to classpath: \u001b[0m\u001b[32m/Users/lokinfey/Library/Jupyter/kernels/rapaio-jupyter-kernel/ivy_cache/com.google.code.findbugs/jsr305/jars/jsr305-3.0.2.jar\u001b[0m\u001b[0m\n",
      "Add to classpath: \u001b[0m\u001b[32m/Users/lokinfey/Library/Jupyter/kernels/rapaio-jupyter-kernel/ivy_cache/com.fasterxml.jackson.dataformat/jackson-dataformat-yaml/jars/jackson-dataformat-yaml-2.16.1.jar\u001b[0m\u001b[0m\n",
      "Add to classpath: \u001b[0m\u001b[32m/Users/lokinfey/Library/Jupyter/kernels/rapaio-jupyter-kernel/ivy_cache/org.yaml/snakeyaml/bundles/snakeyaml-2.2.jar\u001b[0m\u001b[0m\n",
      "Add to classpath: \u001b[0m\u001b[32m/Users/lokinfey/Library/Jupyter/kernels/rapaio-jupyter-kernel/ivy_cache/com.github.spotbugs/spotbugs-annotations/jars/spotbugs-annotations-4.8.3.jar\u001b[0m\u001b[0m\n",
      "Add to classpath: \u001b[0m\u001b[32m/Users/lokinfey/Library/Jupyter/kernels/rapaio-jupyter-kernel/ivy_cache/com.microsoft.semantic-kernel/semantickernel-aiservices-openai/jars/semantickernel-aiservices-openai-1.0.0-rc2.jar\u001b[0m\u001b[0m\n",
      "Add to classpath: \u001b[0m\u001b[32m/Users/lokinfey/Library/Jupyter/kernels/rapaio-jupyter-kernel/ivy_cache/org.slf4j/slf4j-jdk14/jars/slf4j-jdk14-2.0.12.jar\u001b[0m\u001b[0m\n"
     ]
    }
   ],
   "source": [
    "%dependency /add com.microsoft.semantic-kernel:semantickernel-api:1.0.0-rc2\n",
    "%dependency /add com.microsoft.semantic-kernel:semantickernel-bom:1.0.0-rc2\n",
    "%dependency /add com.microsoft.semantic-kernel:semantickernel-parent:1.0.0-rc2\n",
    "%dependency /add com.microsoft.semantic-kernel:semantickernel-aiservices-openai:1.0.0-rc2\n",
    "%dependency /add org.slf4j:slf4j-jdk14:2.0.12\n",
    "\n",
    "%dependency /resolve"
   ]
  },
  {
   "cell_type": "code",
   "execution_count": null,
   "metadata": {},
   "outputs": [],
   "source": [
    "\n",
    "import com.microsoft.semantickernel.planner.sequentialplanner.SequentialPlanner;"
   ]
  }
 ],
 "metadata": {
  "kernelspec": {
   "display_name": "Java (Rapaio Jupyter)",
   "language": "java",
   "name": "rapaio-jupyter-kernel"
  },
  "language_info": {
   "codemirror_mode": "java",
   "file_extension": ".jshell",
   "mimetype": "text/x-java-source",
   "name": "java",
   "nbconvert_exporter": "script",
   "pygments_lexer": "java",
   "version": "21.0.2+13-LTS"
  }
 },
 "nbformat": 4,
 "nbformat_minor": 2
}
