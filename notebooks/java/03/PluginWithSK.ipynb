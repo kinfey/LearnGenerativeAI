{
 "cells": [
  {
   "cell_type": "code",
   "execution_count": 1,
   "metadata": {},
   "outputs": [
    {
     "name": "stdout",
     "output_type": "stream",
     "text": [
      "Adding dependency \u001b[0m\u001b[1m\u001b[32mcom.microsoft.semantic-kernel:semantickernel-api:1.2.0\u001b[0m\u001b[0m\n",
      "Adding dependency \u001b[0m\u001b[1m\u001b[32mcom.microsoft.semantic-kernel:semantickernel-bom:1.2.0\u001b[0m\u001b[0m\n",
      "Adding dependency \u001b[0m\u001b[1m\u001b[32mcom.microsoft.semantic-kernel:semantickernel-parent:1.2.0\u001b[0m\u001b[0m\n",
      "Adding dependency \u001b[0m\u001b[1m\u001b[32mcom.microsoft.semantic-kernel:semantickernel-aiservices-openai:1.2.0\u001b[0m\u001b[0m\n",
      "Adding dependency \u001b[0m\u001b[1m\u001b[32morg.slf4j:slf4j-jdk14:2.0.12\u001b[0m\u001b[0m\n",
      "Adding dependency override \u001b[0m\u001b[1m\u001b[32mio.netty:netty-codec-http:4.1.107.Final\u001b[0m\u001b[0m\n",
      "Adding dependency override \u001b[0m\u001b[1m\u001b[32mio.netty:netty-common:4.1.107.Final\u001b[0m\u001b[0m\n",
      "Adding dependency override \u001b[0m\u001b[1m\u001b[32mio.netty:netty-buffer:4.1.107.Final\u001b[0m\u001b[0m\n",
      "Adding dependency override \u001b[0m\u001b[1m\u001b[32mio.netty:netty-transport:4.1.107.Final\u001b[0m\u001b[0m\n",
      "Adding dependency override \u001b[0m\u001b[1m\u001b[32mio.netty:netty-resolver:4.1.107.Final\u001b[0m\u001b[0m\n",
      "Adding dependency override \u001b[0m\u001b[1m\u001b[32mio.netty:netty-codec:4.1.107.Final\u001b[0m\u001b[0m\n",
      "Adding dependency override \u001b[0m\u001b[1m\u001b[32mio.netty:netty-handler:4.1.107.Final\u001b[0m\u001b[0m\n",
      "Adding dependency override \u001b[0m\u001b[1m\u001b[32mio.netty:netty-transport-native-unix-common:4.1.107.Final\u001b[0m\u001b[0m\n",
      "Adding dependency override \u001b[0m\u001b[1m\u001b[32mio.netty:netty-codec-http2:4.1.107.Final\u001b[0m\u001b[0m\n",
      "Adding dependency override \u001b[0m\u001b[1m\u001b[32mio.netty:netty-transport-native-epoll:4.1.107.Final\u001b[0m\u001b[0m\n",
      "Adding dependency override \u001b[0m\u001b[1m\u001b[32mio.netty:netty-handler-proxy:4.1.107.Final\u001b[0m\u001b[0m\n",
      "Adding dependency override \u001b[0m\u001b[1m\u001b[32mio.projectreactor:reactor-core:3.4.36\u001b[0m\u001b[0m\n",
      "Solving dependencies\n",
      "Found dependencies count: 47\n",
      "Add to classpath: \u001b[0m\u001b[32m/home/vscode/.local/share/jupyter/kernels/rapaio-jupyter-kernel/ivy_cache/com.microsoft.semantic-kernel/semantickernel-api/jars/semantickernel-api-1.2.0.jar\u001b[0m\u001b[0m\n",
      "Add to classpath: \u001b[0m\u001b[32m/home/vscode/.local/share/jupyter/kernels/rapaio-jupyter-kernel/ivy_cache/com.azure/azure-ai-openai/jars/azure-ai-openai-1.0.0-beta.8.jar\u001b[0m\u001b[0m\n",
      "Add to classpath: \u001b[0m\u001b[32m/home/vscode/.local/share/jupyter/kernels/rapaio-jupyter-kernel/ivy_cache/com.azure/azure-core/jars/azure-core-1.49.1.jar\u001b[0m\u001b[0m\n",
      "Add to classpath: \u001b[0m\u001b[32m/home/vscode/.local/share/jupyter/kernels/rapaio-jupyter-kernel/ivy_cache/com.azure/azure-json/jars/azure-json-1.1.0.jar\u001b[0m\u001b[0m\n",
      "Add to classpath: \u001b[0m\u001b[32m/home/vscode/.local/share/jupyter/kernels/rapaio-jupyter-kernel/ivy_cache/com.azure/azure-xml/jars/azure-xml-1.0.0.jar\u001b[0m\u001b[0m\n",
      "Add to classpath: \u001b[0m\u001b[32m/home/vscode/.local/share/jupyter/kernels/rapaio-jupyter-kernel/ivy_cache/com.fasterxml.jackson.core/jackson-annotations/jars/jackson-annotations-2.17.1.jar\u001b[0m\u001b[0m\n",
      "Add to classpath: \u001b[0m\u001b[32m/home/vscode/.local/share/jupyter/kernels/rapaio-jupyter-kernel/ivy_cache/com.fasterxml.jackson.core/jackson-core/jars/jackson-core-2.17.1.jar\u001b[0m\u001b[0m\n",
      "Add to classpath: \u001b[0m\u001b[32m/home/vscode/.local/share/jupyter/kernels/rapaio-jupyter-kernel/ivy_cache/com.fasterxml.jackson.core/jackson-databind/jars/jackson-databind-2.17.1.jar\u001b[0m\u001b[0m\n",
      "Add to classpath: \u001b[0m\u001b[32m/home/vscode/.local/share/jupyter/kernels/rapaio-jupyter-kernel/ivy_cache/com.fasterxml.jackson.datatype/jackson-datatype-jsr310/bundles/jackson-datatype-jsr310-2.13.5.jar\u001b[0m\u001b[0m\n",
      "Add to classpath: \u001b[0m\u001b[32m/home/vscode/.local/share/jupyter/kernels/rapaio-jupyter-kernel/ivy_cache/org.slf4j/slf4j-api/jars/slf4j-api-2.0.12.jar\u001b[0m\u001b[0m\n",
      "Add to classpath: \u001b[0m\u001b[32m/home/vscode/.local/share/jupyter/kernels/rapaio-jupyter-kernel/ivy_cache/io.projectreactor/reactor-core/jars/reactor-core-3.4.36.jar\u001b[0m\u001b[0m\n",
      "Add to classpath: \u001b[0m\u001b[32m/home/vscode/.local/share/jupyter/kernels/rapaio-jupyter-kernel/ivy_cache/org.reactivestreams/reactive-streams/jars/reactive-streams-1.0.4.jar\u001b[0m\u001b[0m\n",
      "Add to classpath: \u001b[0m\u001b[32m/home/vscode/.local/share/jupyter/kernels/rapaio-jupyter-kernel/ivy_cache/com.azure/azure-core-http-netty/jars/azure-core-http-netty-1.14.2.jar\u001b[0m\u001b[0m\n",
      "Add to classpath: \u001b[0m\u001b[32m/home/vscode/.local/share/jupyter/kernels/rapaio-jupyter-kernel/ivy_cache/io.netty/netty-handler/jars/netty-handler-4.1.107.Final.jar\u001b[0m\u001b[0m\n",
      "Add to classpath: \u001b[0m\u001b[32m/home/vscode/.local/share/jupyter/kernels/rapaio-jupyter-kernel/ivy_cache/io.netty/netty-common/jars/netty-common-4.1.107.Final.jar\u001b[0m\u001b[0m\n",
      "Add to classpath: \u001b[0m\u001b[32m/home/vscode/.local/share/jupyter/kernels/rapaio-jupyter-kernel/ivy_cache/io.netty/netty-resolver/jars/netty-resolver-4.1.107.Final.jar\u001b[0m\u001b[0m\n",
      "Add to classpath: \u001b[0m\u001b[32m/home/vscode/.local/share/jupyter/kernels/rapaio-jupyter-kernel/ivy_cache/io.netty/netty-buffer/jars/netty-buffer-4.1.107.Final.jar\u001b[0m\u001b[0m\n",
      "Add to classpath: \u001b[0m\u001b[32m/home/vscode/.local/share/jupyter/kernels/rapaio-jupyter-kernel/ivy_cache/io.netty/netty-transport/jars/netty-transport-4.1.107.Final.jar\u001b[0m\u001b[0m\n",
      "Add to classpath: \u001b[0m\u001b[32m/home/vscode/.local/share/jupyter/kernels/rapaio-jupyter-kernel/ivy_cache/io.netty/netty-transport-native-unix-common/jars/netty-transport-native-unix-common-4.1.107.Final.jar\u001b[0m\u001b[0m\n",
      "Add to classpath: \u001b[0m\u001b[32m/home/vscode/.local/share/jupyter/kernels/rapaio-jupyter-kernel/ivy_cache/io.netty/netty-codec/jars/netty-codec-4.1.107.Final.jar\u001b[0m\u001b[0m\n",
      "Add to classpath: \u001b[0m\u001b[32m/home/vscode/.local/share/jupyter/kernels/rapaio-jupyter-kernel/ivy_cache/io.netty/netty-handler-proxy/jars/netty-handler-proxy-4.1.107.Final.jar\u001b[0m\u001b[0m\n",
      "Add to classpath: \u001b[0m\u001b[32m/home/vscode/.local/share/jupyter/kernels/rapaio-jupyter-kernel/ivy_cache/io.netty/netty-codec-socks/jars/netty-codec-socks-4.1.107.Final.jar\u001b[0m\u001b[0m\n",
      "Add to classpath: \u001b[0m\u001b[32m/home/vscode/.local/share/jupyter/kernels/rapaio-jupyter-kernel/ivy_cache/io.netty/netty-codec-http/jars/netty-codec-http-4.1.107.Final.jar\u001b[0m\u001b[0m\n",
      "Add to classpath: \u001b[0m\u001b[32m/home/vscode/.local/share/jupyter/kernels/rapaio-jupyter-kernel/ivy_cache/io.netty/netty-codec-http2/jars/netty-codec-http2-4.1.107.Final.jar\u001b[0m\u001b[0m\n",
      "Add to classpath: \u001b[0m\u001b[32m/home/vscode/.local/share/jupyter/kernels/rapaio-jupyter-kernel/ivy_cache/io.netty/netty-transport-native-epoll/jars/netty-transport-native-epoll-4.1.107.Final-linux-x86_64.jar\u001b[0m\u001b[0m\n",
      "Add to classpath: \u001b[0m\u001b[32m/home/vscode/.local/share/jupyter/kernels/rapaio-jupyter-kernel/ivy_cache/io.netty/netty-transport-classes-epoll/jars/netty-transport-classes-epoll-4.1.107.Final.jar\u001b[0m\u001b[0m\n",
      "Add to classpath: \u001b[0m\u001b[32m/home/vscode/.local/share/jupyter/kernels/rapaio-jupyter-kernel/ivy_cache/io.netty/netty-transport-native-kqueue/jars/netty-transport-native-kqueue-4.1.108.Final-osx-x86_64.jar\u001b[0m\u001b[0m\n",
      "Add to classpath: \u001b[0m\u001b[32m/home/vscode/.local/share/jupyter/kernels/rapaio-jupyter-kernel/ivy_cache/io.netty/netty-transport-classes-kqueue/jars/netty-transport-classes-kqueue-4.1.108.Final.jar\u001b[0m\u001b[0m\n",
      "Add to classpath: \u001b[0m\u001b[32m/home/vscode/.local/share/jupyter/kernels/rapaio-jupyter-kernel/ivy_cache/io.netty/netty-tcnative-boringssl-static/jars/netty-tcnative-boringssl-static-2.0.65.Final.jar\u001b[0m\u001b[0m\n",
      "Add to classpath: \u001b[0m\u001b[32m/home/vscode/.local/share/jupyter/kernels/rapaio-jupyter-kernel/ivy_cache/io.netty/netty-tcnative-classes/jars/netty-tcnative-classes-2.0.65.Final.jar\u001b[0m\u001b[0m\n",
      "Add to classpath: \u001b[0m\u001b[32m/home/vscode/.local/share/jupyter/kernels/rapaio-jupyter-kernel/ivy_cache/io.projectreactor.netty/reactor-netty-http/jars/reactor-netty-http-1.0.43.jar\u001b[0m\u001b[0m\n",
      "Add to classpath: \u001b[0m\u001b[32m/home/vscode/.local/share/jupyter/kernels/rapaio-jupyter-kernel/ivy_cache/io.netty/netty-resolver-dns/jars/netty-resolver-dns-4.1.107.Final.jar\u001b[0m\u001b[0m\n",
      "Add to classpath: \u001b[0m\u001b[32m/home/vscode/.local/share/jupyter/kernels/rapaio-jupyter-kernel/ivy_cache/io.netty/netty-codec-dns/jars/netty-codec-dns-4.1.107.Final.jar\u001b[0m\u001b[0m\n",
      "Add to classpath: \u001b[0m\u001b[32m/home/vscode/.local/share/jupyter/kernels/rapaio-jupyter-kernel/ivy_cache/io.netty/netty-resolver-dns-native-macos/jars/netty-resolver-dns-native-macos-4.1.107.Final-osx-x86_64.jar\u001b[0m\u001b[0m\n",
      "Add to classpath: \u001b[0m\u001b[32m/home/vscode/.local/share/jupyter/kernels/rapaio-jupyter-kernel/ivy_cache/io.netty/netty-resolver-dns-classes-macos/jars/netty-resolver-dns-classes-macos-4.1.107.Final.jar\u001b[0m\u001b[0m\n",
      "Add to classpath: \u001b[0m\u001b[32m/home/vscode/.local/share/jupyter/kernels/rapaio-jupyter-kernel/ivy_cache/io.projectreactor.netty/reactor-netty-core/jars/reactor-netty-core-1.0.43.jar\u001b[0m\u001b[0m\n",
      "Add to classpath: \u001b[0m\u001b[32m/home/vscode/.local/share/jupyter/kernels/rapaio-jupyter-kernel/ivy_cache/com.github.jknack/handlebars/jars/handlebars-4.3.1.jar\u001b[0m\u001b[0m\n",
      "Add to classpath: \u001b[0m\u001b[32m/home/vscode/.local/share/jupyter/kernels/rapaio-jupyter-kernel/ivy_cache/com.google.code.findbugs/jsr305/jars/jsr305-3.0.2.jar\u001b[0m\u001b[0m\n",
      "Add to classpath: \u001b[0m\u001b[32m/home/vscode/.local/share/jupyter/kernels/rapaio-jupyter-kernel/ivy_cache/com.fasterxml.jackson.dataformat/jackson-dataformat-yaml/jars/jackson-dataformat-yaml-2.17.1.jar\u001b[0m\u001b[0m\n",
      "Add to classpath: \u001b[0m\u001b[32m/home/vscode/.local/share/jupyter/kernels/rapaio-jupyter-kernel/ivy_cache/org.yaml/snakeyaml/bundles/snakeyaml-2.2.jar\u001b[0m\u001b[0m\n",
      "Add to classpath: \u001b[0m\u001b[32m/home/vscode/.local/share/jupyter/kernels/rapaio-jupyter-kernel/ivy_cache/com.github.spotbugs/spotbugs-annotations/jars/spotbugs-annotations-4.8.3.jar\u001b[0m\u001b[0m\n",
      "Add to classpath: \u001b[0m\u001b[32m/home/vscode/.local/share/jupyter/kernels/rapaio-jupyter-kernel/ivy_cache/org.apache.commons/commons-text/jars/commons-text-1.11.0.jar\u001b[0m\u001b[0m\n",
      "Add to classpath: \u001b[0m\u001b[32m/home/vscode/.local/share/jupyter/kernels/rapaio-jupyter-kernel/ivy_cache/org.apache.commons/commons-lang3/jars/commons-lang3-3.13.0.jar\u001b[0m\u001b[0m\n",
      "Add to classpath: \u001b[0m\u001b[32m/home/vscode/.local/share/jupyter/kernels/rapaio-jupyter-kernel/ivy_cache/io.opentelemetry/opentelemetry-api/jars/opentelemetry-api-1.39.0.jar\u001b[0m\u001b[0m\n",
      "Add to classpath: \u001b[0m\u001b[32m/home/vscode/.local/share/jupyter/kernels/rapaio-jupyter-kernel/ivy_cache/io.opentelemetry/opentelemetry-context/jars/opentelemetry-context-1.39.0.jar\u001b[0m\u001b[0m\n",
      "Add to classpath: \u001b[0m\u001b[32m/home/vscode/.local/share/jupyter/kernels/rapaio-jupyter-kernel/ivy_cache/com.microsoft.semantic-kernel/semantickernel-aiservices-openai/jars/semantickernel-aiservices-openai-1.2.0.jar\u001b[0m\u001b[0m\n",
      "Add to classpath: \u001b[0m\u001b[32m/home/vscode/.local/share/jupyter/kernels/rapaio-jupyter-kernel/ivy_cache/org.slf4j/slf4j-jdk14/jars/slf4j-jdk14-2.0.12.jar\u001b[0m\u001b[0m\n"
     ]
    }
   ],
   "source": [
    "%dependency /add com.microsoft.semantic-kernel:semantickernel-api:1.2.0\n",
    "%dependency /add com.microsoft.semantic-kernel:semantickernel-bom:1.2.0\n",
    "%dependency /add com.microsoft.semantic-kernel:semantickernel-parent:1.2.0\n",
    "%dependency /add com.microsoft.semantic-kernel:semantickernel-aiservices-openai:1.2.0\n",
    "%dependency /add org.slf4j:slf4j-jdk14:2.0.12\n",
    "\n",
    "\n",
    "%dependency /override io.netty:netty-codec-http:4.1.107.Final\n",
    "%dependency /override io.netty:netty-common:4.1.107.Final\n",
    "%dependency /override io.netty:netty-buffer:4.1.107.Final\n",
    "%dependency /override io.netty:netty-transport:4.1.107.Final\n",
    "%dependency /override io.netty:netty-resolver:4.1.107.Final\n",
    "%dependency /override io.netty:netty-codec:4.1.107.Final\n",
    "%dependency /override io.netty:netty-handler:4.1.107.Final\n",
    "%dependency /override io.netty:netty-transport-native-unix-common:4.1.107.Final\n",
    "%dependency /override io.netty:netty-codec-http2:4.1.107.Final\n",
    "%dependency /override io.netty:netty-transport-native-epoll:4.1.107.Final\n",
    "%dependency /override io.netty:netty-handler-proxy:4.1.107.Final\n",
    "%dependency /override io.projectreactor:reactor-core:3.4.36\n",
    "\n",
    "%dependency /resolve"
   ]
  },
  {
   "cell_type": "code",
   "execution_count": 2,
   "metadata": {},
   "outputs": [],
   "source": [
    "import java.nio.file.Path;"
   ]
  },
  {
   "cell_type": "code",
   "execution_count": 3,
   "metadata": {},
   "outputs": [],
   "source": [
    "import com.azure.ai.openai.OpenAIAsyncClient;\n",
    "import com.azure.ai.openai.OpenAIClientBuilder;\n",
    "import com.azure.core.credential.AzureKeyCredential;\n",
    "import com.azure.core.credential.KeyCredential;"
   ]
  },
  {
   "cell_type": "code",
   "execution_count": 4,
   "metadata": {},
   "outputs": [],
   "source": [
    "import com.microsoft.semantickernel.Kernel;\n",
    "import com.microsoft.semantickernel.Kernel.Builder;\n",
    "import com.microsoft.semantickernel.exceptions.ConfigurationException;\n",
    "import com.microsoft.semantickernel.orchestration.FunctionResult;\n",
    "import com.microsoft.semantickernel.orchestration.PromptExecutionSettings;\n",
    "import com.microsoft.semantickernel.plugin.KernelPluginFactory;\n",
    "import com.microsoft.semantickernel.semanticfunctions.KernelFunction;\n",
    "import com.microsoft.semantickernel.semanticfunctions.KernelFunctionArguments;\n",
    "import com.microsoft.semantickernel.semanticfunctions.KernelFunctionFromPrompt;\n",
    "import com.microsoft.semantickernel.services.textcompletion.TextGenerationService;\n",
    "\n",
    "import com.microsoft.semantickernel.aiservices.openai.chatcompletion.OpenAIChatCompletion;\n",
    "import com.microsoft.semantickernel.services.chatcompletion.ChatCompletionService;"
   ]
  },
  {
   "cell_type": "code",
   "execution_count": 5,
   "metadata": {},
   "outputs": [],
   "source": [
    "String AZURE_KEY = \"Your Azure OpenAI Service API Key\";\n",
    "String AZURE_ENDPOINT = \"Your Azure OpenAI Service Endpoint\";"
   ]
  },
  {
   "cell_type": "code",
   "execution_count": 6,
   "metadata": {},
   "outputs": [],
   "source": [
    "OpenAIAsyncClient client = new OpenAIClientBuilder()\n",
    "        .credential(new AzureKeyCredential(AZURE_KEY))\n",
    "        .endpoint(AZURE_ENDPOINT)\n",
    "        .buildAsyncClient();"
   ]
  },
  {
   "cell_type": "code",
   "execution_count": 7,
   "metadata": {},
   "outputs": [],
   "source": [
    "ChatCompletionService chatGenerationService = OpenAIChatCompletion.builder()\n",
    "                        .withOpenAIAsyncClient(client)\n",
    "                        .withModelId(\"Your Azure OpenAI Service gpt-3.5-turbo-16k deployment name\")\n",
    "                        .build();"
   ]
  },
  {
   "cell_type": "code",
   "execution_count": 8,
   "metadata": {},
   "outputs": [],
   "source": [
    "\n",
    "var codePlugin = KernelFunctionFromPrompt.builder()\n",
    "                        .withTemplate(\"System: You are a java developer 。 User:{{$input}}\")\n",
    "                        .withDefaultExecutionSettings(\n",
    "                            PromptExecutionSettings.builder()\n",
    "                                .withMaxTokens(2000)\n",
    "                                .withTemperature(0.7)\n",
    "                                .build())\n",
    "                        .build();"
   ]
  },
  {
   "cell_type": "code",
   "execution_count": 9,
   "metadata": {},
   "outputs": [],
   "source": [
    "Kernel kernel = Kernel.builder()\n",
    "    .withAIService(ChatCompletionService.class, chatGenerationService)\n",
    "    .build();"
   ]
  },
  {
   "cell_type": "code",
   "execution_count": 10,
   "metadata": {},
   "outputs": [],
   "source": [
    "var result = kernel\n",
    "            .invokeAsync(codePlugin)\n",
    "            .withArguments(\n",
    "                KernelFunctionArguments.builder()\n",
    "                    .withInput(\"Generate a bubble algorithm method with Java\")\n",
    "                    .build())\n",
    "            .block();"
   ]
  },
  {
   "cell_type": "code",
   "execution_count": 11,
   "metadata": {},
   "outputs": [
    {
     "data": {
      "text/plain": [
       "Sure! Here's an example of a bubble sort algorithm implemented in Java:\n",
       "\n",
       "```java\n",
       "public class BubbleSort {\n",
       "    public static void bubbleSort(int[] arr) {\n",
       "        int n = arr.length;\n",
       "        for (int i = 0; i < n-1; i++) {\n",
       "            for (int j = 0; j < n-i-1; j++) {\n",
       "                if (arr[j] > arr[j+1]) {\n",
       "                    // Swap arr[j] and arr[j+1]\n",
       "                    int temp = arr[j];\n",
       "                    arr[j] = arr[j+1];\n",
       "                    arr[j+1] = temp;\n",
       "                }\n",
       "            }\n",
       "        }\n",
       "    }\n",
       "\n",
       "    public static void main(String[] args) {\n",
       "        int[] arr = {64, 34, 25, 12, 22, 11, 90};\n",
       "        bubbleSort(arr);\n",
       "        System.out.println(\"Sorted array:\");\n",
       "        for (int i = 0; i < arr.length; i++) {\n",
       "            System.out.print(arr[i] + \" \");\n",
       "        }\n",
       "    }\n",
       "}\n",
       "```\n",
       "\n",
       "This code defines a `BubbleSort` class with a `bubbleSort` method that takes an array of integers as input and sorts it using the bubble sort algorithm. The `main` method demonstrates how to use this method by creating an array, calling `bubbleSort` on it, and then printing the sorted array.\n",
       "\n",
       "The bubble sort algorithm repeatedly steps through the list, compares adjacent elements, and swaps them if they are in the wrong order. This process continues until the list is sorted."
      ]
     },
     "execution_count": 11,
     "metadata": {},
     "output_type": "execute_result"
    }
   ],
   "source": [
    "result.getResult();"
   ]
  },
  {
   "cell_type": "code",
   "execution_count": 12,
   "metadata": {},
   "outputs": [],
   "source": [
    "var translatePlugin =  KernelPluginFactory\n",
    "                    .importPluginFromDirectory(\n",
    "                        Path.of(\"../../../\", \"plugins\"),\n",
    "                        \"TranslatePlugin\",\n",
    "                        null);"
   ]
  },
  {
   "cell_type": "code",
   "execution_count": 13,
   "metadata": {},
   "outputs": [],
   "source": [
    "var result = kernel\n",
    "            .invokeAsync(translatePlugin.get(\"MultiLanguage\"))\n",
    "            .withArguments(\n",
    "                KernelFunctionArguments.builder()\n",
    "                    .withVariable(\"input\", \"hello world\")\n",
    "                    .withVariable(\"language\", \"fr\")\n",
    "                    .build())\n",
    "            .block();"
   ]
  },
  {
   "cell_type": "code",
   "execution_count": 14,
   "metadata": {},
   "outputs": [
    {
     "data": {
      "text/plain": [
       "Bonjour le monde"
      ]
     },
     "execution_count": 14,
     "metadata": {},
     "output_type": "execute_result"
    }
   ],
   "source": [
    "result.getResult();"
   ]
  },
  {
   "cell_type": "code",
   "execution_count": 15,
   "metadata": {},
   "outputs": [],
   "source": [
    "import com.microsoft.semantickernel.semanticfunctions.annotations.DefineKernelFunction;\n",
    "import com.microsoft.semantickernel.semanticfunctions.annotations.KernelFunctionParameter;"
   ]
  },
  {
   "cell_type": "code",
   "execution_count": 16,
   "metadata": {},
   "outputs": [],
   "source": [
    "public static class CustomPlugin {\n",
    "\n",
    "    @DefineKernelFunction(description = \"Get news from the web\", name = \"NewsFunction\")\n",
    "    public static String askNews(\n",
    "        @KernelFunctionParameter(description = \"getlocation\", name = \"location\") String location) {\n",
    "        return \"Get news from the \" + location + \".\";\n",
    "    }\n",
    "\n",
    "    @DefineKernelFunction(description = \"Search Weather in a city\", name = \"WeatherFunction\")\n",
    "    public String askWeather(\n",
    "        @KernelFunctionParameter(description = \"get city\", name = \"city\") String city) {\n",
    "        return city + \"’s weather is 30 celsius degree , and very hot.\";\n",
    "    }\n",
    "\n",
    "    @DefineKernelFunction(description = \"Search docs\", name = \"DocsFunction\")\n",
    "    public String askDocs(\n",
    "        @KernelFunctionParameter(description = \"get docs\", name = \"docs\") String docs) {\n",
    "        return \"ask docs :\" + docs;\n",
    "    }\n",
    "}"
   ]
  },
  {
   "cell_type": "code",
   "execution_count": 17,
   "metadata": {},
   "outputs": [],
   "source": [
    "Builder kernelBuilder = Kernel.builder()\n",
    "            .withAIService(ChatCompletionService.class, chatGenerationService);"
   ]
  },
  {
   "cell_type": "code",
   "execution_count": 18,
   "metadata": {},
   "outputs": [],
   "source": [
    "\n",
    "var customPlugin =KernelPluginFactory.createFromObject(new CustomPlugin(),\"CustomPlugin\")"
   ]
  },
  {
   "cell_type": "code",
   "execution_count": 19,
   "metadata": {},
   "outputs": [
    {
     "data": {
      "text/plain": [
       "com.microsoft.semantickernel.Kernel$Builder@1f50274e"
      ]
     },
     "execution_count": 19,
     "metadata": {},
     "output_type": "execute_result"
    }
   ],
   "source": [
    "kernelBuilder.withPlugin(customPlugin);"
   ]
  },
  {
   "cell_type": "code",
   "execution_count": 20,
   "metadata": {},
   "outputs": [],
   "source": [
    "Kernel kernel = kernelBuilder.build();"
   ]
  },
  {
   "cell_type": "code",
   "execution_count": 21,
   "metadata": {},
   "outputs": [],
   "source": [
    "\n",
    "var result = kernel.invokeAsync(kernel.getFunction(\"CustomPlugin\", \"NewsFunction\"))\n",
    "                        .withArguments(\n",
    "                            KernelFunctionArguments.builder()\n",
    "                                .withVariable(\"location\", \"guangzhou\")\n",
    "                                .build())\n",
    "                        .block();"
   ]
  },
  {
   "cell_type": "code",
   "execution_count": 22,
   "metadata": {},
   "outputs": [
    {
     "data": {
      "text/plain": [
       "Get news from the guangzhou."
      ]
     },
     "execution_count": 22,
     "metadata": {},
     "output_type": "execute_result"
    }
   ],
   "source": [
    "result.getResult();"
   ]
  }
 ],
 "metadata": {
  "kernelspec": {
   "display_name": "Java (Rapaio Jupyter)",
   "language": "java",
   "name": "rapaio-jupyter-kernel"
  },
  "language_info": {
   "codemirror_mode": "java",
   "file_extension": ".jshell",
   "mimetype": "text/x-java-source",
   "name": "java",
   "nbconvert_exporter": "script",
   "pygments_lexer": "java",
   "version": "21.0.4+7-LTS"
  }
 },
 "nbformat": 4,
 "nbformat_minor": 2
}
