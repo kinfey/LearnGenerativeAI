{
 "cells": [
  {
   "cell_type": "code",
   "execution_count": 1,
   "metadata": {},
   "outputs": [],
   "source": [
    "import os\n",
    "import sys\n",
    "\n",
    "import semantic_kernel as sk\n",
    "import semantic_kernel.connectors.ai.open_ai as skaoai\n",
    "from semantic_kernel.connectors.ai.open_ai import AzureChatPromptExecutionSettings, OpenAIChatPromptExecutionSettings\n",
    "from semantic_kernel.prompt_template import InputVariable, PromptTemplateConfig"
   ]
  },
  {
   "cell_type": "code",
   "execution_count": 2,
   "metadata": {},
   "outputs": [],
   "source": [
    "\n",
    "kernel = sk.Kernel()"
   ]
  },
  {
   "cell_type": "code",
   "execution_count": 3,
   "metadata": {},
   "outputs": [],
   "source": [
    "service_id = \"default\"\n",
    "\n",
    "kernel = sk.Kernel()\n",
    "\n",
    "kernel.add_service(\n",
    "        skaoai.AzureChatCompletion(\n",
    "            service_id=service_id,\n",
    "            env_file_path=\".env\"\n",
    "        ),\n",
    ")"
   ]
  },
  {
   "cell_type": "code",
   "execution_count": 4,
   "metadata": {},
   "outputs": [],
   "source": [
    "from semantic_kernel.planners import SequentialPlanner\n",
    "\n",
    "planner = SequentialPlanner(kernel, service_id)"
   ]
  },
  {
   "cell_type": "code",
   "execution_count": 5,
   "metadata": {},
   "outputs": [],
   "source": [
    "base_skills_directory = '../../../plugins'"
   ]
  },
  {
   "cell_type": "code",
   "execution_count": 6,
   "metadata": {},
   "outputs": [],
   "source": [
    "import APIPlugin.CustomPlugin as custom_plugin"
   ]
  },
  {
   "cell_type": "code",
   "execution_count": 7,
   "metadata": {},
   "outputs": [],
   "source": [
    "#custom_plugin = kernel.import_native_skill_from_directory(base_skills_directory , \"APIPlugin\")\n",
    "# custom_plugin = kernel.import_plugin(custom_plugin.CustomPlugin(), plugin_name=\"CustomPlugin\")  #.import_native_skill_from_directory(base_plugin , \"APIPlugin\")\n",
    "# writer_plugin = kernel.import_semantic_plugin_from_directory(base_skills_directory, \"WriterPlugin\")\n",
    "# email_plugin = kernel.import_semantic_plugin_from_directory(base_skills_directory, \"EmailPlugin\")\n",
    "# translate_plugin = kernel.import_semantic_plugin_from_directory(base_skills_directory, \"TranslatePlugin\")\n",
    "\n",
    "\n",
    "custom_plugin = kernel.add_plugin(custom_plugin.CustomPlugin(), \"CustomPlugin\")\n",
    "writer_plugin = kernel.add_plugin(parent_directory=base_skills_directory,plugin_name =\"WriterPlugin\")\n",
    "email_plugin = kernel.add_plugin(parent_directory=base_skills_directory,plugin_name =\"EmailPlugin\")\n",
    "translate_plugin = kernel.add_plugin(parent_directory=base_skills_directory,plugin_name =\"TranslatePlugin\")"
   ]
  },
  {
   "cell_type": "code",
   "execution_count": 8,
   "metadata": {},
   "outputs": [],
   "source": [
    "ask = \"\"\"\n",
    "Write email about  travellings tips based on  getting current weather in Guangzhou \n",
    "\"\"\"\n",
    "# original_plan = await planner.create_plan(ask, kernel)\n",
    "\n",
    "original_plan = await planner.create_plan(goal=ask)"
   ]
  },
  {
   "cell_type": "code",
   "execution_count": 9,
   "metadata": {},
   "outputs": [
    {
     "name": "stdout",
     "output_type": "stream",
     "text": [
      "- Search Weather in a city using CustomPlugin-WeatherFunction with parameters: {'city': 'Guangzhou'}\n",
      "- tips using WriterPlugin-Tips with parameters: {'input': 'The current weather in Guangzhou is $WEATHER_OUTPUT', 'language': 'English'}\n",
      "- Write an email about weather using EmailPlugin-WeatherMail with parameters: {'input': 'Here are some travel tips based on the current weather in Guangzhou: $RESULT__TRAVEL_TIPS'}\n"
     ]
    }
   ],
   "source": [
    "\n",
    "for step in original_plan._steps:\n",
    "    print(\n",
    "        f\"- {step.description.replace('.', '') if step.description else 'No description'} using {step.metadata.fully_qualified_name} with parameters: {step.parameters}\"\n",
    "    )"
   ]
  },
  {
   "cell_type": "code",
   "execution_count": 10,
   "metadata": {},
   "outputs": [],
   "source": [
    "results = await original_plan.invoke(kernel)"
   ]
  },
  {
   "cell_type": "code",
   "execution_count": 11,
   "metadata": {},
   "outputs": [
    {
     "name": "stdout",
     "output_type": "stream",
     "text": [
      "Subject: Dressing Tips for Guangzhou's Hot Weather - Travel Advisory\n",
      "\n",
      "Dear [Colleagues],\n",
      "\n",
      "As we prepare for our upcoming trip to Guangzhou, I wanted to share some dressing tips to help us stay cool and comfortable in the hot weather of 30 degrees Celsius. Please pay attention to these recommendations and adjust your travel attire accordingly:\n",
      "\n",
      "1. Choose lightweight and breathable fabrics like cotton, linen, or chiffon. These materials allow air circulation and keep you cool. (选择轻薄透气的面料，如棉，麻或雪纺。这些材料有助于空气流通，保持凉爽。)\n",
      "\n",
      "2. Opt for loose-fitting and flowy clothing to allow better ventilation and ease of movement. (选择宽松飘逸的服装，有助于通风，并提供更自由的动作。)\n",
      "\n",
      "3. Wear light-colored outfits as they reflect sunlight and help to keep you cooler. (穿浅色的衣服，因为它们反射阳光，有助于保持凉爽。)\n",
      "\n",
      "4. Avoid tight or fitted clothing that may trap heat and cause discomfort. (避免穿着紧身或合身的衣物，这可能会困住热量，并引起不适。)\n",
      "\n",
      "5. It's advisable to wear wide-brimmed hats or caps to protect your face and neck from the direct sun. (建议戴宽檐帽或帽子，以保护脸部和颈部不受直接阳光照射。)\n",
      "\n",
      "6. Use sunscreen with a high SPF to shield your skin from harmful UV rays. (使用高SPF值的防晒霜，以防止皮肤受到有害的紫外线辐射。)\n",
      "\n",
      "7. Carry a lightweight and breathable umbrella for sun protection, especially during peak hours. (随身携带轻便透气的遮阳伞，尤其是在高峰时段以防紫外线。)\n",
      "\n",
      "8. Opt for open-toed shoes or sandals to keep your feet cool and comfortable. (选择露趾鞋或凉鞋，使脚部保持凉爽和舒适。)\n",
      "\n",
      "9. Stay hydrated by drinking plenty of water throughout the day to combat the heat. (一天中要喝足够的水，保持身体水分，对抗炎热。)\n",
      "\n",
      "Please remember to prioritize sun protection and dress in lightweight and comfortable clothing to ensure a pleasant experience during our trip to Guangzhou. Additionally, it is important for all of us to pay attention to the travel conditions at all times, especially regarding any changes in weather or local advisories. Let's stay updated and make necessary adjustments to our plans if needed.\n",
      "\n",
      "If you have any questions or concerns regarding the trip or the dressing tips, please feel free to reach out to me.\n",
      "\n",
      "Looking forward to our trip!\n",
      "\n",
      "Best regards,\n",
      "\n",
      "[Your Name]\n"
     ]
    }
   ],
   "source": [
    "print(results)"
   ]
  }
 ],
 "metadata": {
  "kernelspec": {
   "display_name": "pydev",
   "language": "python",
   "name": "python3"
  },
  "language_info": {
   "codemirror_mode": {
    "name": "ipython",
    "version": 3
   },
   "file_extension": ".py",
   "mimetype": "text/x-python",
   "name": "python",
   "nbconvert_exporter": "python",
   "pygments_lexer": "ipython3",
   "version": "3.10.12"
  },
  "orig_nbformat": 4
 },
 "nbformat": 4,
 "nbformat_minor": 2
}
