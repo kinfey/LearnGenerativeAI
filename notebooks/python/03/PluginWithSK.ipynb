{
 "cells": [
  {
   "cell_type": "code",
   "execution_count": 1,
   "metadata": {},
   "outputs": [
    {
     "name": "stdout",
     "output_type": "stream",
     "text": [
      "Requirement already satisfied: semantic-kernel in /opt/conda/envs/pydev/lib/python3.10/site-packages (1.3.0)\n",
      "Requirement already satisfied: aiohttp<4.0,>=3.8 in /opt/conda/envs/pydev/lib/python3.10/site-packages (from semantic-kernel) (3.10.1)\n",
      "Requirement already satisfied: defusedxml<0.8.0,>=0.7.1 in /opt/conda/envs/pydev/lib/python3.10/site-packages (from semantic-kernel) (0.7.1)\n",
      "Requirement already satisfied: jinja2<4.0.0,>=3.1.3 in /opt/conda/envs/pydev/lib/python3.10/site-packages (from semantic-kernel) (3.1.4)\n",
      "Requirement already satisfied: nest-asyncio<2.0.0,>=1.6.0 in /opt/conda/envs/pydev/lib/python3.10/site-packages (from semantic-kernel) (1.6.0)\n",
      "Requirement already satisfied: numpy>=1.25 in /opt/conda/envs/pydev/lib/python3.10/site-packages (from semantic-kernel) (2.0.1)\n",
      "Requirement already satisfied: openai>=1.0 in /opt/conda/envs/pydev/lib/python3.10/site-packages (from semantic-kernel) (1.38.0)\n",
      "Requirement already satisfied: openapi_core<0.20,>=0.18 in /opt/conda/envs/pydev/lib/python3.10/site-packages (from semantic-kernel) (0.19.2)\n",
      "Requirement already satisfied: prance<24.0.0.0,>=23.6.21.0 in /opt/conda/envs/pydev/lib/python3.10/site-packages (from semantic-kernel) (23.6.21.0)\n",
      "Requirement already satisfied: pybars4<0.10.0,>=0.9.13 in /opt/conda/envs/pydev/lib/python3.10/site-packages (from semantic-kernel) (0.9.13)\n",
      "Requirement already satisfied: pydantic<3,>=2 in /opt/conda/envs/pydev/lib/python3.10/site-packages (from semantic-kernel) (2.8.2)\n",
      "Requirement already satisfied: pydantic-settings<3,>=2 in /opt/conda/envs/pydev/lib/python3.10/site-packages (from semantic-kernel) (2.4.0)\n",
      "Requirement already satisfied: ruff==0.5.2 in /opt/conda/envs/pydev/lib/python3.10/site-packages (from semantic-kernel) (0.5.2)\n",
      "Requirement already satisfied: aiohappyeyeballs>=2.3.0 in /opt/conda/envs/pydev/lib/python3.10/site-packages (from aiohttp<4.0,>=3.8->semantic-kernel) (2.3.4)\n",
      "Requirement already satisfied: aiosignal>=1.1.2 in /opt/conda/envs/pydev/lib/python3.10/site-packages (from aiohttp<4.0,>=3.8->semantic-kernel) (1.3.1)\n",
      "Requirement already satisfied: attrs>=17.3.0 in /opt/conda/envs/pydev/lib/python3.10/site-packages (from aiohttp<4.0,>=3.8->semantic-kernel) (24.1.0)\n",
      "Requirement already satisfied: frozenlist>=1.1.1 in /opt/conda/envs/pydev/lib/python3.10/site-packages (from aiohttp<4.0,>=3.8->semantic-kernel) (1.4.1)\n",
      "Requirement already satisfied: multidict<7.0,>=4.5 in /opt/conda/envs/pydev/lib/python3.10/site-packages (from aiohttp<4.0,>=3.8->semantic-kernel) (6.0.5)\n",
      "Requirement already satisfied: yarl<2.0,>=1.0 in /opt/conda/envs/pydev/lib/python3.10/site-packages (from aiohttp<4.0,>=3.8->semantic-kernel) (1.9.4)\n",
      "Requirement already satisfied: async-timeout<5.0,>=4.0 in /opt/conda/envs/pydev/lib/python3.10/site-packages (from aiohttp<4.0,>=3.8->semantic-kernel) (4.0.3)\n",
      "Requirement already satisfied: MarkupSafe>=2.0 in /opt/conda/envs/pydev/lib/python3.10/site-packages (from jinja2<4.0.0,>=3.1.3->semantic-kernel) (2.1.5)\n",
      "Requirement already satisfied: anyio<5,>=3.5.0 in /opt/conda/envs/pydev/lib/python3.10/site-packages (from openai>=1.0->semantic-kernel) (4.4.0)\n",
      "Requirement already satisfied: distro<2,>=1.7.0 in /opt/conda/envs/pydev/lib/python3.10/site-packages (from openai>=1.0->semantic-kernel) (1.9.0)\n",
      "Requirement already satisfied: httpx<1,>=0.23.0 in /opt/conda/envs/pydev/lib/python3.10/site-packages (from openai>=1.0->semantic-kernel) (0.27.0)\n",
      "Requirement already satisfied: sniffio in /opt/conda/envs/pydev/lib/python3.10/site-packages (from openai>=1.0->semantic-kernel) (1.3.1)\n",
      "Requirement already satisfied: tqdm>4 in /opt/conda/envs/pydev/lib/python3.10/site-packages (from openai>=1.0->semantic-kernel) (4.66.5)\n",
      "Requirement already satisfied: typing-extensions<5,>=4.7 in /opt/conda/envs/pydev/lib/python3.10/site-packages (from openai>=1.0->semantic-kernel) (4.12.2)\n",
      "Requirement already satisfied: isodate in /opt/conda/envs/pydev/lib/python3.10/site-packages (from openapi_core<0.20,>=0.18->semantic-kernel) (0.6.1)\n",
      "Requirement already satisfied: jsonschema<5.0.0,>=4.18.0 in /opt/conda/envs/pydev/lib/python3.10/site-packages (from openapi_core<0.20,>=0.18->semantic-kernel) (4.23.0)\n",
      "Requirement already satisfied: jsonschema-path<0.4.0,>=0.3.1 in /opt/conda/envs/pydev/lib/python3.10/site-packages (from openapi_core<0.20,>=0.18->semantic-kernel) (0.3.3)\n",
      "Requirement already satisfied: more-itertools in /opt/conda/envs/pydev/lib/python3.10/site-packages (from openapi_core<0.20,>=0.18->semantic-kernel) (10.3.0)\n",
      "Requirement already satisfied: openapi-schema-validator<0.7.0,>=0.6.0 in /opt/conda/envs/pydev/lib/python3.10/site-packages (from openapi_core<0.20,>=0.18->semantic-kernel) (0.6.2)\n",
      "Requirement already satisfied: openapi-spec-validator<0.8.0,>=0.7.1 in /opt/conda/envs/pydev/lib/python3.10/site-packages (from openapi_core<0.20,>=0.18->semantic-kernel) (0.7.1)\n",
      "Requirement already satisfied: parse in /opt/conda/envs/pydev/lib/python3.10/site-packages (from openapi_core<0.20,>=0.18->semantic-kernel) (1.20.2)\n",
      "Requirement already satisfied: werkzeug in /opt/conda/envs/pydev/lib/python3.10/site-packages (from openapi_core<0.20,>=0.18->semantic-kernel) (3.0.3)\n",
      "Requirement already satisfied: chardet>=3.0 in /opt/conda/envs/pydev/lib/python3.10/site-packages (from prance<24.0.0.0,>=23.6.21.0->semantic-kernel) (5.2.0)\n",
      "Requirement already satisfied: ruamel.yaml>=0.17.10 in /opt/conda/envs/pydev/lib/python3.10/site-packages (from prance<24.0.0.0,>=23.6.21.0->semantic-kernel) (0.18.6)\n",
      "Requirement already satisfied: requests>=2.25 in /opt/conda/envs/pydev/lib/python3.10/site-packages (from prance<24.0.0.0,>=23.6.21.0->semantic-kernel) (2.32.3)\n",
      "Requirement already satisfied: six~=1.15 in /opt/conda/envs/pydev/lib/python3.10/site-packages (from prance<24.0.0.0,>=23.6.21.0->semantic-kernel) (1.16.0)\n",
      "Requirement already satisfied: packaging>=21.3 in /opt/conda/envs/pydev/lib/python3.10/site-packages (from prance<24.0.0.0,>=23.6.21.0->semantic-kernel) (24.1)\n",
      "Requirement already satisfied: PyMeta3>=0.5.1 in /opt/conda/envs/pydev/lib/python3.10/site-packages (from pybars4<0.10.0,>=0.9.13->semantic-kernel) (0.5.1)\n",
      "Requirement already satisfied: annotated-types>=0.4.0 in /opt/conda/envs/pydev/lib/python3.10/site-packages (from pydantic<3,>=2->semantic-kernel) (0.7.0)\n",
      "Requirement already satisfied: pydantic-core==2.20.1 in /opt/conda/envs/pydev/lib/python3.10/site-packages (from pydantic<3,>=2->semantic-kernel) (2.20.1)\n",
      "Requirement already satisfied: python-dotenv>=0.21.0 in /opt/conda/envs/pydev/lib/python3.10/site-packages (from pydantic-settings<3,>=2->semantic-kernel) (1.0.1)\n",
      "Requirement already satisfied: idna>=2.8 in /opt/conda/envs/pydev/lib/python3.10/site-packages (from anyio<5,>=3.5.0->openai>=1.0->semantic-kernel) (3.7)\n",
      "Requirement already satisfied: exceptiongroup>=1.0.2 in /opt/conda/envs/pydev/lib/python3.10/site-packages (from anyio<5,>=3.5.0->openai>=1.0->semantic-kernel) (1.2.2)\n",
      "Requirement already satisfied: certifi in /opt/conda/envs/pydev/lib/python3.10/site-packages (from httpx<1,>=0.23.0->openai>=1.0->semantic-kernel) (2024.7.4)\n",
      "Requirement already satisfied: httpcore==1.* in /opt/conda/envs/pydev/lib/python3.10/site-packages (from httpx<1,>=0.23.0->openai>=1.0->semantic-kernel) (1.0.5)\n",
      "Requirement already satisfied: h11<0.15,>=0.13 in /opt/conda/envs/pydev/lib/python3.10/site-packages (from httpcore==1.*->httpx<1,>=0.23.0->openai>=1.0->semantic-kernel) (0.14.0)\n",
      "Requirement already satisfied: jsonschema-specifications>=2023.03.6 in /opt/conda/envs/pydev/lib/python3.10/site-packages (from jsonschema<5.0.0,>=4.18.0->openapi_core<0.20,>=0.18->semantic-kernel) (2023.12.1)\n",
      "Requirement already satisfied: referencing>=0.28.4 in /opt/conda/envs/pydev/lib/python3.10/site-packages (from jsonschema<5.0.0,>=4.18.0->openapi_core<0.20,>=0.18->semantic-kernel) (0.35.1)\n",
      "Requirement already satisfied: rpds-py>=0.7.1 in /opt/conda/envs/pydev/lib/python3.10/site-packages (from jsonschema<5.0.0,>=4.18.0->openapi_core<0.20,>=0.18->semantic-kernel) (0.19.1)\n",
      "Requirement already satisfied: PyYAML>=5.1 in /opt/conda/envs/pydev/lib/python3.10/site-packages (from jsonschema-path<0.4.0,>=0.3.1->openapi_core<0.20,>=0.18->semantic-kernel) (6.0.1)\n",
      "Requirement already satisfied: pathable<0.5.0,>=0.4.1 in /opt/conda/envs/pydev/lib/python3.10/site-packages (from jsonschema-path<0.4.0,>=0.3.1->openapi_core<0.20,>=0.18->semantic-kernel) (0.4.3)\n",
      "Requirement already satisfied: rfc3339-validator in /opt/conda/envs/pydev/lib/python3.10/site-packages (from openapi-schema-validator<0.7.0,>=0.6.0->openapi_core<0.20,>=0.18->semantic-kernel) (0.1.4)\n",
      "Requirement already satisfied: lazy-object-proxy<2.0.0,>=1.7.1 in /opt/conda/envs/pydev/lib/python3.10/site-packages (from openapi-spec-validator<0.8.0,>=0.7.1->openapi_core<0.20,>=0.18->semantic-kernel) (1.10.0)\n",
      "Requirement already satisfied: charset-normalizer<4,>=2 in /opt/conda/envs/pydev/lib/python3.10/site-packages (from requests>=2.25->prance<24.0.0.0,>=23.6.21.0->semantic-kernel) (3.3.2)\n",
      "Requirement already satisfied: urllib3<3,>=1.21.1 in /opt/conda/envs/pydev/lib/python3.10/site-packages (from requests>=2.25->prance<24.0.0.0,>=23.6.21.0->semantic-kernel) (2.2.2)\n",
      "Requirement already satisfied: ruamel.yaml.clib>=0.2.7 in /opt/conda/envs/pydev/lib/python3.10/site-packages (from ruamel.yaml>=0.17.10->prance<24.0.0.0,>=23.6.21.0->semantic-kernel) (0.2.8)\n"
     ]
    }
   ],
   "source": [
    "! pip install semantic-kernel -U"
   ]
  },
  {
   "cell_type": "code",
   "execution_count": 2,
   "metadata": {},
   "outputs": [],
   "source": [
    "import semantic_kernel as sk\n",
    "import semantic_kernel.connectors.ai.open_ai as skaoai\n",
    "from semantic_kernel.connectors.ai.open_ai import AzureChatPromptExecutionSettings, OpenAIChatPromptExecutionSettings\n",
    "from semantic_kernel.prompt_template import InputVariable, PromptTemplateConfig"
   ]
  },
  {
   "cell_type": "code",
   "execution_count": 3,
   "metadata": {},
   "outputs": [],
   "source": [
    "service_id = \"default\"\n",
    "\n",
    "kernel = sk.Kernel()\n",
    "\n",
    "kernel.add_service(\n",
    "        skaoai.AzureChatCompletion(\n",
    "            service_id=service_id,\n",
    "            env_file_path=\".env\"\n",
    "        ),\n",
    ")"
   ]
  },
  {
   "cell_type": "code",
   "execution_count": 4,
   "metadata": {},
   "outputs": [],
   "source": [
    "base_plugin = \"../../../plugins\""
   ]
  },
  {
   "cell_type": "code",
   "execution_count": 5,
   "metadata": {},
   "outputs": [],
   "source": [
    "prompt = \"System: You are a python developer 。 User:{{$input}}\""
   ]
  },
  {
   "cell_type": "code",
   "execution_count": 6,
   "metadata": {},
   "outputs": [],
   "source": [
    "execution_settings = AzureChatPromptExecutionSettings(\n",
    "        service_id=service_id,\n",
    "        ai_model_id=\"GPT35TModel\",\n",
    "        max_tokens=2000,\n",
    "        temperature=0.2,\n",
    ")"
   ]
  },
  {
   "cell_type": "code",
   "execution_count": 7,
   "metadata": {},
   "outputs": [],
   "source": [
    "prompt_template_config = PromptTemplateConfig(\n",
    "    template=prompt,\n",
    "    name=\"summarize\",\n",
    "    template_format=\"semantic-kernel\",\n",
    "    input_variables=[\n",
    "        InputVariable(name=\"input\", description=\"The user input\", is_required=True),\n",
    "    ],\n",
    "    execution_settings=execution_settings,\n",
    ")"
   ]
  },
  {
   "cell_type": "code",
   "execution_count": 8,
   "metadata": {},
   "outputs": [],
   "source": [
    "summarize = kernel.add_function(\n",
    "    function_name=\"codeFunc\",\n",
    "    plugin_name=\"genCodePlugin\",\n",
    "    prompt_template_config=prompt_template_config,\n",
    ")"
   ]
  },
  {
   "cell_type": "code",
   "execution_count": 9,
   "metadata": {},
   "outputs": [],
   "source": [
    "input_text = \"\"\"\n",
    "Generate a bubble algorithm method with python\n",
    "\"\"\""
   ]
  },
  {
   "cell_type": "code",
   "execution_count": 10,
   "metadata": {},
   "outputs": [],
   "source": [
    "gen = await kernel.invoke(summarize, input=input_text)"
   ]
  },
  {
   "cell_type": "code",
   "execution_count": 11,
   "metadata": {},
   "outputs": [
    {
     "name": "stdout",
     "output_type": "stream",
     "text": [
      "Sure! Here's an example of a bubble sort algorithm implemented in Python:\n",
      "\n",
      "```python\n",
      "def bubble_sort(arr):\n",
      "    n = len(arr)\n",
      "    \n",
      "    for i in range(n-1):\n",
      "        for j in range(0, n-i-1):\n",
      "            if arr[j] > arr[j+1]:\n",
      "                arr[j], arr[j+1] = arr[j+1], arr[j]\n",
      "    \n",
      "    return arr\n",
      "\n",
      "# Example usage:\n",
      "arr = [64, 34, 25, 12, 22, 11, 90]\n",
      "sorted_arr = bubble_sort(arr)\n",
      "print(\"Sorted array:\", sorted_arr)\n",
      "```\n",
      "\n",
      "In this implementation, the `bubble_sort` function takes an array as input and sorts it using the bubble sort algorithm. The outer loop runs `n-1` times, where `n` is the length of the array. The inner loop compares adjacent elements and swaps them if they are in the wrong order. This process is repeated until the array is fully sorted.\n",
      "\n",
      "The example usage demonstrates how to use the `bubble_sort` function to sort an array. The sorted array is then printed to the console.\n"
     ]
    }
   ],
   "source": [
    "print(gen)"
   ]
  },
  {
   "cell_type": "code",
   "execution_count": 12,
   "metadata": {},
   "outputs": [],
   "source": [
    "\n",
    "translate_plugin = kernel.add_plugin(parent_directory=base_plugin,plugin_name =\"TranslatePlugin\")"
   ]
  },
  {
   "cell_type": "code",
   "execution_count": 13,
   "metadata": {},
   "outputs": [],
   "source": [
    "mulitlingual = translate_plugin[\"MultiLanguage\"]"
   ]
  },
  {
   "cell_type": "code",
   "execution_count": 14,
   "metadata": {},
   "outputs": [],
   "source": [
    "result = await kernel.invoke(mulitlingual, input=\"hello world\", language=\"fr\")"
   ]
  },
  {
   "cell_type": "code",
   "execution_count": 15,
   "metadata": {},
   "outputs": [
    {
     "name": "stdout",
     "output_type": "stream",
     "text": [
      "Bonjour tout le monde\n"
     ]
    }
   ],
   "source": [
    "print(result)"
   ]
  },
  {
   "cell_type": "code",
   "execution_count": 16,
   "metadata": {},
   "outputs": [],
   "source": [
    "import APIPlugin.CustomPlugin as custom_plugin"
   ]
  },
  {
   "cell_type": "code",
   "execution_count": 17,
   "metadata": {},
   "outputs": [],
   "source": [
    "# api_plugin = kernel.import_plugin(custom_plugin.CustomPlugin(), plugin_name=\"CustomPlugin\")  \n",
    "\n",
    "api_plugin = kernel.add_plugin(custom_plugin.CustomPlugin(), \"CustomPlugin\")"
   ]
  },
  {
   "cell_type": "code",
   "execution_count": 18,
   "metadata": {},
   "outputs": [
    {
     "name": "stdout",
     "output_type": "stream",
     "text": [
      "Guangzhou’s weather is 30 celsius degree , and very hot.\n"
     ]
    }
   ],
   "source": [
    "\n",
    "ask_weather_function = api_plugin[\"WeatherFunction\"]\n",
    "weather_result = await ask_weather_function(kernel, city=\"Guangzhou\")\n",
    "print(weather_result)"
   ]
  },
  {
   "cell_type": "code",
   "execution_count": 19,
   "metadata": {},
   "outputs": [
    {
     "name": "stdout",
     "output_type": "stream",
     "text": [
      "Get news from the Seattle.\n"
     ]
    }
   ],
   "source": [
    "ask_news_function = api_plugin[\"NewsPlugin\"]\n",
    "news_result = await ask_news_function(kernel, location=\"Seattle\")\n",
    "print(news_result)"
   ]
  }
 ],
 "metadata": {
  "kernelspec": {
   "display_name": "pydev",
   "language": "python",
   "name": "python3"
  },
  "language_info": {
   "codemirror_mode": {
    "name": "ipython",
    "version": 3
   },
   "file_extension": ".py",
   "mimetype": "text/x-python",
   "name": "python",
   "nbconvert_exporter": "python",
   "pygments_lexer": "ipython3",
   "version": "3.10.12"
  }
 },
 "nbformat": 4,
 "nbformat_minor": 2
}
