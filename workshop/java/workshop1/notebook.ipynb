{
 "cells": [
  {
   "cell_type": "code",
   "execution_count": 1,
   "metadata": {},
   "outputs": [
    {
     "name": "stdout",
     "output_type": "stream",
     "text": [
      "Adding dependency \u001b[0m\u001b[1m\u001b[32mcom.microsoft.semantic-kernel:semantickernel-api:1.0.0-rc2\u001b[0m\u001b[0m\n",
      "Adding dependency \u001b[0m\u001b[1m\u001b[32mcom.microsoft.semantic-kernel:semantickernel-bom:1.0.0-rc2\u001b[0m\u001b[0m\n",
      "Adding dependency \u001b[0m\u001b[1m\u001b[32mcom.microsoft.semantic-kernel:semantickernel-parent:1.0.0-rc2\u001b[0m\u001b[0m\n",
      "Adding dependency \u001b[0m\u001b[1m\u001b[32mcom.microsoft.semantic-kernel:semantickernel-aiservices-openai:1.0.0-rc2\u001b[0m\u001b[0m\n",
      "Adding dependency override \u001b[0m\u001b[1m\u001b[32mcom.azure:azure-core:1.45.1\u001b[0m\u001b[0m\n",
      "Adding dependency override \u001b[0m\u001b[1m\u001b[32mcom.google.code.gson:gson:2.8.9\u001b[0m\u001b[0m\n",
      "Adding dependency override \u001b[0m\u001b[1m\u001b[32mcom.google.protobuf:protobuf-java:3.23.2\u001b[0m\u001b[0m\n",
      "Adding dependency override \u001b[0m\u001b[1m\u001b[32mcom.google.errorprone:error_prone_annotations:2.18.0\u001b[0m\u001b[0m\n",
      "Adding dependency override \u001b[0m\u001b[1m\u001b[32mcom.google.guava:guava:32.0.1-android\u001b[0m\u001b[0m\n",
      "Adding dependency override \u001b[0m\u001b[1m\u001b[32morg.slf4j:slf4j-api:2.0.12\u001b[0m\u001b[0m\n",
      "Adding dependency \u001b[0m\u001b[1m\u001b[32mio.qdrant:client:1.8.0\u001b[0m\u001b[0m\n",
      "Solving dependencies\n",
      "Found dependencies count: 64\n",
      "Add to classpath: \u001b[0m\u001b[32m/home/vscode/.local/share/jupyter/kernels/rapaio-jupyter-kernel/ivy_cache/com.microsoft.semantic-kernel/semantickernel-api/jars/semantickernel-api-1.0.0-rc2.jar\u001b[0m\u001b[0m\n",
      "Add to classpath: \u001b[0m\u001b[32m/home/vscode/.local/share/jupyter/kernels/rapaio-jupyter-kernel/ivy_cache/com.azure/azure-ai-openai/jars/azure-ai-openai-1.0.0-beta.6.jar\u001b[0m\u001b[0m\n",
      "Add to classpath: \u001b[0m\u001b[32m/home/vscode/.local/share/jupyter/kernels/rapaio-jupyter-kernel/ivy_cache/com.azure/azure-core/jars/azure-core-1.45.1.jar\u001b[0m\u001b[0m\n",
      "Add to classpath: \u001b[0m\u001b[32m/home/vscode/.local/share/jupyter/kernels/rapaio-jupyter-kernel/ivy_cache/com.azure/azure-json/jars/azure-json-1.1.0.jar\u001b[0m\u001b[0m\n",
      "Add to classpath: \u001b[0m\u001b[32m/home/vscode/.local/share/jupyter/kernels/rapaio-jupyter-kernel/ivy_cache/com.fasterxml.jackson.core/jackson-annotations/jars/jackson-annotations-2.16.1.jar\u001b[0m\u001b[0m\n",
      "Add to classpath: \u001b[0m\u001b[32m/home/vscode/.local/share/jupyter/kernels/rapaio-jupyter-kernel/ivy_cache/com.fasterxml.jackson.core/jackson-core/jars/jackson-core-2.16.1.jar\u001b[0m\u001b[0m\n",
      "Add to classpath: \u001b[0m\u001b[32m/home/vscode/.local/share/jupyter/kernels/rapaio-jupyter-kernel/ivy_cache/com.fasterxml.jackson.core/jackson-databind/jars/jackson-databind-2.16.1.jar\u001b[0m\u001b[0m\n",
      "Add to classpath: \u001b[0m\u001b[32m/home/vscode/.local/share/jupyter/kernels/rapaio-jupyter-kernel/ivy_cache/com.fasterxml.jackson.datatype/jackson-datatype-jsr310/bundles/jackson-datatype-jsr310-2.13.5.jar\u001b[0m\u001b[0m\n",
      "Add to classpath: \u001b[0m\u001b[32m/home/vscode/.local/share/jupyter/kernels/rapaio-jupyter-kernel/ivy_cache/org.slf4j/slf4j-api/jars/slf4j-api-2.0.12.jar\u001b[0m\u001b[0m\n",
      "Add to classpath: \u001b[0m\u001b[32m/home/vscode/.local/share/jupyter/kernels/rapaio-jupyter-kernel/ivy_cache/io.projectreactor/reactor-core/jars/reactor-core-3.4.34.jar\u001b[0m\u001b[0m\n",
      "Add to classpath: \u001b[0m\u001b[32m/home/vscode/.local/share/jupyter/kernels/rapaio-jupyter-kernel/ivy_cache/org.reactivestreams/reactive-streams/jars/reactive-streams-1.0.4.jar\u001b[0m\u001b[0m\n",
      "Add to classpath: \u001b[0m\u001b[32m/home/vscode/.local/share/jupyter/kernels/rapaio-jupyter-kernel/ivy_cache/com.azure/azure-core-http-netty/jars/azure-core-http-netty-1.13.11.jar\u001b[0m\u001b[0m\n",
      "Add to classpath: \u001b[0m\u001b[32m/home/vscode/.local/share/jupyter/kernels/rapaio-jupyter-kernel/ivy_cache/io.netty/netty-handler/jars/netty-handler-4.1.101.Final.jar\u001b[0m\u001b[0m\n",
      "Add to classpath: \u001b[0m\u001b[32m/home/vscode/.local/share/jupyter/kernels/rapaio-jupyter-kernel/ivy_cache/io.netty/netty-common/jars/netty-common-4.1.101.Final.jar\u001b[0m\u001b[0m\n",
      "Add to classpath: \u001b[0m\u001b[32m/home/vscode/.local/share/jupyter/kernels/rapaio-jupyter-kernel/ivy_cache/io.netty/netty-resolver/jars/netty-resolver-4.1.101.Final.jar\u001b[0m\u001b[0m\n",
      "Add to classpath: \u001b[0m\u001b[32m/home/vscode/.local/share/jupyter/kernels/rapaio-jupyter-kernel/ivy_cache/io.netty/netty-buffer/jars/netty-buffer-4.1.101.Final.jar\u001b[0m\u001b[0m\n",
      "Add to classpath: \u001b[0m\u001b[32m/home/vscode/.local/share/jupyter/kernels/rapaio-jupyter-kernel/ivy_cache/io.netty/netty-transport/jars/netty-transport-4.1.101.Final.jar\u001b[0m\u001b[0m\n",
      "Add to classpath: \u001b[0m\u001b[32m/home/vscode/.local/share/jupyter/kernels/rapaio-jupyter-kernel/ivy_cache/io.netty/netty-transport-native-unix-common/jars/netty-transport-native-unix-common-4.1.101.Final.jar\u001b[0m\u001b[0m\n",
      "Add to classpath: \u001b[0m\u001b[32m/home/vscode/.local/share/jupyter/kernels/rapaio-jupyter-kernel/ivy_cache/io.netty/netty-codec/jars/netty-codec-4.1.101.Final.jar\u001b[0m\u001b[0m\n",
      "Add to classpath: \u001b[0m\u001b[32m/home/vscode/.local/share/jupyter/kernels/rapaio-jupyter-kernel/ivy_cache/io.netty/netty-handler-proxy/jars/netty-handler-proxy-4.1.101.Final.jar\u001b[0m\u001b[0m\n",
      "Add to classpath: \u001b[0m\u001b[32m/home/vscode/.local/share/jupyter/kernels/rapaio-jupyter-kernel/ivy_cache/io.netty/netty-codec-socks/jars/netty-codec-socks-4.1.101.Final.jar\u001b[0m\u001b[0m\n",
      "Add to classpath: \u001b[0m\u001b[32m/home/vscode/.local/share/jupyter/kernels/rapaio-jupyter-kernel/ivy_cache/io.netty/netty-codec-http/jars/netty-codec-http-4.1.101.Final.jar\u001b[0m\u001b[0m\n",
      "Add to classpath: \u001b[0m\u001b[32m/home/vscode/.local/share/jupyter/kernels/rapaio-jupyter-kernel/ivy_cache/io.netty/netty-codec-http2/jars/netty-codec-http2-4.1.101.Final.jar\u001b[0m\u001b[0m\n",
      "Add to classpath: \u001b[0m\u001b[32m/home/vscode/.local/share/jupyter/kernels/rapaio-jupyter-kernel/ivy_cache/io.netty/netty-transport-native-epoll/jars/netty-transport-native-epoll-4.1.101.Final-linux-x86_64.jar\u001b[0m\u001b[0m\n",
      "Add to classpath: \u001b[0m\u001b[32m/home/vscode/.local/share/jupyter/kernels/rapaio-jupyter-kernel/ivy_cache/io.netty/netty-transport-classes-epoll/jars/netty-transport-classes-epoll-4.1.101.Final.jar\u001b[0m\u001b[0m\n",
      "Add to classpath: \u001b[0m\u001b[32m/home/vscode/.local/share/jupyter/kernels/rapaio-jupyter-kernel/ivy_cache/io.netty/netty-transport-native-kqueue/jars/netty-transport-native-kqueue-4.1.101.Final-osx-x86_64.jar\u001b[0m\u001b[0m\n",
      "Add to classpath: \u001b[0m\u001b[32m/home/vscode/.local/share/jupyter/kernels/rapaio-jupyter-kernel/ivy_cache/io.netty/netty-transport-classes-kqueue/jars/netty-transport-classes-kqueue-4.1.101.Final.jar\u001b[0m\u001b[0m\n",
      "Add to classpath: \u001b[0m\u001b[32m/home/vscode/.local/share/jupyter/kernels/rapaio-jupyter-kernel/ivy_cache/io.netty/netty-tcnative-boringssl-static/jars/netty-tcnative-boringssl-static-2.0.62.Final.jar\u001b[0m\u001b[0m\n",
      "Add to classpath: \u001b[0m\u001b[32m/home/vscode/.local/share/jupyter/kernels/rapaio-jupyter-kernel/ivy_cache/io.netty/netty-tcnative-classes/jars/netty-tcnative-classes-2.0.62.Final.jar\u001b[0m\u001b[0m\n",
      "Add to classpath: \u001b[0m\u001b[32m/home/vscode/.local/share/jupyter/kernels/rapaio-jupyter-kernel/ivy_cache/io.projectreactor.netty/reactor-netty-http/jars/reactor-netty-http-1.0.39.jar\u001b[0m\u001b[0m\n",
      "Add to classpath: \u001b[0m\u001b[32m/home/vscode/.local/share/jupyter/kernels/rapaio-jupyter-kernel/ivy_cache/io.netty/netty-resolver-dns/jars/netty-resolver-dns-4.1.101.Final.jar\u001b[0m\u001b[0m\n",
      "Add to classpath: \u001b[0m\u001b[32m/home/vscode/.local/share/jupyter/kernels/rapaio-jupyter-kernel/ivy_cache/io.netty/netty-codec-dns/jars/netty-codec-dns-4.1.101.Final.jar\u001b[0m\u001b[0m\n",
      "Add to classpath: \u001b[0m\u001b[32m/home/vscode/.local/share/jupyter/kernels/rapaio-jupyter-kernel/ivy_cache/io.netty/netty-resolver-dns-native-macos/jars/netty-resolver-dns-native-macos-4.1.101.Final-osx-x86_64.jar\u001b[0m\u001b[0m\n",
      "Add to classpath: \u001b[0m\u001b[32m/home/vscode/.local/share/jupyter/kernels/rapaio-jupyter-kernel/ivy_cache/io.netty/netty-resolver-dns-classes-macos/jars/netty-resolver-dns-classes-macos-4.1.101.Final.jar\u001b[0m\u001b[0m\n",
      "Add to classpath: \u001b[0m\u001b[32m/home/vscode/.local/share/jupyter/kernels/rapaio-jupyter-kernel/ivy_cache/io.projectreactor.netty/reactor-netty-core/jars/reactor-netty-core-1.0.39.jar\u001b[0m\u001b[0m\n",
      "Add to classpath: \u001b[0m\u001b[32m/home/vscode/.local/share/jupyter/kernels/rapaio-jupyter-kernel/ivy_cache/com.github.jknack/handlebars/jars/handlebars-4.3.1.jar\u001b[0m\u001b[0m\n",
      "Add to classpath: \u001b[0m\u001b[32m/home/vscode/.local/share/jupyter/kernels/rapaio-jupyter-kernel/ivy_cache/com.google.code.findbugs/jsr305/jars/jsr305-3.0.2.jar\u001b[0m\u001b[0m\n",
      "Add to classpath: \u001b[0m\u001b[32m/home/vscode/.local/share/jupyter/kernels/rapaio-jupyter-kernel/ivy_cache/com.fasterxml.jackson.dataformat/jackson-dataformat-yaml/jars/jackson-dataformat-yaml-2.16.1.jar\u001b[0m\u001b[0m\n",
      "Add to classpath: \u001b[0m\u001b[32m/home/vscode/.local/share/jupyter/kernels/rapaio-jupyter-kernel/ivy_cache/org.yaml/snakeyaml/bundles/snakeyaml-2.2.jar\u001b[0m\u001b[0m\n",
      "Add to classpath: \u001b[0m\u001b[32m/home/vscode/.local/share/jupyter/kernels/rapaio-jupyter-kernel/ivy_cache/com.github.spotbugs/spotbugs-annotations/jars/spotbugs-annotations-4.8.3.jar\u001b[0m\u001b[0m\n",
      "Add to classpath: \u001b[0m\u001b[32m/home/vscode/.local/share/jupyter/kernels/rapaio-jupyter-kernel/ivy_cache/com.microsoft.semantic-kernel/semantickernel-aiservices-openai/jars/semantickernel-aiservices-openai-1.0.0-rc2.jar\u001b[0m\u001b[0m\n",
      "Add to classpath: \u001b[0m\u001b[32m/home/vscode/.local/share/jupyter/kernels/rapaio-jupyter-kernel/ivy_cache/io.qdrant/client/jars/client-1.8.0.jar\u001b[0m\u001b[0m\n",
      "Add to classpath: \u001b[0m\u001b[32m/home/vscode/.local/share/jupyter/kernels/rapaio-jupyter-kernel/ivy_cache/io.grpc/grpc-protobuf/jars/grpc-protobuf-1.59.0.jar\u001b[0m\u001b[0m\n",
      "Add to classpath: \u001b[0m\u001b[32m/home/vscode/.local/share/jupyter/kernels/rapaio-jupyter-kernel/ivy_cache/io.grpc/grpc-api/jars/grpc-api-1.59.0.jar\u001b[0m\u001b[0m\n",
      "Add to classpath: \u001b[0m\u001b[32m/home/vscode/.local/share/jupyter/kernels/rapaio-jupyter-kernel/ivy_cache/com.google.errorprone/error_prone_annotations/jars/error_prone_annotations-2.18.0.jar\u001b[0m\u001b[0m\n",
      "Add to classpath: \u001b[0m\u001b[32m/home/vscode/.local/share/jupyter/kernels/rapaio-jupyter-kernel/ivy_cache/com.google.guava/guava/bundles/guava-32.0.1-android.jar\u001b[0m\u001b[0m\n",
      "Add to classpath: \u001b[0m\u001b[32m/home/vscode/.local/share/jupyter/kernels/rapaio-jupyter-kernel/ivy_cache/com.google.guava/failureaccess/bundles/failureaccess-1.0.1.jar\u001b[0m\u001b[0m\n",
      "Add to classpath: \u001b[0m\u001b[32m/home/vscode/.local/share/jupyter/kernels/rapaio-jupyter-kernel/ivy_cache/com.google.guava/listenablefuture/jars/listenablefuture-9999.0-empty-to-avoid-conflict-with-guava.jar\u001b[0m\u001b[0m\n",
      "Add to classpath: \u001b[0m\u001b[32m/home/vscode/.local/share/jupyter/kernels/rapaio-jupyter-kernel/ivy_cache/org.checkerframework/checker-qual/jars/checker-qual-3.33.0.jar\u001b[0m\u001b[0m\n",
      "Add to classpath: \u001b[0m\u001b[32m/home/vscode/.local/share/jupyter/kernels/rapaio-jupyter-kernel/ivy_cache/com.google.j2objc/j2objc-annotations/jars/j2objc-annotations-2.8.jar\u001b[0m\u001b[0m\n",
      "Add to classpath: \u001b[0m\u001b[32m/home/vscode/.local/share/jupyter/kernels/rapaio-jupyter-kernel/ivy_cache/com.google.protobuf/protobuf-java/jars/protobuf-java-3.23.2.jar\u001b[0m\u001b[0m\n",
      "Add to classpath: \u001b[0m\u001b[32m/home/vscode/.local/share/jupyter/kernels/rapaio-jupyter-kernel/ivy_cache/com.google.api.grpc/proto-google-common-protos/jars/proto-google-common-protos-2.22.0.jar\u001b[0m\u001b[0m\n",
      "Add to classpath: \u001b[0m\u001b[32m/home/vscode/.local/share/jupyter/kernels/rapaio-jupyter-kernel/ivy_cache/io.grpc/grpc-protobuf-lite/jars/grpc-protobuf-lite-1.59.0.jar\u001b[0m\u001b[0m\n",
      "Add to classpath: \u001b[0m\u001b[32m/home/vscode/.local/share/jupyter/kernels/rapaio-jupyter-kernel/ivy_cache/io.grpc/grpc-services/jars/grpc-services-1.59.0.jar\u001b[0m\u001b[0m\n",
      "Add to classpath: \u001b[0m\u001b[32m/home/vscode/.local/share/jupyter/kernels/rapaio-jupyter-kernel/ivy_cache/io.grpc/grpc-stub/jars/grpc-stub-1.59.0.jar\u001b[0m\u001b[0m\n",
      "Add to classpath: \u001b[0m\u001b[32m/home/vscode/.local/share/jupyter/kernels/rapaio-jupyter-kernel/ivy_cache/io.grpc/grpc-util/jars/grpc-util-1.59.0.jar\u001b[0m\u001b[0m\n",
      "Add to classpath: \u001b[0m\u001b[32m/home/vscode/.local/share/jupyter/kernels/rapaio-jupyter-kernel/ivy_cache/io.grpc/grpc-core/jars/grpc-core-1.59.0.jar\u001b[0m\u001b[0m\n",
      "Add to classpath: \u001b[0m\u001b[32m/home/vscode/.local/share/jupyter/kernels/rapaio-jupyter-kernel/ivy_cache/com.google.code.gson/gson/jars/gson-2.8.9.jar\u001b[0m\u001b[0m\n",
      "Add to classpath: \u001b[0m\u001b[32m/home/vscode/.local/share/jupyter/kernels/rapaio-jupyter-kernel/ivy_cache/com.google.android/annotations/jars/annotations-4.1.1.4.jar\u001b[0m\u001b[0m\n",
      "Add to classpath: \u001b[0m\u001b[32m/home/vscode/.local/share/jupyter/kernels/rapaio-jupyter-kernel/ivy_cache/org.codehaus.mojo/animal-sniffer-annotations/jars/animal-sniffer-annotations-1.23.jar\u001b[0m\u001b[0m\n",
      "Add to classpath: \u001b[0m\u001b[32m/home/vscode/.local/share/jupyter/kernels/rapaio-jupyter-kernel/ivy_cache/io.perfmark/perfmark-api/jars/perfmark-api-0.26.0.jar\u001b[0m\u001b[0m\n",
      "Add to classpath: \u001b[0m\u001b[32m/home/vscode/.local/share/jupyter/kernels/rapaio-jupyter-kernel/ivy_cache/io.grpc/grpc-context/jars/grpc-context-1.59.0.jar\u001b[0m\u001b[0m\n",
      "Add to classpath: \u001b[0m\u001b[32m/home/vscode/.local/share/jupyter/kernels/rapaio-jupyter-kernel/ivy_cache/com.google.protobuf/protobuf-java-util/jars/protobuf-java-util-3.24.0.jar\u001b[0m\u001b[0m\n",
      "Add to classpath: \u001b[0m\u001b[32m/home/vscode/.local/share/jupyter/kernels/rapaio-jupyter-kernel/ivy_cache/io.grpc/grpc-netty-shaded/jars/grpc-netty-shaded-1.59.0.jar\u001b[0m\u001b[0m\n"
     ]
    }
   ],
   "source": [
    "%dependency /add com.microsoft.semantic-kernel:semantickernel-api:1.0.0-rc2\n",
    "%dependency /add com.microsoft.semantic-kernel:semantickernel-bom:1.0.0-rc2\n",
    "%dependency /add com.microsoft.semantic-kernel:semantickernel-parent:1.0.0-rc2\n",
    "%dependency /add com.microsoft.semantic-kernel:semantickernel-aiservices-openai:1.0.0-rc2\n",
    "\n",
    "%dependency /override com.azure:azure-core:1.45.1\n",
    "\n",
    "%dependency /override com.google.code.gson:gson:2.8.9\n",
    "%dependency /override com.google.protobuf:protobuf-java:3.23.2\n",
    "%dependency /override com.google.errorprone:error_prone_annotations:2.18.0\n",
    "%dependency /override com.google.guava:guava:32.0.1-android\n",
    "%dependency /override org.slf4j:slf4j-api:2.0.12\n",
    "\n",
    "%dependency /add io.qdrant:client:1.8.0\n",
    "\n",
    "\n",
    "%dependency /resolve"
   ]
  },
  {
   "cell_type": "code",
   "execution_count": 2,
   "metadata": {},
   "outputs": [],
   "source": [
    "import com.azure.ai.openai.OpenAIAsyncClient;\n",
    "import com.azure.ai.openai.OpenAIClientBuilder;\n",
    "import com.azure.core.credential.AzureKeyCredential;\n",
    "import com.azure.core.credential.KeyCredential;"
   ]
  },
  {
   "cell_type": "code",
   "execution_count": 3,
   "metadata": {},
   "outputs": [],
   "source": [
    "import com.microsoft.semantickernel.Kernel;\n",
    "import com.microsoft.semantickernel.Kernel.Builder;\n",
    "import com.microsoft.semantickernel.exceptions.ConfigurationException;\n",
    "import com.microsoft.semantickernel.orchestration.FunctionResult;\n",
    "import com.microsoft.semantickernel.orchestration.PromptExecutionSettings;\n",
    "import com.microsoft.semantickernel.plugin.KernelPluginFactory;\n",
    "import com.microsoft.semantickernel.semanticfunctions.KernelFunction;\n",
    "import com.microsoft.semantickernel.semanticfunctions.KernelFunctionArguments;\n",
    "import com.microsoft.semantickernel.semanticfunctions.KernelFunctionFromPrompt;\n",
    "import com.microsoft.semantickernel.services.textcompletion.TextGenerationService;\n",
    "\n",
    "import com.microsoft.semantickernel.aiservices.openai.chatcompletion.OpenAIChatCompletion;\n",
    "import com.microsoft.semantickernel.services.chatcompletion.ChatCompletionService;"
   ]
  },
  {
   "cell_type": "code",
   "execution_count": 4,
   "metadata": {},
   "outputs": [],
   "source": [
    "import java.io.File;\n",
    "import java.nio.file.Files;\n",
    "import java.nio.file.Path;\n",
    "import com.google.gson.Gson; \n",
    "import com.google.gson.GsonBuilder; "
   ]
  },
  {
   "cell_type": "code",
   "execution_count": 5,
   "metadata": {},
   "outputs": [],
   "source": [
    "public class KBInfo\n",
    "{\n",
    "    public String kb;\n",
    "    public String content;\n",
    "\n",
    "\n",
    "    public KBInfo(){} \n",
    "\n",
    "\n",
    "    public String getKb() { return kb; }\n",
    "    public void setKb(String kb) { this.kb = kb; }\n",
    "    public String getContent() { return content; }\n",
    "    public void setContent(String content) { this.content = content; }\n",
    "}"
   ]
  },
  {
   "cell_type": "code",
   "execution_count": 6,
   "metadata": {},
   "outputs": [],
   "source": [
    "String AZURE_KEY = \"Your Azure OpenAI Service API Key\";\n",
    "String AZURE_ENDPOINT = \"Your Azure OpenAI Service Endpoint\";"
   ]
  },
  {
   "cell_type": "code",
   "execution_count": 7,
   "metadata": {},
   "outputs": [
    {
     "name": "stderr",
     "output_type": "stream",
     "text": [
      "SLF4J(W): No SLF4J providers were found.\n",
      "SLF4J(W): Defaulting to no-operation (NOP) logger implementation\n",
      "SLF4J(W): See https://www.slf4j.org/codes.html#noProviders for further details.\n"
     ]
    }
   ],
   "source": [
    "OpenAIAsyncClient client = new OpenAIClientBuilder()\n",
    "        .credential(new AzureKeyCredential(AZURE_KEY))\n",
    "        .endpoint(AZURE_ENDPOINT)\n",
    "        .buildAsyncClient();"
   ]
  },
  {
   "cell_type": "code",
   "execution_count": 8,
   "metadata": {},
   "outputs": [],
   "source": [
    "ChatCompletionService chatGenerationService = OpenAIChatCompletion.builder()\n",
    "                        .withOpenAIAsyncClient(client)\n",
    "                        .withModelId(\"Your Azure OpenAI Service gpt-3.5-turbo-instruct deployment name\")\n",
    "                        .build();"
   ]
  },
  {
   "cell_type": "code",
   "execution_count": 9,
   "metadata": {},
   "outputs": [],
   "source": [
    "var filePlugin =  KernelPluginFactory\n",
    "                    .importPluginFromDirectory(\n",
    "                        Path.of(\"./\", \"plugins\"),\n",
    "                        \"FilePlugin\",\n",
    "                        null);"
   ]
  },
  {
   "cell_type": "code",
   "execution_count": 10,
   "metadata": {},
   "outputs": [],
   "source": [
    "Kernel kernel = Kernel.builder()\n",
    "    .withAIService(ChatCompletionService.class, chatGenerationService)\n",
    "    .build();"
   ]
  },
  {
   "cell_type": "code",
   "execution_count": 11,
   "metadata": {},
   "outputs": [],
   "source": [
    "List<KBInfo> kbList =  new ArrayList<KBInfo>();"
   ]
  },
  {
   "cell_type": "code",
   "execution_count": 12,
   "metadata": {},
   "outputs": [
    {
     "data": {
      "text/plain": [
       "com.google.gson.GsonBuilder@3dcbde32"
      ]
     },
     "execution_count": 12,
     "metadata": {},
     "output_type": "execute_result"
    }
   ],
   "source": [
    "\n",
    "GsonBuilder builder = new GsonBuilder(); \n",
    "builder.setPrettyPrinting();"
   ]
  },
  {
   "cell_type": "code",
   "execution_count": 13,
   "metadata": {},
   "outputs": [
    {
     "name": "stdout",
     "output_type": "stream",
     "text": [
      "{\"kb\":\"Introduction to machine learning\",\"content\":\"The course on classical machine learning for beginners provides an introduction to machine learning. It covers the core concepts of machine learning, the history of ML, ML and fairness, regression ML techniques, classification ML techniques, clustering ML techniques, natural language processing ML techniques, time series forecasting ML techniques, reinforcement learning, and real-world applications for ML. The curriculum does not cover deep learning, neural networks, or AI. Machine learning automates the process of pattern-discovery and has applications in various fields such as healthcare, finance, and weather prediction. Understanding the basics of machine learning is becoming essential across domains due to its widespread adoption.\"}\n",
      "{\"kb\": \"History of machine learning\", \"content\": \"Machine learning and artificial intelligence have a rich history that dates back to the 18th century. Notable discoveries such as Bayes Theorem, Least Square Theory, Markov Chains, and the invention of the Perceptron have shaped the field. The 1950s marked significant milestones with Alan Turing's concept of a 'machine that can think' and the Dartmouth Summer Research Project, which coined the term 'artificial intelligence'. The 'golden years' from the 1950s to 1970s saw optimism and advancements in natural language processing and intelligent systems. However, an 'AI Winter' in the 1970s led to a decline in funding and confidence. The 1980s witnessed the rise of expert systems, which combined business rules and inference engines. From 1993 to 2011, the field experienced a surge in data availability and computing power, leading to new advancements in ML and AI. Today, machine learning and AI have significant impacts on society and call for responsible development and regulation.\"}\n",
      "{\"kb\": \"# Techniques of Machine Learning\", \"content\": \"The process of building, using, and maintaining machine learning models and the data they use is a very different process from many other development workflows. In this lesson, we will demystify the process, and outline the main techniques you need to know. You will:\\n\\n- Understand the processes underpinning machine learning at a high level.\\n- Explore base concepts such as 'models', 'predictions', and 'training data'.\\n\\nThe lesson covers various steps in the machine learning process, including:\\n1. Deciding on a question\\n2. Collecting and preparing data\\n3. Choosing a training method\\n4. Training the model\\n5. Evaluating the model\\n6. Parameter tuning\\n7. Making predictions\\n\\nThe lesson also discusses the importance of asking the right question, pre-building tasks such as data collection and preparation, selecting feature variables, visualizing data, and splitting the dataset. Building a model involves deciding on a training method, training the model, and evaluating its performance. Parameters can be tuned to improve the model's quality. Finally, predictions can be made using new data.\\n\\nAs a challenge, students are encouraged to draw a flow chart reflecting the steps of a machine learning practitioner and reflect on where they are in the process and what they find easy or difficult. There is also a post-lecture quiz to test understanding. Students are recommended to search online for interviews with data scientists to gain insights into their daily work. An assignment is given to interview a data scientist.\"}\n"
     ]
    }
   ],
   "source": [
    "var notesFolder = \"data/notes/\";\n",
    "File folder = new File(notesFolder);\n",
    "File[] listOfFiles = folder.listFiles();\n",
    "for (File file : listOfFiles) {\n",
    "    if (file.isFile()) {\n",
    "        String filePath = notesFolder + file.getName();\n",
    "        // directory.getAbsolutePath()\n",
    "        File directory = new File(filePath);\n",
    "        // System.out.println(directory.getAbsolutePath());\n",
    "        Path fileName= Path.of(directory.getAbsolutePath());\n",
    "        String str = Files.readString(fileName);\n",
    "\n",
    "        var result = kernel\n",
    "            .invokeAsync(filePlugin.get(\"Notes\"))\n",
    "            .withArguments(\n",
    "                KernelFunctionArguments.builder()\n",
    "                    .withVariable(\"input\", str)\n",
    "                    .build())\n",
    "            .block();\n",
    "            \n",
    "        System.out.println(result.getResult());\n",
    "\n",
    "        Gson gson = new Gson();\n",
    "        KBInfo info = gson.fromJson(result.getResult().toString(), KBInfo.class);\n",
    "        kbList.add(info);\n",
    "\n",
    "    }\n",
    "}"
   ]
  },
  {
   "cell_type": "code",
   "execution_count": 14,
   "metadata": {},
   "outputs": [],
   "source": [
    "import com.google.gson.reflect.TypeToken;"
   ]
  },
  {
   "cell_type": "code",
   "execution_count": 15,
   "metadata": {},
   "outputs": [
    {
     "name": "stdout",
     "output_type": "stream",
     "text": [
      "[{\"kb\": \"Introducing ML for Beginners\", \"content\": \"This course is based on the free open source 26-lesson\\nml for beginners curriculum from\\nMicrosoft.\"}, \n",
      "{\"kb\": \"The difference between AI and ML\", \"content\": \"AI is a science of\\ngetting machines to accomplish tasks\\nthat typically require human level\\nintelligence.\"}, \n",
      "{\"kb\": \"What you'll learn in this course\", \"content\": \"you'll learn some Core\\nConcepts of ml a bit of History\\nstatistical techniques like regression\\nclassification clustering and more\"}, \n",
      "{\"kb\": \"What you won't learn in this course\", \"content\": \"this course won't\\ncover data science deep learning neural\\nnetworks and AI techniques other than ml\"}, \n",
      "{\"kb\": \"Why study Machine Learning\", \"content\": \"Machine Learning is a\\nHot Topic because it's solving complex\\nreal-world problems in so many areas\"}]\n",
      "[\n",
      "    {\"kb\": \"Decide if AI is the right approach\", \"content\": \"traditional software is well suited to solve problems where the solution can be described as a formal set of rules in contrast AI shines in solving problems where the solution can be extracted from data\"},\n",
      "    {\"kb\": \"Collect and prepare data\", \"content\": \"you need to collect and prepare your data for example you may need to normalize it or convert it to a different form or remove rows that are missing certain Fields\"},\n",
      "    {\"kb\": \"Train your model\", \"content\": \"you need to choose a machine learning algorithm and train your model using the training set you collected earlier\"},\n",
      "    {\"kb\": \"Evaluate your model\", \"content\": \"once the model is trained, you can test it using the test data set to ensure that it generalizes well to new scenarios\"},\n",
      "    {\"kb\": \"Tune the hyperparameters\", \"content\": \"some algorithms contain hyper parameters, which are settings that control key aspects of their inner workings. Choosing good hyper parameters is important because they can make a big difference in your results\"},\n",
      "    {\"kb\": \"Test the model in the real world\", \"content\": \"time to see how well your model performs within the context of its intended use, for example, this could involve collecting live data from a sensor and using it to make predictions or deploying a model to a few users of your application\"}\n",
      "]\n",
      "[\n",
      "  {\n",
      "    \"kb\": \"Alan Turing and the Turing test\",\n",
      "    \"content\": \"intelligence really begun in 1950s though it's based on mathematical and statistical developments over many centuries Alan Turing is credited with helping to lay the foundation for the concept of a machine they can think in his quest to Define machine intelligence he achieved a crucial Milestone by creating the Turing test in 1950. in this test an interrogator questions both a human and a computer and tries to determine which one is which if the interrogator cannot tell the difference then the computer can be considered intelligent\"\n",
      "  },\n",
      "  {\n",
      "    \"kb\": \"The Dartmouth Summer Research Project on AI\",\n",
      "    \"content\": \"artificial intelligence was coined with a small group of scientists gathered at Dartmouth College in the U.S for an event called the summer research project on artificial intelligence this conference was the birth of the field of research we know as AI\"\n",
      "  },\n",
      "  {\n",
      "    \"kb\": \"The golden years of AI\",\n",
      "    \"content\": \"Golden Ears of AI optimism ran high in the hope that AI could solve many problems in 1967 Marvin Minsky the co-founder of the mitai lab stated confidently and incorrectly that within a generation the problem of creating artificial intelligence will substantially be solved natural language processing research flourished search was refined and made more powerful and the concept of micro worlds was created where simple tasks were completed using plain language instructions research was well funded by government agencies advances were made in computation and algorithms and prototypes of intelligent machines were built some of these machines include shaky the robot who could maneuver and decide how to perform tasks intelligently Eliza and gnarly charabot that could converse with people and act as a primitive therapist Blocksworld an example of a micro world where blogs get could be stacked and sorted and decision-making experiments could be tested by the mid-1970s it had\"\n",
      "  },\n",
      "  {\n",
      "    \"kb\": \"The AI winter\",\n",
      "    \"content\": \"become apparent that the complexity of making intelligent machines had been understated and that its promise had been overblown compute power was too limited there was a lack of data to train and test AIS and there were questions around the ethics of introducing AI systems like the therapist Eliza into society funding dried up and confidence in the field slowed marking the beginning of what is called an AI winter in the 1980s\"\n",
      "  },\n",
      "  {\n",
      "    \"kb\": \"Resurgence and fall of AI for expert systems\",\n",
      "    \"content\": \"as computers became more powerful expert systems became more successful there was a Resurgence in optimism about AI as businesses found practical applications of these rule-based inference systems by the late 80s it was becoming apparent that expert systems had become too specialized and were unlikely to achieve machine intelligence the rise of personal computers also competed with these large specialized centralized systems this led to another chill in the AI field things began to change in the mid-1990s as compute and storage capabilities grew exponentially making it possible to process much larger data\"\n",
      "  },\n",
      "  {\n",
      "    \"kb\": \"Growth in AI driven by more data and more powerful hardware\",\n",
      "    \"content\": \"sets than ever before the rise of the internet and the popularity of smartphones both contributed to increasing amounts of data a new experiments in machine learning became possible throughout the 2000s significant advancements were made in computer vision and natural language processing by training machine learning models on\"\n",
      "  },\n",
      "  {\n",
      "    \"kb\": \"Big Data\",\n",
      "    \"content\": \"in the past decade compute power and the size of data sets have continued to grow and machine learning has become capable of solving even more problems as a result today machine learning touches almost every part of our Lives sometimes we're well aware of it like when we interact with chat TPT in the browser or see a self-driving car go by but most of the time it's seamlessly woven into familiar experiences of our everyday life such as when we're approved for a new loan or get a catalog at home\"\n",
      "  },\n",
      "  {\n",
      "    \"kb\": \"Increased awareness of ethical and responsible AI\",\n",
      "    \"content\": \"this era has also been marked by an increased awareness of potential ethical issues in machine learning and by significant research in the field of responsible AI we want the benefits of AI but we also want AI that is responsible and doesn't amplify human bias\"\n",
      "  }\n",
      "]\n"
     ]
    }
   ],
   "source": [
    "var transcriptsFolder = \"data/transcripts/\";\n",
    "File folder = new File(transcriptsFolder);\n",
    "File[] listOfFiles = folder.listFiles();\n",
    "for (File file : listOfFiles) {\n",
    "    if (file.isFile()) {\n",
    "        String filePath = transcriptsFolder + file.getName();\n",
    "        // directory.getAbsolutePath()\n",
    "        File directory = new File(filePath);\n",
    "        // System.out.println(directory.getAbsolutePath());\n",
    "        Path fileName= Path.of(directory.getAbsolutePath());\n",
    "        String str = Files.readString(fileName);\n",
    "\n",
    "        var result = kernel\n",
    "            .invokeAsync(filePlugin.get(\"Transcrips\"))\n",
    "            .withArguments(\n",
    "                KernelFunctionArguments.builder()\n",
    "                    .withVariable(\"input\", str)\n",
    "                    .build())\n",
    "            .block();\n",
    "            \n",
    "        System.out.println(result.getResult());\n",
    "        var kbContent = result.getResult().toString();\n",
    "\n",
    "        // var gsonList = new Gson().fromJson(kbContent, JsonArray.class);\n",
    "\n",
    "\n",
    "        Gson gson = new Gson();\n",
    "\n",
    "        List<KBInfo> kbResult = gson.fromJson(kbContent, new TypeToken<List<KBInfo>>(){}.getType());\n",
    "\n",
    "        //val kbResult = Gson().fromJson(json, Array<KBInfo>::class.java)\n",
    "\n",
    "        for (KBInfo info : kbResult) {\n",
    "                // System.out.printf(info.kb);\n",
    "                kbList.add(info);\n",
    "        }\n",
    "\n",
    "        // System.out.println(String.valueOf(kbContent.indexOf(\"[\")));\n",
    "        \n",
    "\n",
    "    }\n",
    "}"
   ]
  },
  {
   "cell_type": "code",
   "execution_count": 16,
   "metadata": {},
   "outputs": [
    {
     "name": "stdout",
     "output_type": "stream",
     "text": [
      "Introduction to machine learning\n",
      "History of machine learning\n",
      "# Techniques of Machine Learning\n",
      "Introducing ML for Beginners\n",
      "The difference between AI and ML\n",
      "What you'll learn in this course\n",
      "What you won't learn in this course\n",
      "Why study Machine Learning\n",
      "Decide if AI is the right approach\n",
      "Collect and prepare data\n",
      "Train your model\n",
      "Evaluate your model\n",
      "Tune the hyperparameters\n",
      "Test the model in the real world\n",
      "Alan Turing and the Turing test\n",
      "The Dartmouth Summer Research Project on AI\n",
      "The golden years of AI\n",
      "The AI winter\n",
      "Resurgence and fall of AI for expert systems\n",
      "Growth in AI driven by more data and more powerful hardware\n",
      "Big Data\n",
      "Increased awareness of ethical and responsible AI\n"
     ]
    }
   ],
   "source": [
    "\n",
    "for (KBInfo info : kbList) {\n",
    "    System.out.println(info.kb);\n",
    "}"
   ]
  },
  {
   "cell_type": "code",
   "execution_count": 17,
   "metadata": {},
   "outputs": [],
   "source": [
    "List<String> kbResultList =  new ArrayList<String>();\n",
    "\n",
    "for (KBInfo info : kbList) {\n",
    "    kbResultList.add(info.kb+\"-\"+info.content);\n",
    "}"
   ]
  },
  {
   "cell_type": "code",
   "execution_count": 18,
   "metadata": {},
   "outputs": [],
   "source": [
    "\n",
    "import com.azure.ai.openai.models.EmbeddingItem;\n",
    "import com.azure.ai.openai.models.Embeddings;\n",
    "import com.azure.ai.openai.models.EmbeddingsOptions;"
   ]
  },
  {
   "cell_type": "code",
   "execution_count": 19,
   "metadata": {},
   "outputs": [],
   "source": [
    "EmbeddingsOptions embeddingsOptions = new EmbeddingsOptions(\n",
    "    kbResultList);\n",
    "\n",
    "var embeddings = client.getEmbeddings(\"Your Azure OpenAI Service text-ada-002 deployment name\", embeddingsOptions);"
   ]
  },
  {
   "cell_type": "code",
   "execution_count": 20,
   "metadata": {},
   "outputs": [],
   "source": [
    "// for(EmbeddingItem item : embeddings.block().getData()){\n",
    "//     System.out.printf(\"Index: %d.%n\", item.getPromptIndex());\n",
    "//     for (Double embedding : item.getEmbedding()) {\n",
    "//         System.out.printf(\"%f;\", embedding);\n",
    "//     }\n",
    "// }\n"
   ]
  },
  {
   "cell_type": "code",
   "execution_count": 21,
   "metadata": {},
   "outputs": [],
   "source": [
    "import io.qdrant.client.QdrantClient;\n",
    "import io.qdrant.client.QdrantGrpcClient;\n",
    "import io.qdrant.client.grpc.Collections.Distance;\n",
    "import io.qdrant.client.grpc.Collections.VectorParams;\n",
    "import java.util.concurrent.ExecutionException;"
   ]
  },
  {
   "cell_type": "code",
   "execution_count": 22,
   "metadata": {},
   "outputs": [],
   "source": [
    "import io.qdrant.client.grpc.Collections.VectorParams;"
   ]
  },
  {
   "cell_type": "code",
   "execution_count": 23,
   "metadata": {},
   "outputs": [],
   "source": [
    "import static io.qdrant.client.PointIdFactory.id;\n",
    "import static io.qdrant.client.ValueFactory.value;\n",
    "import static io.qdrant.client.VectorsFactory.vectors;"
   ]
  },
  {
   "cell_type": "code",
   "execution_count": 24,
   "metadata": {},
   "outputs": [],
   "source": [
    "QdrantClient qdrantClient = \n",
    "  new QdrantClient(QdrantGrpcClient.newBuilder(\"localhost\",6334,false).build());"
   ]
  },
  {
   "cell_type": "code",
   "execution_count": 25,
   "metadata": {},
   "outputs": [
    {
     "data": {
      "text/plain": [
       "result: true\n",
       "time: 0.949627227\n"
      ]
     },
     "execution_count": 25,
     "metadata": {},
     "output_type": "execute_result"
    }
   ],
   "source": [
    "qdrantClient.createCollectionAsync(\"kb_collection\", VectorParams.newBuilder().setDistance(Distance.Cosine).setSize(1536).build()).get();"
   ]
  },
  {
   "cell_type": "code",
   "execution_count": 26,
   "metadata": {},
   "outputs": [],
   "source": [
    "import io.qdrant.client.grpc.Points.PointStruct;\n",
    "import io.qdrant.client.grpc.Points.UpdateResult;\n",
    "import static io.qdrant.client.VectorsFactory.vectors;\n"
   ]
  },
  {
   "cell_type": "code",
   "execution_count": 27,
   "metadata": {},
   "outputs": [],
   "source": [
    "import java.util.List;\n",
    "import java.util.Map;"
   ]
  },
  {
   "cell_type": "code",
   "execution_count": 28,
   "metadata": {},
   "outputs": [
    {
     "name": "stdout",
     "output_type": "stream",
     "text": [
      "Index: 0.\n",
      "Index: 1.\n",
      "Index: 2.\n",
      "Index: 3.\n",
      "Index: 4.\n",
      "Index: 5.\n",
      "Index: 6.\n",
      "Index: 7.\n",
      "Index: 8.\n",
      "Index: 9.\n",
      "Index: 10.\n",
      "Index: 11.\n",
      "Index: 12.\n",
      "Index: 13.\n",
      "Index: 14.\n",
      "Index: 15.\n",
      "Index: 16.\n",
      "Index: 17.\n",
      "Index: 18.\n",
      "Index: 19.\n",
      "Index: 20.\n",
      "Index: 21.\n"
     ]
    }
   ],
   "source": [
    "List<List<Float>> points =  new ArrayList<List<Float>>();\n",
    "\n",
    "for(EmbeddingItem item : embeddings.block().getData()){\n",
    "    System.out.printf(\"Index: %d.%n\", item.getPromptIndex());\n",
    "    List<Float> values = new ArrayList<Float>();\n",
    "    for (Double embedding : item.getEmbedding()) {\n",
    "        values.add(embedding.floatValue());\n",
    "    }\n",
    "    points.add(values);\n",
    "}"
   ]
  },
  {
   "cell_type": "code",
   "execution_count": 31,
   "metadata": {},
   "outputs": [
    {
     "data": {
      "text/plain": [
       "Introduction to machine learning-The course on classical machine learning for beginners provides an introduction to machine learning. It covers the core concepts of machine learning, the history of ML, ML and fairness, regression ML techniques, classification ML techniques, clustering ML techniques, natural language processing ML techniques, time series forecasting ML techniques, reinforcement learning, and real-world applications for ML. The curriculum does not cover deep learning, neural networks, or AI. Machine learning automates the process of pattern-discovery and has applications in various fields such as healthcare, finance, and weather prediction. Understanding the basics of machine learning is becoming essential across domains due to its widespread adoption."
      ]
     },
     "execution_count": 31,
     "metadata": {},
     "output_type": "execute_result"
    }
   ],
   "source": [
    "kbResultList.get(0)"
   ]
  },
  {
   "cell_type": "code",
   "execution_count": 33,
   "metadata": {},
   "outputs": [],
   "source": [
    "\n",
    "List<PointStruct> tmp = new ArrayList<PointStruct>();\n",
    "int i = 1;\n",
    "\n",
    "for (List<Float> embedding : points) {\n",
    "\n",
    "    var pp =  \n",
    "            PointStruct.newBuilder()\n",
    "            .setId(id(i))\n",
    "            .setVectors(vectors(embedding))\n",
    "            .putAllPayload(Map.of(\"info\", value(kbResultList.get(i-1))))\n",
    "            .build();\n",
    "\n",
    "    i += 1;\n",
    "\n",
    "    tmp.add(pp);\n",
    "\n",
    "    \n",
    "\n",
    "}"
   ]
  },
  {
   "cell_type": "code",
   "execution_count": 34,
   "metadata": {},
   "outputs": [],
   "source": [
    "var updateResult = qdrantClient.upsertAsync(\"kb_collection\", tmp).get();"
   ]
  },
  {
   "cell_type": "code",
   "execution_count": 35,
   "metadata": {},
   "outputs": [
    {
     "data": {
      "text/plain": [
       "operation_id: 0\n",
       "status: Completed\n"
      ]
     },
     "execution_count": 35,
     "metadata": {},
     "output_type": "execute_result"
    }
   ],
   "source": [
    "updateResult"
   ]
  },
  {
   "cell_type": "code",
   "execution_count": 36,
   "metadata": {},
   "outputs": [],
   "source": [
    "EmbeddingsOptions qembeddingsOptions = new EmbeddingsOptions(\n",
    "    Arrays.asList(\"what is different from AI and ML\"));\n",
    "\n",
    "var qembeddings = client.getEmbeddings(\"Your Azure OpenAI Service text-ada-002 deployment name\", qembeddingsOptions);"
   ]
  },
  {
   "cell_type": "code",
   "execution_count": 37,
   "metadata": {},
   "outputs": [],
   "source": [
    "List<Float> qe = new ArrayList<Float>();\n",
    "\n",
    "\n",
    "for(EmbeddingItem item : qembeddings.block().getData()){\n",
    "    // System.out.printf(\"Index: %d.%n\", item.getPromptIndex());\n",
    "    for (Double embedding : item.getEmbedding()) {\n",
    "        // System.out.printf(\"%f;\", embedding);\n",
    "        qe.add(embedding.floatValue());\n",
    "    }\n",
    "}"
   ]
  },
  {
   "cell_type": "code",
   "execution_count": 38,
   "metadata": {},
   "outputs": [],
   "source": [
    "import io.qdrant.client.grpc.Points.ScoredPoint;\n",
    "\n",
    "import io.qdrant.client.grpc.Points.SearchPoints;\n",
    "import static io.qdrant.client.WithPayloadSelectorFactory.enable;"
   ]
  },
  {
   "cell_type": "code",
   "execution_count": 39,
   "metadata": {},
   "outputs": [],
   "source": [
    "var  answer =\n",
    "qdrantClient\n",
    "        .searchAsync(\n",
    "            SearchPoints.newBuilder()\n",
    "                .setCollectionName(\"kb_collection\")\n",
    "                .addAllVector(qe)\n",
    "                .setWithPayload(enable(true))\n",
    "                .setLimit(1)\n",
    "                .build()).get();"
   ]
  },
  {
   "cell_type": "code",
   "execution_count": 40,
   "metadata": {},
   "outputs": [
    {
     "data": {
      "text/plain": [
       "[id {\n",
       "  num: 5\n",
       "}\n",
       "payload {\n",
       "  key: \"info\"\n",
       "  value {\n",
       "    string_value: \"The difference between AI and ML-AI is a science of\\ngetting machines to accomplish tasks\\nthat typically require human level\\nintelligence.\"\n",
       "  }\n",
       "}\n",
       "score: 0.89992046\n",
       "]"
      ]
     },
     "execution_count": 40,
     "metadata": {},
     "output_type": "execute_result"
    }
   ],
   "source": [
    "answer"
   ]
  }
 ],
 "metadata": {
  "kernelspec": {
   "display_name": "Java (Rapaio Jupyter)",
   "language": "java",
   "name": "rapaio-jupyter-kernel"
  },
  "language_info": {
   "codemirror_mode": "java",
   "file_extension": ".jshell",
   "mimetype": "text/x-java-source",
   "name": "java",
   "nbconvert_exporter": "script",
   "pygments_lexer": "java",
   "version": "21.0.2+13-LTS"
  }
 },
 "nbformat": 4,
 "nbformat_minor": 2
}
